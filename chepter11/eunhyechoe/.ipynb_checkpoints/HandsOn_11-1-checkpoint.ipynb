{
 "cells": [
  {
   "cell_type": "markdown",
   "metadata": {},
   "source": [
    "# 11장\n",
    "### 11-1, 11-3\n",
    "----\n",
    "\n",
    "### Optimizer, Activation, Initializer를 조합하여 모델을 만들고 평가해 봅니다.\n",
    "\n",
    "* 수렴이 언제부터 시작되나요? \n",
    "\n",
    "* 모델의 성능은 어떤가요?\n",
    "\n",
    "* 전체 훈련 속도는 몇인가요? \n",
    "\n",
    "----"
   ]
  },
  {
   "cell_type": "code",
   "execution_count": 3,
   "metadata": {},
   "outputs": [
    {
     "data": {
      "text/plain": [
       "('2.1.0', '2.2.4-tf')"
      ]
     },
     "execution_count": 3,
     "metadata": {},
     "output_type": "execute_result"
    }
   ],
   "source": [
    "tf.__version__, tf.keras.__version__"
   ]
  },
  {
   "cell_type": "markdown",
   "metadata": {},
   "source": [
    "# [ 0 ] \n",
    "\n",
    "* CIFAR10 데이터셋을 불러오세요. keras.datasets.cifar10.load_ data()를 사용하여 데이터를 적재할 수 있습니다.\n",
    "* 데이터셋의 차원을 확인해봅시다.\n",
    "* Dense layer을 사용하기 때문에 데이터의 shape을 1차원으로 바꿔야 합니다. ( np.reshape(데이터, (바꿀shape) ) 사용)"
   ]
  },
  {
   "cell_type": "code",
   "execution_count": 2,
   "metadata": {},
   "outputs": [],
   "source": [
    "import tensorflow as tf\n",
    "import numpy as np"
   ]
  },
  {
   "cell_type": "code",
   "execution_count": 4,
   "metadata": {},
   "outputs": [],
   "source": [
    "# load\n",
    "cifar10 = tf.keras.datasets.cifar10.load_data()"
   ]
  },
  {
   "cell_type": "code",
   "execution_count": 5,
   "metadata": {},
   "outputs": [],
   "source": [
    "(x_train, y_train), (x_test, y_test) = cifar10"
   ]
  },
  {
   "cell_type": "code",
   "execution_count": 6,
   "metadata": {},
   "outputs": [],
   "source": [
    "# reshape\n",
    "x_train.shape, x_test.shape\n",
    "\n",
    "x_train = np.reshape(x_train, (50000,32*32*3))\n",
    "x_test = np.reshape(x_test, (10000, 32*32*3))"
   ]
  },
  {
   "cell_type": "code",
   "execution_count": 7,
   "metadata": {},
   "outputs": [
    {
     "data": {
      "text/plain": [
       "((50000, 3072), (10000, 3072))"
      ]
     },
     "execution_count": 7,
     "metadata": {},
     "output_type": "execute_result"
    }
   ],
   "source": [
    "x_train.shape, x_test.shape"
   ]
  },
  {
   "cell_type": "code",
   "execution_count": 8,
   "metadata": {},
   "outputs": [],
   "source": [
    "# normalization\n",
    "\n",
    "pixel_means = x_train.mean(axis=0, keepdims=True)\n",
    "pixel_stds = x_train.std(axis=0, keepdims=True)\n",
    "x_train_scaled = (x_train - pixel_means) / pixel_stds\n",
    "x_test_scaled = (x_train - pixel_means) / pixel_stds\n"
   ]
  },
  {
   "cell_type": "markdown",
   "metadata": {},
   "source": [
    "----\n",
    "# [ 1 ]\n",
    "\n",
    "* **100**개의 뉴런을 가진 **은닉층** **20개**를 쌓아 심층 신경망을 만듭니다.\n",
    "* 모든 은닉층의 initializer는 **He 초기화**를, 활성화 함수는 **Relu** 함수를 사용합니다.\n",
    "* 출력층은 **10개**의 뉴런과 **소프트맥스 활성화** 함수를 사용합니다. \n",
    "* 출력층에서는 Initializer를 사용하지 않습니다. "
   ]
  },
  {
   "cell_type": "code",
   "execution_count": 7,
   "metadata": {},
   "outputs": [],
   "source": [
    "def make_model_1():\n",
    "    model = tf.keras.models.Sequential()\n",
    "    model.add(tf.keras.layers.InputLayer((32*32*3)))\n",
    "\n",
    "    for _ in range(20):\n",
    "        model.add(tf.keras.layers.Dense(100, activation=\"relu\", kernel_initializer='he_normal'))  \n",
    "    model.add(tf.keras.layers.Dense(10, activation=\"softmax\")) # 출력층은 initializer 없음\n",
    "    return model"
   ]
  },
  {
   "cell_type": "markdown",
   "metadata": {},
   "source": [
    "## 1-1 )\n",
    "\n",
    "* 옵티마이저는 **Adam**를 사용합니다. \n",
    "* 모델 저장 이름은 **1-1_model.h5** 로 합니다."
   ]
  },
  {
   "cell_type": "code",
   "execution_count": 8,
   "metadata": {
    "scrolled": true
   },
   "outputs": [
    {
     "name": "stdout",
     "output_type": "stream",
     "text": [
      "Train on 40000 samples, validate on 10000 samples\n",
      "Epoch 1/20\n",
      "40000/40000 [==============================] - 6s 156us/sample - loss: 3.7047 - accuracy: 0.1576 - val_loss: 2.0824 - val_accuracy: 0.1919\n",
      "Epoch 2/20\n",
      "40000/40000 [==============================] - 6s 139us/sample - loss: 2.0804 - accuracy: 0.2007 - val_loss: 1.9931 - val_accuracy: 0.2461\n",
      "Epoch 3/20\n",
      "40000/40000 [==============================] - 6s 141us/sample - loss: 1.9944 - accuracy: 0.2470 - val_loss: 1.9568 - val_accuracy: 0.2536\n",
      "Epoch 4/20\n",
      "40000/40000 [==============================] - 6s 141us/sample - loss: 1.9372 - accuracy: 0.2735 - val_loss: 1.9074 - val_accuracy: 0.2820\n",
      "Epoch 5/20\n",
      "40000/40000 [==============================] - 6s 138us/sample - loss: 1.9162 - accuracy: 0.2859 - val_loss: 1.8968 - val_accuracy: 0.2935\n",
      "Epoch 6/20\n",
      "40000/40000 [==============================] - 6s 145us/sample - loss: 1.9018 - accuracy: 0.2846 - val_loss: 1.9128 - val_accuracy: 0.2780\n",
      "Epoch 7/20\n",
      "40000/40000 [==============================] - 6s 142us/sample - loss: 1.8710 - accuracy: 0.2990 - val_loss: 1.8843 - val_accuracy: 0.3089\n",
      "Epoch 8/20\n",
      "40000/40000 [==============================] - 6s 139us/sample - loss: 1.8689 - accuracy: 0.3004 - val_loss: 1.8994 - val_accuracy: 0.2945\n",
      "Epoch 9/20\n",
      "40000/40000 [==============================] - 6s 145us/sample - loss: 1.8525 - accuracy: 0.3065 - val_loss: 1.8658 - val_accuracy: 0.3044\n",
      "Epoch 10/20\n",
      "40000/40000 [==============================] - 6s 138us/sample - loss: 1.8505 - accuracy: 0.3119 - val_loss: 1.8650 - val_accuracy: 0.3145\n",
      "Epoch 11/20\n",
      "40000/40000 [==============================] - 6s 139us/sample - loss: 1.8155 - accuracy: 0.3241 - val_loss: 1.8770 - val_accuracy: 0.3025\n",
      "Epoch 12/20\n",
      "40000/40000 [==============================] - 6s 145us/sample - loss: 1.8007 - accuracy: 0.3341 - val_loss: 1.8846 - val_accuracy: 0.3116\n",
      "Epoch 13/20\n",
      "40000/40000 [==============================] - 6s 141us/sample - loss: 1.7770 - accuracy: 0.3401 - val_loss: 1.8194 - val_accuracy: 0.3401\n",
      "Epoch 14/20\n",
      "40000/40000 [==============================] - 6s 140us/sample - loss: 1.7604 - accuracy: 0.3516 - val_loss: 1.7772 - val_accuracy: 0.3407\n",
      "Epoch 15/20\n",
      "40000/40000 [==============================] - 6s 145us/sample - loss: 1.7582 - accuracy: 0.3525 - val_loss: 1.8119 - val_accuracy: 0.3244\n",
      "Epoch 16/20\n",
      "40000/40000 [==============================] - 6s 144us/sample - loss: 1.7325 - accuracy: 0.3594 - val_loss: 1.7939 - val_accuracy: 0.3437\n",
      "Epoch 17/20\n",
      "40000/40000 [==============================] - 5s 135us/sample - loss: 1.7222 - accuracy: 0.3639 - val_loss: 1.7309 - val_accuracy: 0.3624\n",
      "Epoch 18/20\n",
      "40000/40000 [==============================] - 5s 129us/sample - loss: 1.7049 - accuracy: 0.3729 - val_loss: 1.8099 - val_accuracy: 0.3429\n",
      "Epoch 19/20\n",
      "40000/40000 [==============================] - 5s 129us/sample - loss: 1.6978 - accuracy: 0.3762 - val_loss: 1.7294 - val_accuracy: 0.3732\n",
      "Epoch 20/20\n",
      "40000/40000 [==============================] - 5s 128us/sample - loss: 1.6932 - accuracy: 0.3820 - val_loss: 1.7694 - val_accuracy: 0.3527\n"
     ]
    },
    {
     "data": {
      "text/plain": [
       "<tensorflow.python.keras.callbacks.History at 0x14da55290>"
      ]
     },
     "execution_count": 8,
     "metadata": {},
     "output_type": "execute_result"
    }
   ],
   "source": [
    "#모델 생성\n",
    "model=make_model_1()\n",
    "\n",
    "# 모델 컴파일\n",
    "model.compile(loss=\"sparse_categorical_crossentropy\",\n",
    "              optimizer=tf.keras.optimizers.Adam(),\n",
    "              metrics=[\"accuracy\"])\n",
    "\n",
    "# 콜백 선언\n",
    "model_checkpoint_cb = tf.keras.callbacks.ModelCheckpoint(\"1-1_model.h5\", save_best_only=True)\n",
    "\n",
    "# 모델 훈련\n",
    "model.fit(x_train, y_train, \n",
    "          validation_split=0.2,\n",
    "          epochs=20,\n",
    "          callbacks=[model_checkpoint_cb])"
   ]
  },
  {
   "cell_type": "markdown",
   "metadata": {},
   "source": [
    "## 1-2 )\n",
    "\n",
    "* 옵티마이저는 **Adam**을 사용합니다. Adam의 파라미터 **beta1**, **beta2**를 0.9, 0.999로 초기화 합니다. \n",
    "* 콜백 ModelCheckpoint의 저장 이름을 **1-2_model.h5**로 바꿉니다."
   ]
  },
  {
   "cell_type": "code",
   "execution_count": 26,
   "metadata": {},
   "outputs": [
    {
     "name": "stdout",
     "output_type": "stream",
     "text": [
      "Train on 40000 samples, validate on 10000 samples\n",
      "Epoch 1/20\n",
      "40000/40000 [==============================] - 6s 158us/sample - loss: 3.9140 - accuracy: 0.1826 - val_loss: 2.0482 - val_accuracy: 0.2285\n",
      "Epoch 2/20\n",
      "40000/40000 [==============================] - 5s 136us/sample - loss: 2.0171 - accuracy: 0.2433 - val_loss: 1.9472 - val_accuracy: 0.2769\n",
      "Epoch 3/20\n",
      "40000/40000 [==============================] - 6s 141us/sample - loss: 1.9742 - accuracy: 0.2643 - val_loss: 1.8985 - val_accuracy: 0.2928\n",
      "Epoch 4/20\n",
      "40000/40000 [==============================] - 6s 146us/sample - loss: 1.9327 - accuracy: 0.2816 - val_loss: 1.9767 - val_accuracy: 0.2758\n",
      "Epoch 5/20\n",
      "40000/40000 [==============================] - 6s 146us/sample - loss: 1.9090 - accuracy: 0.2951 - val_loss: 1.9556 - val_accuracy: 0.3047\n",
      "Epoch 6/20\n",
      "40000/40000 [==============================] - 6s 141us/sample - loss: 1.8918 - accuracy: 0.3061 - val_loss: 1.8896 - val_accuracy: 0.3023\n",
      "Epoch 7/20\n",
      "40000/40000 [==============================] - 5s 132us/sample - loss: 1.8754 - accuracy: 0.3111 - val_loss: 1.8403 - val_accuracy: 0.3267\n",
      "Epoch 8/20\n",
      "40000/40000 [==============================] - 5s 129us/sample - loss: 1.8499 - accuracy: 0.3235 - val_loss: 1.8305 - val_accuracy: 0.3291\n",
      "Epoch 9/20\n",
      "40000/40000 [==============================] - 5s 130us/sample - loss: 1.8298 - accuracy: 0.3336 - val_loss: 1.8230 - val_accuracy: 0.3335\n",
      "Epoch 10/20\n",
      "40000/40000 [==============================] - 5s 129us/sample - loss: 1.8096 - accuracy: 0.3388 - val_loss: 1.8219 - val_accuracy: 0.3444\n",
      "Epoch 11/20\n",
      "40000/40000 [==============================] - 5s 132us/sample - loss: 1.7944 - accuracy: 0.3476 - val_loss: 1.7646 - val_accuracy: 0.3700\n",
      "Epoch 12/20\n",
      "40000/40000 [==============================] - 5s 128us/sample - loss: 1.7821 - accuracy: 0.3545 - val_loss: 1.7707 - val_accuracy: 0.3693\n",
      "Epoch 13/20\n",
      "40000/40000 [==============================] - 5s 128us/sample - loss: 1.7536 - accuracy: 0.3604 - val_loss: 1.7726 - val_accuracy: 0.3482\n",
      "Epoch 14/20\n",
      "40000/40000 [==============================] - 5s 131us/sample - loss: 1.7367 - accuracy: 0.3698 - val_loss: 1.7514 - val_accuracy: 0.3664\n",
      "Epoch 15/20\n",
      "40000/40000 [==============================] - 5s 131us/sample - loss: 1.7171 - accuracy: 0.3771 - val_loss: 1.7114 - val_accuracy: 0.3826\n",
      "Epoch 16/20\n",
      "40000/40000 [==============================] - 5s 129us/sample - loss: 1.7088 - accuracy: 0.3786 - val_loss: 1.7414 - val_accuracy: 0.3751\n",
      "Epoch 17/20\n",
      "40000/40000 [==============================] - 5s 131us/sample - loss: 1.7058 - accuracy: 0.3829 - val_loss: 1.7357 - val_accuracy: 0.3817\n",
      "Epoch 18/20\n",
      "40000/40000 [==============================] - 5s 128us/sample - loss: 1.6890 - accuracy: 0.3923 - val_loss: 1.7745 - val_accuracy: 0.3826\n",
      "Epoch 19/20\n",
      "40000/40000 [==============================] - 5s 133us/sample - loss: 1.6630 - accuracy: 0.4024 - val_loss: 1.6974 - val_accuracy: 0.3961\n",
      "Epoch 20/20\n",
      "40000/40000 [==============================] - 5s 134us/sample - loss: 1.6627 - accuracy: 0.4033 - val_loss: 1.7378 - val_accuracy: 0.3821\n"
     ]
    },
    {
     "data": {
      "text/plain": [
       "<tensorflow.python.keras.callbacks.History at 0x1654e75d0>"
      ]
     },
     "execution_count": 26,
     "metadata": {},
     "output_type": "execute_result"
    }
   ],
   "source": [
    "# 모델 생성\n",
    "model = make_model_1()\n",
    "\n",
    "# 모델 컴파일\n",
    "model.compile(loss=\"sparse_categorical_crossentropy\",\n",
    "              optimizer=tf.keras.optimizers.Adam(beta_1=0.9, beta_2=0.999),\n",
    "              metrics=[\"accuracy\"])\n",
    "\n",
    "\n",
    "# 콜백 선언\n",
    "model_checkpoint_cb = tf.keras.callbacks.ModelCheckpoint(\"1-2_model.h5\", save_best_only=True)\n",
    "\n",
    "\n",
    "# 모델 훈련\n",
    "model.fit(x_train, y_train, \n",
    "          validation_split=0.2,\n",
    "          epochs=20,\n",
    "          callbacks=[model_checkpoint_cb])\n"
   ]
  },
  {
   "cell_type": "markdown",
   "metadata": {},
   "source": [
    "----\n",
    "# [ 2 ]\n",
    "\n",
    "* **100**개의 뉴런을 가진 **은닉층** **20개**를 쌓아 심층 신경망을 만듭니다.\n",
    "* 모든 은닉층의 initializer는 **He 초기화**를, 활성화 함수는 **Elu** 함수를 사용합니다.\n",
    "* 출력층은 **10개**의 뉴런과 **소프트맥스 활성화** 함수를 사용합니다. \n",
    "* 출력층에서는 **initializer**를 사용하지 않습니다. "
   ]
  },
  {
   "cell_type": "code",
   "execution_count": 13,
   "metadata": {},
   "outputs": [],
   "source": [
    "def make_model_2():\n",
    "    model = tf.keras.models.Sequential()\n",
    "    model.add(tf.keras.layers.InputLayer(32*32*3))\n",
    "    \n",
    "    for _ in range(20):\n",
    "        model.add(tf.keras.layers.Dense(100, activation=\"elu\", kernel_initializer=\"he_normal\"))\n",
    "    model.add(tf.keras.layers.Dense(10, activation=\"softmax\"))\n",
    "    \n",
    "    return model"
   ]
  },
  {
   "cell_type": "markdown",
   "metadata": {},
   "source": [
    "## 2-1 )\n",
    "\n",
    "* 옵티마이저는 **Adam**을 사용합니다. Adam의 파라미터 **beta1**, **beta2**를 0.9, 0.999로 초기화 합니다. \n",
    "* 콜백 ModelCheckpoint의 저장 이름을 **2-1_model.h5**로 바꿉니다."
   ]
  },
  {
   "cell_type": "code",
   "execution_count": 14,
   "metadata": {},
   "outputs": [
    {
     "name": "stdout",
     "output_type": "stream",
     "text": [
      "Train on 40000 samples, validate on 10000 samples\n",
      "Epoch 1/20\n",
      "40000/40000 [==============================] - 6s 156us/sample - loss: 1.9437 - accuracy: 0.2963 - val_loss: 1.8318 - val_accuracy: 0.3434\n",
      "Epoch 2/20\n",
      "40000/40000 [==============================] - 6s 157us/sample - loss: 1.7268 - accuracy: 0.3814 - val_loss: 1.7619 - val_accuracy: 0.3827\n",
      "Epoch 3/20\n",
      "40000/40000 [==============================] - 6s 153us/sample - loss: 1.6472 - accuracy: 0.4114 - val_loss: 1.6658 - val_accuracy: 0.4042\n",
      "Epoch 4/20\n",
      "40000/40000 [==============================] - 6s 147us/sample - loss: 1.5918 - accuracy: 0.4337 - val_loss: 1.6216 - val_accuracy: 0.4255\n",
      "Epoch 5/20\n",
      "40000/40000 [==============================] - 6s 149us/sample - loss: 1.5439 - accuracy: 0.4523 - val_loss: 1.6110 - val_accuracy: 0.4344\n",
      "Epoch 6/20\n",
      "40000/40000 [==============================] - 6s 142us/sample - loss: 1.4964 - accuracy: 0.4699 - val_loss: 1.5959 - val_accuracy: 0.4508\n",
      "Epoch 7/20\n",
      "40000/40000 [==============================] - 6s 140us/sample - loss: 1.4635 - accuracy: 0.4855 - val_loss: 1.5517 - val_accuracy: 0.4560\n",
      "Epoch 8/20\n",
      "40000/40000 [==============================] - 6s 140us/sample - loss: 1.4250 - accuracy: 0.4968 - val_loss: 1.6008 - val_accuracy: 0.4488\n",
      "Epoch 9/20\n",
      "40000/40000 [==============================] - 6s 140us/sample - loss: 1.5719 - accuracy: 0.4555 - val_loss: 1.5858 - val_accuracy: 0.4407\n",
      "Epoch 10/20\n",
      "40000/40000 [==============================] - 6s 141us/sample - loss: 1.4320 - accuracy: 0.4893 - val_loss: 1.5371 - val_accuracy: 0.4587\n",
      "Epoch 11/20\n",
      "40000/40000 [==============================] - 6s 144us/sample - loss: 1.3740 - accuracy: 0.5142 - val_loss: 1.5241 - val_accuracy: 0.4657\n",
      "Epoch 12/20\n",
      "40000/40000 [==============================] - 6s 143us/sample - loss: 1.3374 - accuracy: 0.5270 - val_loss: 1.5369 - val_accuracy: 0.4729\n",
      "Epoch 13/20\n",
      "40000/40000 [==============================] - 6s 148us/sample - loss: 1.3120 - accuracy: 0.5398 - val_loss: 1.5103 - val_accuracy: 0.4639\n",
      "Epoch 14/20\n",
      "40000/40000 [==============================] - 6s 144us/sample - loss: 1.2929 - accuracy: 0.5458 - val_loss: 1.5275 - val_accuracy: 0.4648\n",
      "Epoch 15/20\n",
      "40000/40000 [==============================] - 6s 138us/sample - loss: 1.2709 - accuracy: 0.5530 - val_loss: 1.5287 - val_accuracy: 0.4760\n",
      "Epoch 16/20\n",
      "40000/40000 [==============================] - 6s 153us/sample - loss: 1.2451 - accuracy: 0.5658 - val_loss: 1.6375 - val_accuracy: 0.4628\n",
      "Epoch 17/20\n",
      "40000/40000 [==============================] - 6s 143us/sample - loss: 1.2363 - accuracy: 0.5684 - val_loss: 1.5830 - val_accuracy: 0.4702\n",
      "Epoch 18/20\n",
      "40000/40000 [==============================] - 6s 147us/sample - loss: 1.2076 - accuracy: 0.5754 - val_loss: 1.5719 - val_accuracy: 0.4805\n",
      "Epoch 19/20\n",
      "40000/40000 [==============================] - 6s 147us/sample - loss: 1.7556 - accuracy: 0.4701 - val_loss: 1.6112 - val_accuracy: 0.4279\n",
      "Epoch 20/20\n",
      "40000/40000 [==============================] - 7s 167us/sample - loss: 1.3719 - accuracy: 0.5095 - val_loss: 1.5791 - val_accuracy: 0.4609\n"
     ]
    },
    {
     "data": {
      "text/plain": [
       "<tensorflow.python.keras.callbacks.History at 0x152573b50>"
      ]
     },
     "execution_count": 14,
     "metadata": {},
     "output_type": "execute_result"
    }
   ],
   "source": [
    "# 모델 생성\n",
    "model = make_model_2()\n",
    "\n",
    "# 모델 컴파일\n",
    "model.compile(loss=\"sparse_categorical_crossentropy\",\n",
    "             optimizer=tf.keras.optimizers.Adam(beta_1=0.9, beta_2=0.999),\n",
    "             metrics=[\"accuracy\"])\n",
    "\n",
    "# 콜백 선언\n",
    "model_checkpoint_cb = tf.keras.callbacks.ModelCheckpoint(\"2-1_model.h5\", save_best_only=True)\n",
    "\n",
    "# 모델 훈련\n",
    "model.fit(x_train_scaled, y_train, \n",
    "          validation_split=0.2,\n",
    "          epochs=20,\n",
    "          callbacks=[model_checkpoint_cb])"
   ]
  },
  {
   "cell_type": "markdown",
   "metadata": {},
   "source": [
    "## 2-2 )\n",
    "\n",
    "* 옵티마이저는 **Nadam**을 사용합니다. Ndam의 학습률을 **5e-5** 로 초기화합니다\n",
    "* 콜백 ModelCheckpoint의 저장 이름을 **2-2_model.h5**로 바꿉니다."
   ]
  },
  {
   "cell_type": "code",
   "execution_count": 16,
   "metadata": {},
   "outputs": [
    {
     "name": "stdout",
     "output_type": "stream",
     "text": [
      "Train on 40000 samples, validate on 10000 samples\n",
      "Epoch 1/20\n",
      "40000/40000 [==============================] - 13s 313us/sample - loss: 2.2349 - accuracy: 0.2355 - val_loss: 1.9332 - val_accuracy: 0.3055\n",
      "Epoch 2/20\n",
      "40000/40000 [==============================] - 11s 282us/sample - loss: 1.8214 - accuracy: 0.3445 - val_loss: 1.7829 - val_accuracy: 0.3659\n",
      "Epoch 3/20\n",
      "40000/40000 [==============================] - 11s 286us/sample - loss: 1.6843 - accuracy: 0.3994 - val_loss: 1.7033 - val_accuracy: 0.3882\n",
      "Epoch 4/20\n",
      "40000/40000 [==============================] - 11s 283us/sample - loss: 1.5906 - accuracy: 0.4340 - val_loss: 1.6702 - val_accuracy: 0.4069\n",
      "Epoch 5/20\n",
      "40000/40000 [==============================] - 11s 270us/sample - loss: 1.5103 - accuracy: 0.4598 - val_loss: 1.6295 - val_accuracy: 0.4298\n",
      "Epoch 6/20\n",
      "40000/40000 [==============================] - 11s 267us/sample - loss: 1.4456 - accuracy: 0.4866 - val_loss: 1.6076 - val_accuracy: 0.4263\n",
      "Epoch 7/20\n",
      "40000/40000 [==============================] - 11s 271us/sample - loss: 1.3867 - accuracy: 0.5082 - val_loss: 1.5972 - val_accuracy: 0.4407\n",
      "Epoch 8/20\n",
      "40000/40000 [==============================] - 11s 283us/sample - loss: 1.3350 - accuracy: 0.5240 - val_loss: 1.6028 - val_accuracy: 0.4484\n",
      "Epoch 9/20\n",
      "40000/40000 [==============================] - 14s 360us/sample - loss: 1.2874 - accuracy: 0.5439 - val_loss: 1.5918 - val_accuracy: 0.4549\n",
      "Epoch 10/20\n",
      "40000/40000 [==============================] - 13s 317us/sample - loss: 1.2400 - accuracy: 0.5580 - val_loss: 1.6168 - val_accuracy: 0.4508\n",
      "Epoch 11/20\n",
      "40000/40000 [==============================] - 13s 322us/sample - loss: 1.1990 - accuracy: 0.5767 - val_loss: 1.6430 - val_accuracy: 0.4536\n",
      "Epoch 12/20\n",
      "40000/40000 [==============================] - 12s 294us/sample - loss: 1.1603 - accuracy: 0.5890 - val_loss: 1.6217 - val_accuracy: 0.4524\n",
      "Epoch 13/20\n",
      "40000/40000 [==============================] - 11s 278us/sample - loss: 1.1180 - accuracy: 0.6045 - val_loss: 1.6606 - val_accuracy: 0.4510\n",
      "Epoch 14/20\n",
      "40000/40000 [==============================] - 11s 269us/sample - loss: 1.0810 - accuracy: 0.6181 - val_loss: 1.6728 - val_accuracy: 0.4483\n",
      "Epoch 15/20\n",
      "40000/40000 [==============================] - 10s 247us/sample - loss: 1.0448 - accuracy: 0.6309 - val_loss: 1.7298 - val_accuracy: 0.4471\n",
      "Epoch 16/20\n",
      "40000/40000 [==============================] - 10s 258us/sample - loss: 1.0092 - accuracy: 0.6436 - val_loss: 1.7463 - val_accuracy: 0.4478\n",
      "Epoch 17/20\n",
      "40000/40000 [==============================] - 13s 326us/sample - loss: 0.9731 - accuracy: 0.6563 - val_loss: 1.7468 - val_accuracy: 0.4461\n",
      "Epoch 18/20\n",
      "40000/40000 [==============================] - 12s 307us/sample - loss: 0.9391 - accuracy: 0.6682 - val_loss: 1.7986 - val_accuracy: 0.4502\n",
      "Epoch 19/20\n",
      "40000/40000 [==============================] - 11s 281us/sample - loss: 0.9075 - accuracy: 0.6799 - val_loss: 1.8241 - val_accuracy: 0.4461\n",
      "Epoch 20/20\n",
      "40000/40000 [==============================] - 11s 267us/sample - loss: 0.8765 - accuracy: 0.6907 - val_loss: 1.8564 - val_accuracy: 0.4458\n"
     ]
    },
    {
     "data": {
      "text/plain": [
       "<tensorflow.python.keras.callbacks.History at 0x1530e9990>"
      ]
     },
     "execution_count": 16,
     "metadata": {},
     "output_type": "execute_result"
    }
   ],
   "source": [
    "# 모델 생성\n",
    "model = make_model_2()\n",
    "\n",
    "# 모델 컴파일\n",
    "model.compile(loss=\"sparse_categorical_crossentropy\",\n",
    "             optimizer=tf.keras.optimizers.Nadam(learning_rate = 5e-5),\n",
    "             metrics=[\"accuracy\"])\n",
    "\n",
    "# 콜백 선언\n",
    "model_checkpoint_cb = tf.keras.callbacks.ModelCheckpoint(\"2-2_model.h5\", save_best_only=True)\n",
    "\n",
    "# 모델 훈련\n",
    "model.fit(x_train_scaled, y_train, \n",
    "          validation_split=0.2,\n",
    "          epochs=20,\n",
    "          callbacks=[model_checkpoint_cb])"
   ]
  },
  {
   "cell_type": "markdown",
   "metadata": {},
   "source": [
    "----\n",
    "# [  3 ] \n",
    "\n",
    "* **100**개의 뉴런을 가진 **은닉층** **20개**를 쌓아 심층 신경망을 만듭니다.\n",
    "* 모든 은닉층의 initializer는 **He 초기화**를, 활성화 함수는 **Elu** 함수를 사용합니다.\n",
    "* 모든 은닉층의 다음층에서 BatchNormaliztion을 수행합니다. \n",
    "* 출력층은 **10개**의 뉴런과 **소프트맥스 활성화** 함수를 사용합니다. \n",
    "* 출력층에서는 **initializer**를 사용하지 않습니다. \n",
    "* 출력층 다음층에서는 BatchNormalization을 수행하지 않습니다."
   ]
  },
  {
   "cell_type": "code",
   "execution_count": 17,
   "metadata": {},
   "outputs": [],
   "source": [
    "def make_model_3():\n",
    "    model = tf.keras.models.Sequential()\n",
    "    model.add(tf.keras.layers.InputLayer(32*32*3))\n",
    "    \n",
    "    for _ in range(20):\n",
    "        model.add(tf.keras.layers.Dense(100, activation=\"elu\", kernel_initializer=\"he_normal\"))  \n",
    "        model.add(tf.keras.layers.BatchNormalization())\n",
    "    model.add(tf.keras.layers.Dense(10, activation=\"softmax\"))\n",
    "    return model"
   ]
  },
  {
   "cell_type": "markdown",
   "metadata": {},
   "source": [
    "* 옵티마이저는 **Nadam**을 사용합니다. Ndam의 학습률을 **5e-5** 로 초기화합니다\n",
    "* 콜백 ModelCheckpoint의 저장 이름을 **3_model.h5**로 바꿉니다."
   ]
  },
  {
   "cell_type": "code",
   "execution_count": 18,
   "metadata": {},
   "outputs": [
    {
     "name": "stdout",
     "output_type": "stream",
     "text": [
      "Train on 40000 samples, validate on 10000 samples\n",
      "Epoch 1/20\n",
      "40000/40000 [==============================] - 22s 557us/sample - loss: 2.2561 - accuracy: 0.2072 - val_loss: 1.9859 - val_accuracy: 0.2838\n",
      "Epoch 2/20\n",
      "40000/40000 [==============================] - 16s 392us/sample - loss: 1.9329 - accuracy: 0.3004 - val_loss: 1.8276 - val_accuracy: 0.3435\n",
      "Epoch 3/20\n",
      "40000/40000 [==============================] - 16s 389us/sample - loss: 1.8270 - accuracy: 0.3419 - val_loss: 1.7407 - val_accuracy: 0.3767\n",
      "Epoch 4/20\n",
      "40000/40000 [==============================] - 16s 390us/sample - loss: 1.7597 - accuracy: 0.3700 - val_loss: 1.6861 - val_accuracy: 0.4014\n",
      "Epoch 5/20\n",
      "40000/40000 [==============================] - 16s 392us/sample - loss: 1.7032 - accuracy: 0.3909 - val_loss: 1.6359 - val_accuracy: 0.4179\n",
      "Epoch 6/20\n",
      "40000/40000 [==============================] - 16s 393us/sample - loss: 1.6523 - accuracy: 0.4072 - val_loss: 1.6043 - val_accuracy: 0.4341\n",
      "Epoch 7/20\n",
      "40000/40000 [==============================] - 17s 424us/sample - loss: 1.6188 - accuracy: 0.4212 - val_loss: 1.5710 - val_accuracy: 0.4422\n",
      "Epoch 8/20\n",
      "40000/40000 [==============================] - 17s 420us/sample - loss: 1.5903 - accuracy: 0.4313 - val_loss: 1.5418 - val_accuracy: 0.4473\n",
      "Epoch 9/20\n",
      "40000/40000 [==============================] - 17s 426us/sample - loss: 1.5564 - accuracy: 0.4473 - val_loss: 1.5363 - val_accuracy: 0.4586\n",
      "Epoch 10/20\n",
      "40000/40000 [==============================] - 17s 430us/sample - loss: 1.5306 - accuracy: 0.4556 - val_loss: 1.5144 - val_accuracy: 0.4634\n",
      "Epoch 11/20\n",
      "40000/40000 [==============================] - 16s 407us/sample - loss: 1.5043 - accuracy: 0.4642 - val_loss: 1.4935 - val_accuracy: 0.4716\n",
      "Epoch 12/20\n",
      "40000/40000 [==============================] - 16s 409us/sample - loss: 1.4857 - accuracy: 0.4737 - val_loss: 1.4764 - val_accuracy: 0.4805\n",
      "Epoch 13/20\n",
      "40000/40000 [==============================] - 16s 398us/sample - loss: 1.4612 - accuracy: 0.4815 - val_loss: 1.4754 - val_accuracy: 0.4800\n",
      "Epoch 14/20\n",
      "40000/40000 [==============================] - 15s 385us/sample - loss: 1.4393 - accuracy: 0.4892 - val_loss: 1.4680 - val_accuracy: 0.4840\n",
      "Epoch 15/20\n",
      "40000/40000 [==============================] - 15s 386us/sample - loss: 1.4285 - accuracy: 0.4908 - val_loss: 1.4547 - val_accuracy: 0.4892\n",
      "Epoch 16/20\n",
      "40000/40000 [==============================] - 16s 396us/sample - loss: 1.4061 - accuracy: 0.5010 - val_loss: 1.4464 - val_accuracy: 0.4888\n",
      "Epoch 17/20\n",
      "40000/40000 [==============================] - 16s 391us/sample - loss: 1.3927 - accuracy: 0.5027 - val_loss: 1.4474 - val_accuracy: 0.4966\n",
      "Epoch 18/20\n",
      "40000/40000 [==============================] - 16s 395us/sample - loss: 1.3780 - accuracy: 0.5074 - val_loss: 1.4451 - val_accuracy: 0.4913\n",
      "Epoch 19/20\n",
      "40000/40000 [==============================] - 16s 391us/sample - loss: 1.3621 - accuracy: 0.5166 - val_loss: 1.4337 - val_accuracy: 0.4936\n",
      "Epoch 20/20\n",
      "40000/40000 [==============================] - 15s 386us/sample - loss: 1.3478 - accuracy: 0.5230 - val_loss: 1.4276 - val_accuracy: 0.4973\n"
     ]
    },
    {
     "data": {
      "text/plain": [
       "<tensorflow.python.keras.callbacks.History at 0x151ec6d50>"
      ]
     },
     "execution_count": 18,
     "metadata": {},
     "output_type": "execute_result"
    }
   ],
   "source": [
    "# 모델 생성\n",
    "model = make_model_3()\n",
    "\n",
    "# 모델 컴파일\n",
    "model.compile(loss=\"sparse_categorical_crossentropy\",\n",
    "             optimizer=tf.keras.optimizers.Nadam(learning_rate = 5e-5),\n",
    "             metrics=[\"accuracy\"])\n",
    "\n",
    "# 콜백 선언\n",
    "model_checkpoint_cb = tf.keras.callbacks.ModelCheckpoint(\"3_model.h5\", save_best_only=True)\n",
    "\n",
    "# 모델 훈련\n",
    "model.fit(x_train_scaled, y_train, \n",
    "          validation_split=0.2,\n",
    "          epochs=20,\n",
    "          callbacks=[model_checkpoint_cb])"
   ]
  },
  {
   "cell_type": "markdown",
   "metadata": {},
   "source": [
    "----\n",
    "# [  4 ] \n",
    "\n",
    "* **100**개의 뉴런을 가진 **은닉층** **20개**를 쌓아 심층 신경망을 만듭니다.\n",
    "* 모든 은닉층의 initializer는 **르쿤 초기화**를, 활성화 함수는 **Selu** 함수를 사용합니다.\n",
    "* 출력층은 **10개**의 뉴런과 **소프트맥스 활성화** 함수를 사용합니다. \n",
    "* 출력층에서는 **initializer**를 사용하지 않습니다."
   ]
  },
  {
   "cell_type": "code",
   "execution_count": 19,
   "metadata": {},
   "outputs": [],
   "source": [
    "def make_model_4():\n",
    "    \n",
    "    model = tf.keras.models.Sequential()\n",
    "    model.add(tf.keras.layers.InputLayer(32*32*3))\n",
    "    \n",
    "    for _ in range(20):\n",
    "        model.add(tf.keras.layers.Dense(100, activation=\"selu\", kernel_initializer=\"lecun_normal\"))  \n",
    "    model.add(tf.keras.layers.Dense(10, activation=\"softmax\"))\n",
    "    \n",
    "    return model"
   ]
  },
  {
   "cell_type": "markdown",
   "metadata": {},
   "source": [
    "* 옵티마이저는 **Nadam**을 사용합니다. Ndam의 학습률을 **5e-5** 로 초기화합니다\n",
    "* 콜백 ModelCheckpoint의 저장 이름을 **4_model.h5**로 바꿉니다."
   ]
  },
  {
   "cell_type": "code",
   "execution_count": 20,
   "metadata": {},
   "outputs": [
    {
     "name": "stdout",
     "output_type": "stream",
     "text": [
      "Train on 40000 samples, validate on 10000 samples\n",
      "Epoch 1/20\n",
      "40000/40000 [==============================] - 12s 312us/sample - loss: 1.8725 - accuracy: 0.3264 - val_loss: 1.7501 - val_accuracy: 0.3788\n",
      "Epoch 2/20\n",
      "40000/40000 [==============================] - 10s 259us/sample - loss: 1.6475 - accuracy: 0.4110 - val_loss: 1.6586 - val_accuracy: 0.4067\n",
      "Epoch 3/20\n",
      "40000/40000 [==============================] - 10s 256us/sample - loss: 1.5477 - accuracy: 0.4493 - val_loss: 1.6009 - val_accuracy: 0.4362\n",
      "Epoch 4/20\n",
      "40000/40000 [==============================] - 10s 256us/sample - loss: 1.4778 - accuracy: 0.4729 - val_loss: 1.5799 - val_accuracy: 0.4421\n",
      "Epoch 5/20\n",
      "40000/40000 [==============================] - 10s 258us/sample - loss: 1.4179 - accuracy: 0.4958 - val_loss: 1.5582 - val_accuracy: 0.4505\n",
      "Epoch 6/20\n",
      "40000/40000 [==============================] - 10s 259us/sample - loss: 1.3682 - accuracy: 0.5131 - val_loss: 1.5276 - val_accuracy: 0.4628\n",
      "Epoch 7/20\n",
      "40000/40000 [==============================] - 10s 257us/sample - loss: 1.3205 - accuracy: 0.5286 - val_loss: 1.5348 - val_accuracy: 0.4601\n",
      "Epoch 8/20\n",
      "40000/40000 [==============================] - 11s 264us/sample - loss: 1.2800 - accuracy: 0.5437 - val_loss: 1.5300 - val_accuracy: 0.4695\n",
      "Epoch 9/20\n",
      "40000/40000 [==============================] - 11s 271us/sample - loss: 1.2375 - accuracy: 0.5593 - val_loss: 1.5151 - val_accuracy: 0.4746\n",
      "Epoch 10/20\n",
      "40000/40000 [==============================] - 10s 256us/sample - loss: 1.2001 - accuracy: 0.5732 - val_loss: 1.5365 - val_accuracy: 0.4769\n",
      "Epoch 11/20\n",
      "40000/40000 [==============================] - 11s 271us/sample - loss: 1.1651 - accuracy: 0.5848 - val_loss: 1.5226 - val_accuracy: 0.4747\n",
      "Epoch 12/20\n",
      "40000/40000 [==============================] - 12s 298us/sample - loss: 1.1286 - accuracy: 0.5993 - val_loss: 1.5244 - val_accuracy: 0.4786\n",
      "Epoch 13/20\n",
      "40000/40000 [==============================] - 12s 303us/sample - loss: 1.0967 - accuracy: 0.6085 - val_loss: 1.5575 - val_accuracy: 0.4757\n",
      "Epoch 14/20\n",
      "40000/40000 [==============================] - 12s 293us/sample - loss: 1.0654 - accuracy: 0.6199 - val_loss: 1.5643 - val_accuracy: 0.4780\n",
      "Epoch 15/20\n",
      "40000/40000 [==============================] - 10s 250us/sample - loss: 1.0356 - accuracy: 0.6317 - val_loss: 1.5721 - val_accuracy: 0.4786\n",
      "Epoch 16/20\n",
      "40000/40000 [==============================] - 10s 253us/sample - loss: 1.0072 - accuracy: 0.6405 - val_loss: 1.6073 - val_accuracy: 0.4726\n",
      "Epoch 17/20\n",
      "40000/40000 [==============================] - 10s 252us/sample - loss: 0.9786 - accuracy: 0.6558 - val_loss: 1.6110 - val_accuracy: 0.4761\n",
      "Epoch 18/20\n",
      "40000/40000 [==============================] - 10s 251us/sample - loss: 0.9498 - accuracy: 0.6623 - val_loss: 1.6299 - val_accuracy: 0.4743\n",
      "Epoch 19/20\n",
      "40000/40000 [==============================] - 10s 254us/sample - loss: 0.9175 - accuracy: 0.6769 - val_loss: 1.6870 - val_accuracy: 0.4696\n",
      "Epoch 20/20\n",
      "40000/40000 [==============================] - 10s 256us/sample - loss: 0.8909 - accuracy: 0.6830 - val_loss: 1.6884 - val_accuracy: 0.4699\n"
     ]
    },
    {
     "data": {
      "text/plain": [
       "<tensorflow.python.keras.callbacks.History at 0x151633d90>"
      ]
     },
     "execution_count": 20,
     "metadata": {},
     "output_type": "execute_result"
    }
   ],
   "source": [
    "# 모델 생성\n",
    "model = make_model_4()\n",
    "\n",
    "# 모델 컴파일\n",
    "model.compile(loss=\"sparse_categorical_crossentropy\",\n",
    "             optimizer=tf.keras.optimizers.Nadam(learning_rate = 5e-5),\n",
    "             metrics=[\"accuracy\"])\n",
    "\n",
    "# 콜백 선언\n",
    "model_checkpoint_cb = tf.keras.callbacks.ModelCheckpoint(\"4_model.h5\", save_best_only=True)\n",
    "\n",
    "# 모델 훈련\n",
    "model.fit(x_train_scaled, y_train, \n",
    "          validation_split=0.2,\n",
    "          epochs=20,\n",
    "          callbacks=[model_checkpoint_cb])"
   ]
  },
  {
   "cell_type": "markdown",
   "metadata": {},
   "source": [
    "## [ 5 ]\n",
    "\n",
    "* 지금까지 만든 6가지 모델을 불러오고 평가해 봅니다.\n",
    "* **tf.keras.models.load_model( )**을 통해 모델을 불러올 수 있습니다.\n",
    "* **model.evaluate( )**를 통해 모든 모델을 평가해 봅니다.\n",
    "* 불러오기 전에 아래 셀에서 각 모델의 특징을 간단히 메모하세요"
   ]
  },
  {
   "cell_type": "markdown",
   "metadata": {},
   "source": [
    "* model_11:\n",
    "* model_12:\n",
    "* model_21:\n",
    "* model_22:\n",
    "* model_3:\n",
    "* model_4:"
   ]
  },
  {
   "cell_type": "code",
   "execution_count": 21,
   "metadata": {},
   "outputs": [],
   "source": [
    "# 모델 불러오기\n",
    "\n",
    "model_11 = tf.keras.models.load_model(\"1-1_model.h5\")\n",
    "model_12 = tf.keras.models.load_model(\"1-2_model.h5\")\n",
    "model_21 = tf.keras.models.load_model(\"2-1_model.h5\")\n",
    "model_22 = tf.keras.models.load_model(\"2-2_model.h5\")\n",
    "model_3 = tf.keras.models.load_model(\"3_model.h5\")\n",
    "model_4 = tf.keras.models.load_model(\"4_model.h5\")\n"
   ]
  },
  {
   "cell_type": "code",
   "execution_count": 22,
   "metadata": {},
   "outputs": [
    {
     "name": "stdout",
     "output_type": "stream",
     "text": [
      "10000/10000 [==============================] - 1s 69us/sample - loss: 1.7151 - accuracy: 0.3827\n",
      "10000/10000 [==============================] - 1s 67us/sample - loss: 1.6623 - accuracy: 0.4098\n",
      "10000/10000 [==============================] - 1s 72us/sample - loss: 47.6213 - accuracy: 0.2102\n",
      "10000/10000 [==============================] - 1s 73us/sample - loss: 48.3240 - accuracy: 0.1446\n",
      "10000/10000 [==============================] - 1s 115us/sample - loss: 15.3509 - accuracy: 0.1093\n",
      "10000/10000 [==============================] - 1s 70us/sample - loss: 2.9788 - accuracy: 0.1050\n"
     ]
    },
    {
     "data": {
      "text/plain": [
       "[2.978796997451782, 0.105]"
      ]
     },
     "execution_count": 22,
     "metadata": {},
     "output_type": "execute_result"
    }
   ],
   "source": [
    "# 모델 평가\n",
    "\n",
    "model_11.evaluate(x_test, y_test)\n",
    "model_12.evaluate(x_test, y_test)\n",
    "model_21.evaluate(x_test, y_test)\n",
    "model_22.evaluate(x_test, y_test)\n",
    "model_3.evaluate(x_test, y_test)\n",
    "model_4.evaluate(x_test, y_test)"
   ]
  }
 ],
 "metadata": {
  "kernelspec": {
   "display_name": "Python 3",
   "language": "python",
   "name": "python3"
  },
  "language_info": {
   "codemirror_mode": {
    "name": "ipython",
    "version": 3
   },
   "file_extension": ".py",
   "mimetype": "text/x-python",
   "name": "python",
   "nbconvert_exporter": "python",
   "pygments_lexer": "ipython3",
   "version": "3.7.7"
  },
  "toc": {
   "base_numbering": 1,
   "nav_menu": {},
   "number_sections": true,
   "sideBar": true,
   "skip_h1_title": false,
   "title_cell": "Table of Contents",
   "title_sidebar": "Contents",
   "toc_cell": false,
   "toc_position": {},
   "toc_section_display": true,
   "toc_window_display": false
  },
  "varInspector": {
   "cols": {
    "lenName": 16,
    "lenType": 16,
    "lenVar": 40
   },
   "kernels_config": {
    "python": {
     "delete_cmd_postfix": "",
     "delete_cmd_prefix": "del ",
     "library": "var_list.py",
     "varRefreshCmd": "print(var_dic_list())"
    },
    "r": {
     "delete_cmd_postfix": ") ",
     "delete_cmd_prefix": "rm(",
     "library": "var_list.r",
     "varRefreshCmd": "cat(var_dic_list()) "
    }
   },
   "types_to_exclude": [
    "module",
    "function",
    "builtin_function_or_method",
    "instance",
    "_Feature"
   ],
   "window_display": false
  }
 },
 "nbformat": 4,
 "nbformat_minor": 4
}
