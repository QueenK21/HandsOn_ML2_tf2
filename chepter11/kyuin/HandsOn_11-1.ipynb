{
 "cells": [
  {
   "cell_type": "markdown",
   "metadata": {},
   "source": [
    "# 11장\n",
    "### 11-1, 11-3\n",
    "----\n",
    "\n",
    "### Optimizer, Activation, Initializer를 조합하여 모델을 만들고 평가해 봅니다.\n",
    "\n",
    "* 수렴이 언제부터 시작되나요? \n",
    "\n",
    "* 모델의 성능은 어떤가요?\n",
    "\n",
    "* 전체 훈련 속도는 몇인가요? \n",
    "\n",
    "----"
   ]
  },
  {
   "cell_type": "markdown",
   "metadata": {},
   "source": [
    "# [ 0 ] \n",
    "\n",
    "* CIFAR10 데이터셋을 불러오세요. keras.datasets.cifar10.load_ data()를 사용하여 데이터를 적재할 수 있습니다.\n",
    "* 데이터셋의 차원을 확인해봅시다.\n",
    "* Dense layer을 사용하기 때문에 데이터의 shape을 1차원으로 바꿔야 합니다. ( np.reshape(데이터, (바꿀shape) ) 사용)"
   ]
  },
  {
   "cell_type": "code",
   "execution_count": 1,
   "metadata": {},
   "outputs": [],
   "source": [
    "import tensorflow as tf\n",
    "import numpy as np"
   ]
  },
  {
   "cell_type": "code",
   "execution_count": 2,
   "metadata": {},
   "outputs": [],
   "source": [
    "# load\n",
    "(x_train, y_train), (x_test, y_test) = tf.keras.datasets.cifar10.load_data()\n",
    "\n"
   ]
  },
  {
   "cell_type": "code",
   "execution_count": 3,
   "metadata": {},
   "outputs": [
    {
     "data": {
      "text/plain": [
       "(50000, 32, 32, 3)"
      ]
     },
     "execution_count": 3,
     "metadata": {},
     "output_type": "execute_result"
    }
   ],
   "source": [
    "x_train.shape"
   ]
  },
  {
   "cell_type": "code",
   "execution_count": 4,
   "metadata": {},
   "outputs": [
    {
     "data": {
      "text/plain": [
       "(50000, 3072)"
      ]
     },
     "execution_count": 4,
     "metadata": {},
     "output_type": "execute_result"
    }
   ],
   "source": [
    "# reshape\n",
    "\n",
    "x_train = np.reshape(x_train, (50000, 32*32*3))  \n",
    "x_train.shape"
   ]
  },
  {
   "cell_type": "code",
   "execution_count": 5,
   "metadata": {},
   "outputs": [
    {
     "data": {
      "text/plain": [
       "(10000, 3072)"
      ]
     },
     "execution_count": 5,
     "metadata": {},
     "output_type": "execute_result"
    }
   ],
   "source": [
    "x_test.shape\n",
    "x_test = np.reshape(x_test, (10000, 32*32*3))\n",
    "x_test.shape"
   ]
  },
  {
   "cell_type": "code",
   "execution_count": 6,
   "metadata": {},
   "outputs": [],
   "source": [
    "# normalization\n",
    "\n",
    "pixel_means = x_train.mean(axis=0, keepdims=True)\n",
    "pixel_stds = x_train.std(axis=0, keepdims=True)\n",
    "x_train_scaled = (x_train - pixel_means) / pixel_stds\n",
    "x_test_scaled = (x_test - pixel_means) / pixel_stds\n"
   ]
  },
  {
   "cell_type": "markdown",
   "metadata": {},
   "source": [
    "----\n",
    "# [ 1 ]\n",
    "\n",
    "* **100**개의 뉴런을 가진 **은닉층** **20개**를 쌓아 심층 신경망을 만듭니다.\n",
    "* 모든 은닉층의 initializer는 **He 초기화**를, 활성화 함수는 **Relu** 함수를 사용합니다.\n",
    "* 출력층은 **10개**의 뉴런과 **소프트맥스 활성화** 함수를 사용합니다. \n",
    "* 출력층에서는 Initializer를 사용하지 않습니다. "
   ]
  },
  {
   "cell_type": "code",
   "execution_count": 7,
   "metadata": {},
   "outputs": [],
   "source": [
    "def make_model_1():\n",
    "    model = tf.keras.models.Sequential()\n",
    "    model.add(tf.keras.layers.InputLayer((32*32*3)))\n",
    "\n",
    "    for _ in range(20):\n",
    "        model.add(tf.keras.layers.Dense(100, activation=\"relu\", kernel_initializer='he_normal'))  \n",
    "    model.add(tf.keras.layers.Dense(10, activation=\"softmax\"))\n",
    "    return model"
   ]
  },
  {
   "cell_type": "markdown",
   "metadata": {},
   "source": [
    "## 1-1 )\n",
    "\n",
    "* 옵티마이저는 **Adam**를 사용합니다. \n",
    "* 모델 저장 이름은 **1-1_model.h5** 로 합니다."
   ]
  },
  {
   "cell_type": "code",
   "execution_count": 8,
   "metadata": {},
   "outputs": [
    {
     "name": "stdout",
     "output_type": "stream",
     "text": [
      "Epoch 1/20\n",
      "1250/1250 [==============================] - 4s 3ms/step - loss: 1.9611 - accuracy: 0.2625 - val_loss: 1.8540 - val_accuracy: 0.2952\n",
      "Epoch 2/20\n",
      "1250/1250 [==============================] - 4s 3ms/step - loss: 1.7890 - accuracy: 0.3367 - val_loss: 1.8087 - val_accuracy: 0.3352\n",
      "Epoch 3/20\n",
      "1250/1250 [==============================] - 4s 3ms/step - loss: 1.7324 - accuracy: 0.3584 - val_loss: 1.7769 - val_accuracy: 0.3468\n",
      "Epoch 4/20\n",
      "1250/1250 [==============================] - 4s 3ms/step - loss: 1.6841 - accuracy: 0.3793 - val_loss: 1.8019 - val_accuracy: 0.3156\n",
      "Epoch 5/20\n",
      "1250/1250 [==============================] - 4s 3ms/step - loss: 1.6475 - accuracy: 0.3898 - val_loss: 1.6795 - val_accuracy: 0.3900\n",
      "Epoch 6/20\n",
      "1250/1250 [==============================] - 4s 3ms/step - loss: 1.6144 - accuracy: 0.4085 - val_loss: 1.6416 - val_accuracy: 0.4002\n",
      "Epoch 7/20\n",
      "1250/1250 [==============================] - 4s 3ms/step - loss: 1.5785 - accuracy: 0.4241 - val_loss: 1.6252 - val_accuracy: 0.4130\n",
      "Epoch 8/20\n",
      "1250/1250 [==============================] - 4s 3ms/step - loss: 1.5433 - accuracy: 0.4389 - val_loss: 1.6051 - val_accuracy: 0.4275\n",
      "Epoch 9/20\n",
      "1250/1250 [==============================] - 4s 3ms/step - loss: 1.5339 - accuracy: 0.4456 - val_loss: 1.5963 - val_accuracy: 0.4298\n",
      "Epoch 10/20\n",
      "1250/1250 [==============================] - 4s 3ms/step - loss: 1.5016 - accuracy: 0.4598 - val_loss: 1.5995 - val_accuracy: 0.4388\n",
      "Epoch 11/20\n",
      "1250/1250 [==============================] - 4s 3ms/step - loss: 1.4874 - accuracy: 0.4631 - val_loss: 1.6001 - val_accuracy: 0.4403\n",
      "Epoch 12/20\n",
      "1250/1250 [==============================] - 4s 3ms/step - loss: 1.4491 - accuracy: 0.4815 - val_loss: 1.5756 - val_accuracy: 0.4456\n",
      "Epoch 13/20\n",
      "1250/1250 [==============================] - 4s 3ms/step - loss: 1.4301 - accuracy: 0.4901 - val_loss: 1.5860 - val_accuracy: 0.4486\n",
      "Epoch 14/20\n",
      "1250/1250 [==============================] - 4s 3ms/step - loss: 1.4138 - accuracy: 0.4955 - val_loss: 1.6217 - val_accuracy: 0.4362\n",
      "Epoch 15/20\n",
      "1250/1250 [==============================] - 4s 3ms/step - loss: 1.3822 - accuracy: 0.5109 - val_loss: 1.5420 - val_accuracy: 0.4645\n",
      "Epoch 16/20\n",
      "1250/1250 [==============================] - 4s 3ms/step - loss: 1.3554 - accuracy: 0.5193 - val_loss: 1.5748 - val_accuracy: 0.4647\n",
      "Epoch 17/20\n",
      "1250/1250 [==============================] - 4s 3ms/step - loss: 1.3461 - accuracy: 0.5234 - val_loss: 1.6267 - val_accuracy: 0.4415\n",
      "Epoch 18/20\n",
      "1250/1250 [==============================] - 4s 3ms/step - loss: 1.3170 - accuracy: 0.5353 - val_loss: 1.5469 - val_accuracy: 0.4638\n",
      "Epoch 19/20\n",
      "1250/1250 [==============================] - 4s 3ms/step - loss: 1.3002 - accuracy: 0.5442 - val_loss: 1.5370 - val_accuracy: 0.4735\n",
      "Epoch 20/20\n",
      "1250/1250 [==============================] - 4s 3ms/step - loss: 1.2768 - accuracy: 0.5483 - val_loss: 1.5357 - val_accuracy: 0.4831\n"
     ]
    },
    {
     "data": {
      "text/plain": [
       "<tensorflow.python.keras.callbacks.History at 0x7fa07d58a940>"
      ]
     },
     "execution_count": 8,
     "metadata": {},
     "output_type": "execute_result"
    }
   ],
   "source": [
    "#모델 생성\n",
    "model=make_model_1()\n",
    "\n",
    "# 모델 컴파일\n",
    "model.compile(loss=\"sparse_categorical_crossentropy\",\n",
    "              optimizer=tf.keras.optimizers.Adam(),\n",
    "              metrics=[\"accuracy\"])\n",
    "\n",
    "# 콜백 선언\n",
    "model_checkpoint_cb = tf.keras.callbacks.ModelCheckpoint(\"1-1_model.h5\", save_best_only=True)\n",
    "\n",
    "# 모델 훈련\n",
    "model.fit(x_train_scaled, y_train, \n",
    "          validation_split=0.2,\n",
    "          epochs=20,\n",
    "          callbacks=[model_checkpoint_cb])"
   ]
  },
  {
   "cell_type": "markdown",
   "metadata": {},
   "source": [
    "## 1-2 )\n",
    "\n",
    "* 옵티마이저는 **Adam**을 사용합니다. Adam의 파라미터 **beta1**, **beta2**를 0.9, 0.999로 초기화 합니다. \n",
    "* 콜백 ModelCheckpoint의 저장 이름을 **1-2_model.h5**로 바꿉니다."
   ]
  },
  {
   "cell_type": "code",
   "execution_count": 9,
   "metadata": {},
   "outputs": [
    {
     "name": "stdout",
     "output_type": "stream",
     "text": [
      "Epoch 1/20\n",
      "1250/1250 [==============================] - 5s 4ms/step - loss: 1.9819 - accuracy: 0.2456 - val_loss: 1.9165 - val_accuracy: 0.2662\n",
      "Epoch 2/20\n",
      "1250/1250 [==============================] - 4s 4ms/step - loss: 1.8187 - accuracy: 0.3042 - val_loss: 1.7865 - val_accuracy: 0.3171\n",
      "Epoch 3/20\n",
      "1250/1250 [==============================] - 4s 3ms/step - loss: 1.7562 - accuracy: 0.3415 - val_loss: 1.7345 - val_accuracy: 0.3433\n",
      "Epoch 4/20\n",
      "1250/1250 [==============================] - 4s 3ms/step - loss: 1.6858 - accuracy: 0.3746 - val_loss: 1.7957 - val_accuracy: 0.3426\n",
      "Epoch 5/20\n",
      "1250/1250 [==============================] - 4s 3ms/step - loss: 1.6458 - accuracy: 0.3900 - val_loss: 1.6691 - val_accuracy: 0.3811\n",
      "Epoch 6/20\n",
      "1250/1250 [==============================] - 4s 3ms/step - loss: 1.5893 - accuracy: 0.4164 - val_loss: 1.6541 - val_accuracy: 0.3919\n",
      "Epoch 7/20\n",
      "1250/1250 [==============================] - 4s 3ms/step - loss: 1.5515 - accuracy: 0.4354 - val_loss: 1.6587 - val_accuracy: 0.4135\n",
      "Epoch 8/20\n",
      "1250/1250 [==============================] - 4s 3ms/step - loss: 1.5128 - accuracy: 0.4522 - val_loss: 1.6218 - val_accuracy: 0.4143\n",
      "Epoch 9/20\n",
      "1250/1250 [==============================] - 4s 4ms/step - loss: 1.4817 - accuracy: 0.4655 - val_loss: 1.5831 - val_accuracy: 0.4350\n",
      "Epoch 10/20\n",
      "1250/1250 [==============================] - 4s 3ms/step - loss: 1.4514 - accuracy: 0.4774 - val_loss: 1.5804 - val_accuracy: 0.4422\n",
      "Epoch 11/20\n",
      "1250/1250 [==============================] - 4s 3ms/step - loss: 1.4167 - accuracy: 0.4934 - val_loss: 1.5694 - val_accuracy: 0.4464\n",
      "Epoch 12/20\n",
      "1250/1250 [==============================] - 4s 3ms/step - loss: 1.3958 - accuracy: 0.4984 - val_loss: 1.5586 - val_accuracy: 0.4606\n",
      "Epoch 13/20\n",
      "1250/1250 [==============================] - 4s 3ms/step - loss: 1.3648 - accuracy: 0.5087 - val_loss: 1.5716 - val_accuracy: 0.4576\n",
      "Epoch 14/20\n",
      "1250/1250 [==============================] - 4s 3ms/step - loss: 1.3404 - accuracy: 0.5230 - val_loss: 1.5390 - val_accuracy: 0.4725\n",
      "Epoch 15/20\n",
      "1250/1250 [==============================] - 4s 3ms/step - loss: 1.3122 - accuracy: 0.5339 - val_loss: 1.5313 - val_accuracy: 0.4715\n",
      "Epoch 16/20\n",
      "1250/1250 [==============================] - 4s 3ms/step - loss: 1.2834 - accuracy: 0.5436 - val_loss: 1.5445 - val_accuracy: 0.4724\n",
      "Epoch 17/20\n",
      "1250/1250 [==============================] - 4s 3ms/step - loss: 1.2630 - accuracy: 0.5531 - val_loss: 1.5400 - val_accuracy: 0.4745\n",
      "Epoch 18/20\n",
      "1250/1250 [==============================] - 4s 3ms/step - loss: 1.2469 - accuracy: 0.5601 - val_loss: 1.5509 - val_accuracy: 0.4750\n",
      "Epoch 19/20\n",
      "1250/1250 [==============================] - 4s 3ms/step - loss: 1.2263 - accuracy: 0.5645 - val_loss: 1.5306 - val_accuracy: 0.4767\n",
      "Epoch 20/20\n",
      "1250/1250 [==============================] - 4s 3ms/step - loss: 1.2009 - accuracy: 0.5750 - val_loss: 1.6188 - val_accuracy: 0.4636\n"
     ]
    },
    {
     "data": {
      "text/plain": [
       "<tensorflow.python.keras.callbacks.History at 0x7fa07d86cc10>"
      ]
     },
     "execution_count": 9,
     "metadata": {},
     "output_type": "execute_result"
    }
   ],
   "source": [
    "# 모델 생성\n",
    "model=make_model_1()\n",
    "\n",
    "# 모델 컴파일\n",
    "model.compile(loss=\"sparse_categorical_crossentropy\",\n",
    "              optimizer=tf.keras.optimizers.Adam(beta_1 = 0.9, beta_2 = 0.999),\n",
    "              metrics=[\"accuracy\"])\n",
    "\n",
    "# 콜백 선언\n",
    "model_checkpoint_cb = tf.keras.callbacks.ModelCheckpoint(\"1-2_model.h5\", save_best_only=True)\n",
    "\n",
    "\n",
    "# 모델 훈련\n",
    "model.fit(x_train_scaled, y_train, \n",
    "          validation_split=0.2,\n",
    "          epochs=20,\n",
    "          callbacks=[model_checkpoint_cb])\n"
   ]
  },
  {
   "cell_type": "markdown",
   "metadata": {},
   "source": [
    "----\n",
    "# [ 2 ]\n",
    "\n",
    "* **100**개의 뉴런을 가진 **은닉층** **20개**를 쌓아 심층 신경망을 만듭니다.\n",
    "* 모든 은닉층의 initializer는 **He 초기화**를, 활성화 함수는 **Elu** 함수를 사용합니다.\n",
    "* 출력층은 **10개**의 뉴런과 **소프트맥스 활성화** 함수를 사용합니다. \n",
    "* 출력층에서는 **initializer**를 사용하지 않습니다. "
   ]
  },
  {
   "cell_type": "code",
   "execution_count": 10,
   "metadata": {},
   "outputs": [],
   "source": [
    "def make_model_2():\n",
    "\n",
    "    model = tf.keras.models.Sequential()\n",
    "    model.add(tf.keras.layers.InputLayer((32*32*3)))\n",
    "\n",
    "    for _ in range(20):\n",
    "        model.add(tf.keras.layers.Dense(100, activation=\"relu\", kernel_initializer='he_normal'))  \n",
    "    model.add(tf.keras.layers.Dense(10, activation=\"softmax\"))\n",
    "    \n",
    "    return model"
   ]
  },
  {
   "cell_type": "markdown",
   "metadata": {},
   "source": [
    "## 2-1 )\n",
    "\n",
    "* 옵티마이저는 **Adam**을 사용합니다. Adam의 파라미터 **beta1**, **beta2**를 0.9, 0.999로 초기화 합니다. \n",
    "* 콜백 ModelCheckpoint의 저장 이름을 **2-1_model.h5**로 바꿉니다."
   ]
  },
  {
   "cell_type": "code",
   "execution_count": 11,
   "metadata": {},
   "outputs": [
    {
     "name": "stdout",
     "output_type": "stream",
     "text": [
      "Epoch 1/20\n",
      "1250/1250 [==============================] - 4s 3ms/step - loss: 1.9612 - accuracy: 0.2608 - val_loss: 1.8718 - val_accuracy: 0.2720\n",
      "Epoch 2/20\n",
      "1250/1250 [==============================] - 4s 3ms/step - loss: 1.8184 - accuracy: 0.3114 - val_loss: 1.7980 - val_accuracy: 0.3283\n",
      "Epoch 3/20\n",
      "1250/1250 [==============================] - 4s 3ms/step - loss: 1.7519 - accuracy: 0.3489 - val_loss: 1.7362 - val_accuracy: 0.3557\n",
      "Epoch 4/20\n",
      "1250/1250 [==============================] - 4s 3ms/step - loss: 1.6860 - accuracy: 0.3835 - val_loss: 1.7069 - val_accuracy: 0.3974\n",
      "Epoch 5/20\n",
      "1250/1250 [==============================] - 4s 3ms/step - loss: 1.6484 - accuracy: 0.4040 - val_loss: 1.6803 - val_accuracy: 0.3962\n",
      "Epoch 6/20\n",
      "1250/1250 [==============================] - 4s 3ms/step - loss: 1.6027 - accuracy: 0.4205 - val_loss: 1.6415 - val_accuracy: 0.4096\n",
      "Epoch 7/20\n",
      "1250/1250 [==============================] - 4s 3ms/step - loss: 1.5648 - accuracy: 0.4390 - val_loss: 1.6224 - val_accuracy: 0.4272\n",
      "Epoch 8/20\n",
      "1250/1250 [==============================] - 4s 3ms/step - loss: 1.5330 - accuracy: 0.4515 - val_loss: 1.5827 - val_accuracy: 0.4419\n",
      "Epoch 9/20\n",
      "1250/1250 [==============================] - 4s 3ms/step - loss: 1.4949 - accuracy: 0.4687 - val_loss: 1.5879 - val_accuracy: 0.4302\n",
      "Epoch 10/20\n",
      "1250/1250 [==============================] - 4s 3ms/step - loss: 1.4539 - accuracy: 0.4812 - val_loss: 1.5896 - val_accuracy: 0.4360\n",
      "Epoch 11/20\n",
      "1250/1250 [==============================] - 4s 3ms/step - loss: 1.4338 - accuracy: 0.4901 - val_loss: 1.5399 - val_accuracy: 0.4536\n",
      "Epoch 12/20\n",
      "1250/1250 [==============================] - 4s 3ms/step - loss: 1.4016 - accuracy: 0.5024 - val_loss: 1.5491 - val_accuracy: 0.4590\n",
      "Epoch 13/20\n",
      "1250/1250 [==============================] - 4s 3ms/step - loss: 1.3797 - accuracy: 0.5101 - val_loss: 1.5193 - val_accuracy: 0.4697\n",
      "Epoch 14/20\n",
      "1250/1250 [==============================] - 4s 3ms/step - loss: 1.3556 - accuracy: 0.5199 - val_loss: 1.5675 - val_accuracy: 0.4559\n",
      "Epoch 15/20\n",
      "1250/1250 [==============================] - 4s 3ms/step - loss: 1.3487 - accuracy: 0.5211 - val_loss: 1.5487 - val_accuracy: 0.4696\n",
      "Epoch 16/20\n",
      "1250/1250 [==============================] - 4s 3ms/step - loss: 1.3078 - accuracy: 0.5386 - val_loss: 1.5121 - val_accuracy: 0.4720\n",
      "Epoch 17/20\n",
      "1250/1250 [==============================] - 4s 3ms/step - loss: 1.2785 - accuracy: 0.5473 - val_loss: 1.5109 - val_accuracy: 0.4785\n",
      "Epoch 18/20\n",
      "1250/1250 [==============================] - 4s 3ms/step - loss: 1.2716 - accuracy: 0.5505 - val_loss: 1.5200 - val_accuracy: 0.4768\n",
      "Epoch 19/20\n",
      "1250/1250 [==============================] - 4s 3ms/step - loss: 1.2421 - accuracy: 0.5623 - val_loss: 1.5403 - val_accuracy: 0.4780\n",
      "Epoch 20/20\n",
      "1250/1250 [==============================] - 4s 3ms/step - loss: 1.2320 - accuracy: 0.5659 - val_loss: 1.5357 - val_accuracy: 0.4773\n"
     ]
    },
    {
     "data": {
      "text/plain": [
       "<tensorflow.python.keras.callbacks.History at 0x7fa07d4fe220>"
      ]
     },
     "execution_count": 11,
     "metadata": {},
     "output_type": "execute_result"
    }
   ],
   "source": [
    "# 모델 생성\n",
    "model=make_model_2()\n",
    "\n",
    "# 모델 컴파일\n",
    "model.compile(loss=\"sparse_categorical_crossentropy\",\n",
    "              optimizer=tf.keras.optimizers.Adam(beta_1 = 0.9, beta_2 = 0.999),\n",
    "              metrics=[\"accuracy\"])\n",
    "\n",
    "\n",
    "# 콜백 선언\n",
    "model_checkpoint_cb = tf.keras.callbacks.ModelCheckpoint(\"2-1_model.h5\", save_best_only=True)\n",
    "\n",
    "# 모델 훈련\n",
    "model.fit(x_train_scaled, y_train, \n",
    "          validation_split=0.2,\n",
    "          epochs=20,\n",
    "          callbacks=[model_checkpoint_cb])\n"
   ]
  },
  {
   "cell_type": "markdown",
   "metadata": {},
   "source": [
    "## 2-2 )\n",
    "\n",
    "* 옵티마이저는 **Nadam**을 사용합니다. Ndam의 학습률을 **5e-5** 로 초기화합니다\n",
    "* 콜백 ModelCheckpoint의 저장 이름을 **2-2_model.h5**로 바꿉니다."
   ]
  },
  {
   "cell_type": "code",
   "execution_count": 12,
   "metadata": {},
   "outputs": [
    {
     "name": "stdout",
     "output_type": "stream",
     "text": [
      "Epoch 1/20\n",
      "1250/1250 [==============================] - 9s 8ms/step - loss: 2.0219 - accuracy: 0.2486 - val_loss: 1.8481 - val_accuracy: 0.3220\n",
      "Epoch 2/20\n",
      "1250/1250 [==============================] - 9s 7ms/step - loss: 1.7719 - accuracy: 0.3555 - val_loss: 1.7666 - val_accuracy: 0.3532\n",
      "Epoch 3/20\n",
      "1250/1250 [==============================] - 9s 7ms/step - loss: 1.6733 - accuracy: 0.3966 - val_loss: 1.6818 - val_accuracy: 0.3978\n",
      "Epoch 4/20\n",
      "1250/1250 [==============================] - 9s 7ms/step - loss: 1.5997 - accuracy: 0.4267 - val_loss: 1.6521 - val_accuracy: 0.4109\n",
      "Epoch 5/20\n",
      "1250/1250 [==============================] - 9s 7ms/step - loss: 1.5362 - accuracy: 0.4486 - val_loss: 1.6291 - val_accuracy: 0.4214\n",
      "Epoch 6/20\n",
      "1250/1250 [==============================] - 9s 7ms/step - loss: 1.4854 - accuracy: 0.4684 - val_loss: 1.6138 - val_accuracy: 0.4328\n",
      "Epoch 7/20\n",
      "1250/1250 [==============================] - 9s 7ms/step - loss: 1.4412 - accuracy: 0.4862 - val_loss: 1.5778 - val_accuracy: 0.4443\n",
      "Epoch 8/20\n",
      "1250/1250 [==============================] - 9s 7ms/step - loss: 1.4024 - accuracy: 0.5002 - val_loss: 1.5787 - val_accuracy: 0.4471\n",
      "Epoch 9/20\n",
      "1250/1250 [==============================] - 9s 7ms/step - loss: 1.3636 - accuracy: 0.5133 - val_loss: 1.5720 - val_accuracy: 0.4468\n",
      "Epoch 10/20\n",
      "1250/1250 [==============================] - 9s 7ms/step - loss: 1.3305 - accuracy: 0.5274 - val_loss: 1.5693 - val_accuracy: 0.4480\n",
      "Epoch 11/20\n",
      "1250/1250 [==============================] - 9s 7ms/step - loss: 1.3002 - accuracy: 0.5362 - val_loss: 1.5750 - val_accuracy: 0.4524\n",
      "Epoch 12/20\n",
      "1250/1250 [==============================] - 9s 7ms/step - loss: 1.2653 - accuracy: 0.5501 - val_loss: 1.5670 - val_accuracy: 0.4561\n",
      "Epoch 13/20\n",
      "1250/1250 [==============================] - 9s 7ms/step - loss: 1.2386 - accuracy: 0.5577 - val_loss: 1.5781 - val_accuracy: 0.4532\n",
      "Epoch 14/20\n",
      "1250/1250 [==============================] - 9s 7ms/step - loss: 1.2125 - accuracy: 0.5669 - val_loss: 1.6007 - val_accuracy: 0.4510\n",
      "Epoch 15/20\n",
      "1250/1250 [==============================] - 9s 7ms/step - loss: 1.1826 - accuracy: 0.5785 - val_loss: 1.5925 - val_accuracy: 0.4601\n",
      "Epoch 16/20\n",
      "1250/1250 [==============================] - 9s 7ms/step - loss: 1.1565 - accuracy: 0.5885 - val_loss: 1.5953 - val_accuracy: 0.4626\n",
      "Epoch 17/20\n",
      "1250/1250 [==============================] - 9s 7ms/step - loss: 1.1257 - accuracy: 0.5998 - val_loss: 1.6164 - val_accuracy: 0.4583\n",
      "Epoch 18/20\n",
      "1250/1250 [==============================] - 9s 7ms/step - loss: 1.1061 - accuracy: 0.6052 - val_loss: 1.6268 - val_accuracy: 0.4573\n",
      "Epoch 19/20\n",
      "1250/1250 [==============================] - 9s 7ms/step - loss: 1.0815 - accuracy: 0.6153 - val_loss: 1.6418 - val_accuracy: 0.4641\n",
      "Epoch 20/20\n",
      "1250/1250 [==============================] - 9s 7ms/step - loss: 1.0580 - accuracy: 0.6238 - val_loss: 1.6787 - val_accuracy: 0.4574\n"
     ]
    },
    {
     "data": {
      "text/plain": [
       "<tensorflow.python.keras.callbacks.History at 0x7fa0310ded60>"
      ]
     },
     "execution_count": 12,
     "metadata": {},
     "output_type": "execute_result"
    }
   ],
   "source": [
    "# 모델 생성\n",
    "model=make_model_2()\n",
    "\n",
    "# 모델 컴파일\n",
    "model.compile(loss=\"sparse_categorical_crossentropy\",\n",
    "              optimizer=tf.keras.optimizers.Nadam(lr = 5e-5),\n",
    "              metrics=[\"accuracy\"])\n",
    "\n",
    "# 콜백 선언\n",
    "model_checkpoint_cb = tf.keras.callbacks.ModelCheckpoint(\"2-2_model.h5\", save_best_only=True)\n",
    "\n",
    "\n",
    "# 모델 훈련\n",
    "model.fit(x_train_scaled, y_train, \n",
    "          validation_split=0.2,\n",
    "          epochs=20,\n",
    "          callbacks=[model_checkpoint_cb])\n"
   ]
  },
  {
   "cell_type": "markdown",
   "metadata": {},
   "source": [
    "----\n",
    "# [  3 ] \n",
    "\n",
    "* **100**개의 뉴런을 가진 **은닉층** **20개**를 쌓아 심층 신경망을 만듭니다.\n",
    "* 모든 은닉층의 initializer는 **He 초기화**를, 활성화 함수는 **Elu** 함수를 사용합니다.\n",
    "* 모든 은닉층의 다음층에서 BatchNormaliztion을 수행합니다. \n",
    "* 출력층은 **10개**의 뉴런과 **소프트맥스 활성화** 함수를 사용합니다. \n",
    "* 출력층에서는 **initializer**를 사용하지 않습니다. \n",
    "* 출력층 다음층에서는 BatchNormalization을 수행하지 않습니다."
   ]
  },
  {
   "cell_type": "code",
   "execution_count": 13,
   "metadata": {},
   "outputs": [],
   "source": [
    "def make_model_3():\n",
    "\n",
    "    model = tf.keras.models.Sequential()\n",
    "    model.add(tf.keras.layers.InputLayer((32*32*3)))\n",
    "\n",
    "    for _ in range(20):\n",
    "        model.add(tf.keras.layers.Dense(100, activation=\"elu\", kernel_initializer='he_normal'))  \n",
    "        tf.keras.layers.BatchNormalization()\n",
    "    model.add(tf.keras.layers.Dense(10, activation=\"softmax\"))\n",
    "\n",
    "    return model"
   ]
  },
  {
   "cell_type": "markdown",
   "metadata": {},
   "source": [
    "* 옵티마이저는 **Nadam**을 사용합니다. Ndam의 학습률을 **5e-5** 로 초기화합니다\n",
    "* 콜백 ModelCheckpoint의 저장 이름을 **3_model.h5**로 바꿉니다."
   ]
  },
  {
   "cell_type": "code",
   "execution_count": 14,
   "metadata": {},
   "outputs": [
    {
     "name": "stdout",
     "output_type": "stream",
     "text": [
      "Epoch 1/20\n",
      "1250/1250 [==============================] - 9s 7ms/step - loss: 2.0969 - accuracy: 0.2585 - val_loss: 1.8654 - val_accuracy: 0.3194\n",
      "Epoch 2/20\n",
      "1250/1250 [==============================] - 9s 7ms/step - loss: 1.7747 - accuracy: 0.3559 - val_loss: 1.7436 - val_accuracy: 0.3712\n",
      "Epoch 3/20\n",
      "1250/1250 [==============================] - 9s 7ms/step - loss: 1.6510 - accuracy: 0.4064 - val_loss: 1.6728 - val_accuracy: 0.4026\n",
      "Epoch 4/20\n",
      "1250/1250 [==============================] - 9s 7ms/step - loss: 1.5591 - accuracy: 0.4407 - val_loss: 1.6272 - val_accuracy: 0.4203\n",
      "Epoch 5/20\n",
      "1250/1250 [==============================] - 9s 7ms/step - loss: 1.4888 - accuracy: 0.4674 - val_loss: 1.6099 - val_accuracy: 0.4368\n",
      "Epoch 6/20\n",
      "1250/1250 [==============================] - 9s 7ms/step - loss: 1.4263 - accuracy: 0.4904 - val_loss: 1.5877 - val_accuracy: 0.4405\n",
      "Epoch 7/20\n",
      "1250/1250 [==============================] - 9s 7ms/step - loss: 1.3719 - accuracy: 0.5119 - val_loss: 1.6004 - val_accuracy: 0.4381\n",
      "Epoch 8/20\n",
      "1250/1250 [==============================] - 10s 8ms/step - loss: 1.3235 - accuracy: 0.5287 - val_loss: 1.6056 - val_accuracy: 0.4461\n",
      "Epoch 9/20\n",
      "1250/1250 [==============================] - 9s 8ms/step - loss: 1.2749 - accuracy: 0.5487 - val_loss: 1.5869 - val_accuracy: 0.4542\n",
      "Epoch 10/20\n",
      "1250/1250 [==============================] - 9s 7ms/step - loss: 1.2331 - accuracy: 0.5620 - val_loss: 1.6122 - val_accuracy: 0.4519\n",
      "Epoch 11/20\n",
      "1250/1250 [==============================] - 9s 7ms/step - loss: 1.1938 - accuracy: 0.5776 - val_loss: 1.6009 - val_accuracy: 0.4534\n",
      "Epoch 12/20\n",
      "1250/1250 [==============================] - 9s 7ms/step - loss: 1.1544 - accuracy: 0.5919 - val_loss: 1.6220 - val_accuracy: 0.4534\n",
      "Epoch 13/20\n",
      "1250/1250 [==============================] - 9s 8ms/step - loss: 1.1171 - accuracy: 0.6033 - val_loss: 1.6424 - val_accuracy: 0.4512\n",
      "Epoch 14/20\n",
      "1250/1250 [==============================] - 9s 7ms/step - loss: 1.0840 - accuracy: 0.6159 - val_loss: 1.6493 - val_accuracy: 0.4582\n",
      "Epoch 15/20\n",
      "1250/1250 [==============================] - 9s 7ms/step - loss: 1.0450 - accuracy: 0.6316 - val_loss: 1.6841 - val_accuracy: 0.4558\n",
      "Epoch 16/20\n",
      "1250/1250 [==============================] - 9s 8ms/step - loss: 1.0115 - accuracy: 0.6432 - val_loss: 1.6850 - val_accuracy: 0.4558\n",
      "Epoch 17/20\n",
      "1250/1250 [==============================] - 9s 8ms/step - loss: 0.9750 - accuracy: 0.6585 - val_loss: 1.7451 - val_accuracy: 0.4518\n",
      "Epoch 18/20\n",
      "1250/1250 [==============================] - 10s 8ms/step - loss: 0.9427 - accuracy: 0.6680 - val_loss: 1.7830 - val_accuracy: 0.4534\n",
      "Epoch 19/20\n",
      "1250/1250 [==============================] - 9s 8ms/step - loss: 0.9097 - accuracy: 0.6822 - val_loss: 1.8268 - val_accuracy: 0.4490\n",
      "Epoch 20/20\n",
      "1250/1250 [==============================] - 10s 8ms/step - loss: 0.8793 - accuracy: 0.6925 - val_loss: 1.8305 - val_accuracy: 0.4495\n"
     ]
    },
    {
     "data": {
      "text/plain": [
       "<tensorflow.python.keras.callbacks.History at 0x7fa012a57eb0>"
      ]
     },
     "execution_count": 14,
     "metadata": {},
     "output_type": "execute_result"
    }
   ],
   "source": [
    "# 모델 생성\n",
    "model=make_model_3()\n",
    "\n",
    "# 모델 컴파일\n",
    "model.compile(loss=\"sparse_categorical_crossentropy\",\n",
    "              optimizer=tf.keras.optimizers.Nadam(lr = 5e-5),\n",
    "              metrics=[\"accuracy\"])\n",
    "\n",
    "# 콜백 선언\n",
    "model_checkpoint_cb = tf.keras.callbacks.ModelCheckpoint(\"3_model.h5\", save_best_only=True)\n",
    "\n",
    "\n",
    "# 모델 훈련\n",
    "model.fit(x_train_scaled, y_train, \n",
    "          validation_split=0.2,\n",
    "          epochs=20,\n",
    "          callbacks=[model_checkpoint_cb])\n",
    "\n"
   ]
  },
  {
   "cell_type": "markdown",
   "metadata": {},
   "source": [
    "----\n",
    "# [  4 ] \n",
    "\n",
    "* **100**개의 뉴런을 가진 **은닉층** **20개**를 쌓아 심층 신경망을 만듭니다.\n",
    "* 모든 은닉층의 initializer는 **르쿤 초기화**를, 활성화 함수는 **Selu** 함수를 사용합니다.\n",
    "* 출력층은 **10개**의 뉴런과 **소프트맥스 활성화** 함수를 사용합니다. \n",
    "* 출력층에서는 **initializer**를 사용하지 않습니다."
   ]
  },
  {
   "cell_type": "code",
   "execution_count": 15,
   "metadata": {},
   "outputs": [],
   "source": [
    "def make_model_4():\n",
    "    \n",
    "    model = tf.keras.models.Sequential()\n",
    "    model.add(tf.keras.layers.InputLayer((32*32*3)))\n",
    "\n",
    "    for _ in range(20):\n",
    "        model.add(tf.keras.layers.Dense(100, activation=\"selu\", kernel_initializer='lecun_normal'))  \n",
    "        tf.keras.layers.BatchNormalization()\n",
    "    model.add(tf.keras.layers.Dense(10, activation=\"softmax\"))\n",
    "    \n",
    "    \n",
    "    return model"
   ]
  },
  {
   "cell_type": "markdown",
   "metadata": {},
   "source": [
    "* 옵티마이저는 **Nadam**을 사용합니다. Ndam의 학습률을 **5e-5** 로 초기화합니다\n",
    "* 콜백 ModelCheckpoint의 저장 이름을 **4_model.h5**로 바꿉니다."
   ]
  },
  {
   "cell_type": "code",
   "execution_count": 16,
   "metadata": {},
   "outputs": [
    {
     "name": "stdout",
     "output_type": "stream",
     "text": [
      "Epoch 1/20\n",
      "1250/1250 [==============================] - 10s 8ms/step - loss: 1.8796 - accuracy: 0.3302 - val_loss: 1.7593 - val_accuracy: 0.3673\n",
      "Epoch 2/20\n",
      "1250/1250 [==============================] - 10s 8ms/step - loss: 1.6525 - accuracy: 0.4105 - val_loss: 1.6548 - val_accuracy: 0.4152\n",
      "Epoch 3/20\n",
      "1250/1250 [==============================] - 10s 8ms/step - loss: 1.5529 - accuracy: 0.4450 - val_loss: 1.6132 - val_accuracy: 0.4261\n",
      "Epoch 4/20\n",
      "1250/1250 [==============================] - 10s 8ms/step - loss: 1.4784 - accuracy: 0.4715 - val_loss: 1.5727 - val_accuracy: 0.4414\n",
      "Epoch 5/20\n",
      "1250/1250 [==============================] - 10s 8ms/step - loss: 1.4190 - accuracy: 0.4944 - val_loss: 1.5507 - val_accuracy: 0.4520\n",
      "Epoch 6/20\n",
      "1250/1250 [==============================] - 10s 8ms/step - loss: 1.3667 - accuracy: 0.5107 - val_loss: 1.5244 - val_accuracy: 0.4583\n",
      "Epoch 7/20\n",
      "1250/1250 [==============================] - 10s 8ms/step - loss: 1.3205 - accuracy: 0.5303 - val_loss: 1.5200 - val_accuracy: 0.4678\n",
      "Epoch 8/20\n",
      "1250/1250 [==============================] - 10s 8ms/step - loss: 1.2737 - accuracy: 0.5478 - val_loss: 1.5288 - val_accuracy: 0.4719\n",
      "Epoch 9/20\n",
      "1250/1250 [==============================] - 10s 8ms/step - loss: 1.2341 - accuracy: 0.5593 - val_loss: 1.5279 - val_accuracy: 0.4742\n",
      "Epoch 10/20\n",
      "1250/1250 [==============================] - 10s 8ms/step - loss: 1.1965 - accuracy: 0.5758 - val_loss: 1.5123 - val_accuracy: 0.4793\n",
      "Epoch 11/20\n",
      "1250/1250 [==============================] - 10s 8ms/step - loss: 1.1600 - accuracy: 0.5852 - val_loss: 1.5306 - val_accuracy: 0.4771\n",
      "Epoch 12/20\n",
      "1250/1250 [==============================] - 10s 8ms/step - loss: 1.1257 - accuracy: 0.5998 - val_loss: 1.5492 - val_accuracy: 0.4736\n",
      "Epoch 13/20\n",
      "1250/1250 [==============================] - 10s 8ms/step - loss: 1.0931 - accuracy: 0.6134 - val_loss: 1.5631 - val_accuracy: 0.4796\n",
      "Epoch 14/20\n",
      "1250/1250 [==============================] - 9s 7ms/step - loss: 1.0616 - accuracy: 0.6241 - val_loss: 1.5746 - val_accuracy: 0.4792\n",
      "Epoch 15/20\n",
      "1250/1250 [==============================] - 9s 8ms/step - loss: 1.0297 - accuracy: 0.6378 - val_loss: 1.5839 - val_accuracy: 0.4762\n",
      "Epoch 16/20\n",
      "1250/1250 [==============================] - 10s 8ms/step - loss: 1.0008 - accuracy: 0.6467 - val_loss: 1.5985 - val_accuracy: 0.4755\n",
      "Epoch 17/20\n",
      "1250/1250 [==============================] - 10s 8ms/step - loss: 0.9709 - accuracy: 0.6573 - val_loss: 1.6085 - val_accuracy: 0.4724\n",
      "Epoch 18/20\n",
      "1250/1250 [==============================] - 10s 8ms/step - loss: 0.9431 - accuracy: 0.6645 - val_loss: 1.6262 - val_accuracy: 0.4767\n",
      "Epoch 19/20\n",
      "1250/1250 [==============================] - 10s 8ms/step - loss: 0.9101 - accuracy: 0.6805 - val_loss: 1.6454 - val_accuracy: 0.4762\n",
      "Epoch 20/20\n",
      "1250/1250 [==============================] - 9s 7ms/step - loss: 0.8833 - accuracy: 0.6874 - val_loss: 1.6718 - val_accuracy: 0.4727\n"
     ]
    },
    {
     "data": {
      "text/plain": [
       "<tensorflow.python.keras.callbacks.History at 0x7f9ff10c9580>"
      ]
     },
     "execution_count": 16,
     "metadata": {},
     "output_type": "execute_result"
    }
   ],
   "source": [
    "# 모델 생성\n",
    "model=make_model_4()\n",
    "\n",
    "# 모델 컴파일\n",
    "model.compile(loss=\"sparse_categorical_crossentropy\",\n",
    "              optimizer=tf.keras.optimizers.Nadam(lr = 5e-5),\n",
    "              metrics=[\"accuracy\"])\n",
    "\n",
    "# 콜백 선언\n",
    "model_checkpoint_cb = tf.keras.callbacks.ModelCheckpoint(\"4_model.h5\", save_best_only=True)\n",
    "\n",
    "\n",
    "# 모델 훈련\n",
    "model.fit(x_train_scaled, y_train, \n",
    "          validation_split=0.2,\n",
    "          epochs=20,\n",
    "          callbacks=[model_checkpoint_cb])\n"
   ]
  },
  {
   "cell_type": "markdown",
   "metadata": {},
   "source": [
    "## [ 5 ]\n",
    "\n",
    "* 지금까지 만든 6가지 모델을 불러오고 평가해 봅니다.\n",
    "* **tf.keras.models.load_model( )**을 통해 모델을 불러올 수 있습니다.\n",
    "* **model.evaluate( )**를 통해 모든 모델을 평가해 봅니다.\n",
    "* 불러오기 전에 아래 셀에서 각 모델의 특징을 간단히 메모하세요"
   ]
  },
  {
   "cell_type": "markdown",
   "metadata": {},
   "source": [
    "* model_11: he 초기화, relu 활성화 함수, adam 옵티마이저 \n",
    "* model_12: adam 옵티마이저 베타값 초기화  \n",
    "* model_21: he 초기화, elu 활성화 함수, \n",
    "* model_22: 21과 같은데 옵티마이저 nadam으로 바꿈 \n",
    "* model_3: 22와 같은데, 은닉층 다음에는 항상 batchnormalization 함 \n",
    "* model_4: lecun 초기화, selu 활성화 함수 "
   ]
  },
  {
   "cell_type": "code",
   "execution_count": 17,
   "metadata": {},
   "outputs": [],
   "source": [
    "# 모델 불러오기\n",
    "\n",
    "model_11 = tf.keras.models.load_model(\"1-1_model.h5\")\n",
    "model_12 = tf.keras.models.load_model(\"1-2_model.h5\")\n",
    "model_21 = tf.keras.models.load_model(\"2-1_model.h5\")\n",
    "model_22 = tf.keras.models.load_model(\"2-2_model.h5\")\n",
    "model_3 = tf.keras.models.load_model(\"3_model.h5\")\n",
    "model_4 = tf.keras.models.load_model(\"4_model.h5\")\n"
   ]
  },
  {
   "cell_type": "code",
   "execution_count": 18,
   "metadata": {},
   "outputs": [
    {
     "name": "stdout",
     "output_type": "stream",
     "text": [
      "313/313 [==============================] - 0s 1ms/step - loss: 86.5565 - accuracy: 0.5652\n"
     ]
    },
    {
     "data": {
      "text/plain": [
       "[86.55646514892578, 0.5651999711990356]"
      ]
     },
     "execution_count": 18,
     "metadata": {},
     "output_type": "execute_result"
    }
   ],
   "source": [
    "# 모델 평가 \n",
    "\n",
    "\n",
    "model_11.evaluate(x_test, y_test)"
   ]
  },
  {
   "cell_type": "code",
   "execution_count": 19,
   "metadata": {},
   "outputs": [
    {
     "name": "stdout",
     "output_type": "stream",
     "text": [
      "313/313 [==============================] - 0s 1ms/step - loss: 52.4992 - accuracy: 0.1430\n"
     ]
    },
    {
     "data": {
      "text/plain": [
       "[52.49924850463867, 0.14300000667572021]"
      ]
     },
     "execution_count": 19,
     "metadata": {},
     "output_type": "execute_result"
    }
   ],
   "source": [
    "model_12.evaluate(x_test, y_test)"
   ]
  },
  {
   "cell_type": "code",
   "execution_count": 20,
   "metadata": {},
   "outputs": [
    {
     "name": "stdout",
     "output_type": "stream",
     "text": [
      "313/313 [==============================] - 0s 1ms/step - loss: 60.0757 - accuracy: 0.0287\n"
     ]
    },
    {
     "data": {
      "text/plain": [
       "[60.07565689086914, 0.028699999675154686]"
      ]
     },
     "execution_count": 20,
     "metadata": {},
     "output_type": "execute_result"
    }
   ],
   "source": [
    "model_21.evaluate(x_test, y_test)"
   ]
  },
  {
   "cell_type": "code",
   "execution_count": 21,
   "metadata": {},
   "outputs": [
    {
     "name": "stdout",
     "output_type": "stream",
     "text": [
      "313/313 [==============================] - 0s 1ms/step - loss: 118.9318 - accuracy: 0.3143\n"
     ]
    },
    {
     "data": {
      "text/plain": [
       "[118.93182373046875, 0.314300000667572]"
      ]
     },
     "execution_count": 21,
     "metadata": {},
     "output_type": "execute_result"
    }
   ],
   "source": [
    "model_22.evaluate(x_test, y_test)"
   ]
  },
  {
   "cell_type": "code",
   "execution_count": 22,
   "metadata": {},
   "outputs": [
    {
     "name": "stdout",
     "output_type": "stream",
     "text": [
      "313/313 [==============================] - 0s 1ms/step - loss: 106.6994 - accuracy: 0.9993\n"
     ]
    },
    {
     "data": {
      "text/plain": [
       "[106.69938659667969, 0.9993000030517578]"
      ]
     },
     "execution_count": 22,
     "metadata": {},
     "output_type": "execute_result"
    }
   ],
   "source": [
    "model_3.evaluate(x_test, y_test)"
   ]
  },
  {
   "cell_type": "code",
   "execution_count": 23,
   "metadata": {},
   "outputs": [
    {
     "name": "stdout",
     "output_type": "stream",
     "text": [
      "313/313 [==============================] - 0s 1ms/step - loss: 2.7884 - accuracy: 0.3556\n"
     ]
    },
    {
     "data": {
      "text/plain": [
       "[2.788382053375244, 0.3555999994277954]"
      ]
     },
     "execution_count": 23,
     "metadata": {},
     "output_type": "execute_result"
    }
   ],
   "source": [
    "model_4.evaluate(x_test, y_test)"
   ]
  },
  {
   "cell_type": "code",
   "execution_count": null,
   "metadata": {},
   "outputs": [],
   "source": []
  }
 ],
 "metadata": {
  "kernelspec": {
   "display_name": "Python 3",
   "language": "python",
   "name": "python3"
  },
  "language_info": {
   "codemirror_mode": {
    "name": "ipython",
    "version": 3
   },
   "file_extension": ".py",
   "mimetype": "text/x-python",
   "name": "python",
   "nbconvert_exporter": "python",
   "pygments_lexer": "ipython3",
   "version": "3.8.3"
  }
 },
 "nbformat": 4,
 "nbformat_minor": 4
}
