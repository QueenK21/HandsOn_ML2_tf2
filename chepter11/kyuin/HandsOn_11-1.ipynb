{
 "cells": [
  {
   "cell_type": "markdown",
   "metadata": {},
   "source": [
    "# 11장\n",
    "### 11-1, 11-3\n",
    "----\n",
    "\n",
    "### Optimizer, Activation, Initializer를 조합하여 모델을 만들고 평가해 봅니다.\n",
    "\n",
    "* 수렴이 언제부터 시작되나요? \n",
    "\n",
    "* 모델의 성능은 어떤가요?\n",
    "\n",
    "* 전체 훈련 속도는 몇인가요? \n",
    "\n",
    "----"
   ]
  },
  {
   "cell_type": "markdown",
   "metadata": {},
   "source": [
    "# [ 0 ] \n",
    "\n",
    "* CIFAR10 데이터셋을 불러오세요. keras.datasets.cifar10.load_ data()를 사용하여 데이터를 적재할 수 있습니다.\n",
    "* 데이터셋의 차원을 확인해봅시다.\n",
    "* Dense layer을 사용하기 때문에 데이터의 shape을 1차원으로 바꿔야 합니다. ( np.reshape(데이터, (바꿀shape) ) 사용)"
   ]
  },
  {
   "cell_type": "code",
   "execution_count": 1,
   "metadata": {},
   "outputs": [],
   "source": [
    "import tensorflow as tf\n",
    "import numpy as np"
   ]
  },
  {
   "cell_type": "code",
   "execution_count": 2,
   "metadata": {},
   "outputs": [],
   "source": [
    "# load\n",
    "(x_train, y_train), (x_test, y_test) = tf.keras.datasets.cifar10.load_data()\n",
    "\n"
   ]
  },
  {
   "cell_type": "code",
   "execution_count": 3,
   "metadata": {},
   "outputs": [
    {
     "data": {
      "text/plain": [
       "(50000, 32, 32, 3)"
      ]
     },
     "execution_count": 3,
     "metadata": {},
     "output_type": "execute_result"
    }
   ],
   "source": [
    "x_train.shape"
   ]
  },
  {
   "cell_type": "code",
   "execution_count": 4,
   "metadata": {},
   "outputs": [
    {
     "data": {
      "text/plain": [
       "(50000, 3072)"
      ]
     },
     "execution_count": 4,
     "metadata": {},
     "output_type": "execute_result"
    }
   ],
   "source": [
    "# reshape\n",
    "\n",
    "x_train = np.reshape(x_train, (50000, 32*32*3))  \n",
    "x_train.shape"
   ]
  },
  {
   "cell_type": "code",
   "execution_count": 5,
   "metadata": {},
   "outputs": [
    {
     "data": {
      "text/plain": [
       "(10000, 3072)"
      ]
     },
     "execution_count": 5,
     "metadata": {},
     "output_type": "execute_result"
    }
   ],
   "source": [
    "x_test.shape\n",
    "x_test = np.reshape(x_test, (10000, 32*32*3))\n",
    "x_test.shape"
   ]
  },
  {
   "cell_type": "code",
   "execution_count": 6,
   "metadata": {},
   "outputs": [],
   "source": [
    "# normalization\n",
    "\n",
    "pixel_means = x_train.mean(axis=0, keepdims=True)\n",
    "pixel_stds = x_train.std(axis=0, keepdims=True)\n",
    "x_train_scaled = (x_train - pixel_means) / pixel_stds\n",
    "x_test_scaled = (x_train - pixel_means) / pixel_stds\n"
   ]
  },
  {
   "cell_type": "markdown",
   "metadata": {},
   "source": [
    "----\n",
    "# [ 1 ]\n",
    "\n",
    "* **100**개의 뉴런을 가진 **은닉층** **20개**를 쌓아 심층 신경망을 만듭니다.\n",
    "* 모든 은닉층의 initializer는 **He 초기화**를, 활성화 함수는 **Relu** 함수를 사용합니다.\n",
    "* 출력층은 **10개**의 뉴런과 **소프트맥스 활성화** 함수를 사용합니다. \n",
    "* 출력층에서는 Initializer를 사용하지 않습니다. "
   ]
  },
  {
   "cell_type": "code",
   "execution_count": 7,
   "metadata": {},
   "outputs": [],
   "source": [
    "def make_model_1():\n",
    "    model = tf.keras.models.Sequential()\n",
    "    model.add(tf.keras.layers.InputLayer((32*32*3)))\n",
    "\n",
    "    for _ in range(20):\n",
    "        model.add(tf.keras.layers.Dense(100, activation=\"relu\", kernel_initializer='he_normal'))  \n",
    "    model.add(tf.keras.layers.Dense(10, activation=\"softmax\"))\n",
    "    return model"
   ]
  },
  {
   "cell_type": "markdown",
   "metadata": {},
   "source": [
    "## 1-1 )\n",
    "\n",
    "* 옵티마이저는 **Adam**를 사용합니다. \n",
    "* 모델 저장 이름은 **1-1_model.h5** 로 합니다."
   ]
  },
  {
   "cell_type": "code",
   "execution_count": 8,
   "metadata": {},
   "outputs": [
    {
     "name": "stdout",
     "output_type": "stream",
     "text": [
      "Epoch 1/20\n",
      "1250/1250 [==============================] - 5s 4ms/step - loss: 1.9908 - accuracy: 0.2445 - val_loss: 1.8615 - val_accuracy: 0.2920\n",
      "Epoch 2/20\n",
      "1250/1250 [==============================] - 5s 4ms/step - loss: 1.8280 - accuracy: 0.3136 - val_loss: 1.8155 - val_accuracy: 0.3108\n",
      "Epoch 3/20\n",
      "1250/1250 [==============================] - 4s 3ms/step - loss: 1.7551 - accuracy: 0.3487 - val_loss: 1.7655 - val_accuracy: 0.3525\n",
      "Epoch 4/20\n",
      "1250/1250 [==============================] - 4s 3ms/step - loss: 1.7357 - accuracy: 0.3570 - val_loss: 1.7493 - val_accuracy: 0.3442\n",
      "Epoch 5/20\n",
      "1250/1250 [==============================] - 4s 4ms/step - loss: 1.6991 - accuracy: 0.3733 - val_loss: 1.7355 - val_accuracy: 0.3701\n",
      "Epoch 6/20\n",
      "1250/1250 [==============================] - 4s 4ms/step - loss: 1.6482 - accuracy: 0.3932 - val_loss: 1.6698 - val_accuracy: 0.3992\n",
      "Epoch 7/20\n",
      "1250/1250 [==============================] - 4s 4ms/step - loss: 1.6007 - accuracy: 0.4163 - val_loss: 1.6166 - val_accuracy: 0.4126\n",
      "Epoch 8/20\n",
      "1250/1250 [==============================] - 5s 4ms/step - loss: 1.5682 - accuracy: 0.4300 - val_loss: 1.6517 - val_accuracy: 0.3891\n",
      "Epoch 9/20\n",
      "1250/1250 [==============================] - 4s 3ms/step - loss: 1.5436 - accuracy: 0.4429 - val_loss: 1.6052 - val_accuracy: 0.4287\n",
      "Epoch 10/20\n",
      "1250/1250 [==============================] - 4s 3ms/step - loss: 1.5028 - accuracy: 0.4584 - val_loss: 1.5792 - val_accuracy: 0.4344\n",
      "Epoch 11/20\n",
      "1250/1250 [==============================] - 4s 3ms/step - loss: 1.4787 - accuracy: 0.4712 - val_loss: 1.5818 - val_accuracy: 0.4452\n",
      "Epoch 12/20\n",
      "1250/1250 [==============================] - 4s 3ms/step - loss: 1.4439 - accuracy: 0.4807 - val_loss: 1.5666 - val_accuracy: 0.4476\n",
      "Epoch 13/20\n",
      "1250/1250 [==============================] - 4s 3ms/step - loss: 1.4286 - accuracy: 0.4893 - val_loss: 1.5992 - val_accuracy: 0.4421\n",
      "Epoch 14/20\n",
      "1250/1250 [==============================] - 4s 3ms/step - loss: 1.4033 - accuracy: 0.4996 - val_loss: 1.5666 - val_accuracy: 0.4496\n",
      "Epoch 15/20\n",
      "1250/1250 [==============================] - 4s 3ms/step - loss: 1.3736 - accuracy: 0.5124 - val_loss: 1.5447 - val_accuracy: 0.4688\n",
      "Epoch 16/20\n",
      "1250/1250 [==============================] - 4s 3ms/step - loss: 1.3516 - accuracy: 0.5209 - val_loss: 1.5739 - val_accuracy: 0.4567\n",
      "Epoch 17/20\n",
      "1250/1250 [==============================] - 4s 3ms/step - loss: 1.3350 - accuracy: 0.5262 - val_loss: 1.5718 - val_accuracy: 0.4623\n",
      "Epoch 18/20\n",
      "1250/1250 [==============================] - 4s 3ms/step - loss: 1.3207 - accuracy: 0.5353 - val_loss: 1.5418 - val_accuracy: 0.4615\n",
      "Epoch 19/20\n",
      "1250/1250 [==============================] - 4s 3ms/step - loss: 1.2840 - accuracy: 0.5447 - val_loss: 1.5061 - val_accuracy: 0.4748\n",
      "Epoch 20/20\n",
      "1250/1250 [==============================] - 4s 3ms/step - loss: 1.2692 - accuracy: 0.5526 - val_loss: 1.5398 - val_accuracy: 0.4773\n"
     ]
    },
    {
     "data": {
      "text/plain": [
       "<tensorflow.python.keras.callbacks.History at 0x7fd5735a8940>"
      ]
     },
     "execution_count": 8,
     "metadata": {},
     "output_type": "execute_result"
    }
   ],
   "source": [
    "#모델 생성\n",
    "model=make_model_1()\n",
    "\n",
    "# 모델 컴파일\n",
    "model.compile(loss=\"sparse_categorical_crossentropy\",\n",
    "              optimizer=tf.keras.optimizers.Adam(),\n",
    "              metrics=[\"accuracy\"])\n",
    "\n",
    "# 콜백 선언\n",
    "model_checkpoint_cb = tf.keras.callbacks.ModelCheckpoint(\"1-1_model.h5\", save_best_only=True)\n",
    "\n",
    "# 모델 훈련\n",
    "model.fit(x_train_scaled, y_train, \n",
    "          validation_split=0.2,\n",
    "          epochs=20,\n",
    "          callbacks=[model_checkpoint_cb])"
   ]
  },
  {
   "cell_type": "markdown",
   "metadata": {},
   "source": [
    "## 1-2 )\n",
    "\n",
    "* 옵티마이저는 **Adam**을 사용합니다. Adam의 파라미터 **beta1**, **beta2**를 0.9, 0.999로 초기화 합니다. \n",
    "* 콜백 ModelCheckpoint의 저장 이름을 **1-2_model.h5**로 바꿉니다."
   ]
  },
  {
   "cell_type": "code",
   "execution_count": 9,
   "metadata": {},
   "outputs": [
    {
     "name": "stdout",
     "output_type": "stream",
     "text": [
      "Epoch 1/20\n",
      "1250/1250 [==============================] - 5s 4ms/step - loss: 1.9881 - accuracy: 0.2378 - val_loss: 1.8473 - val_accuracy: 0.2926\n",
      "Epoch 2/20\n",
      "1250/1250 [==============================] - 4s 3ms/step - loss: 1.8156 - accuracy: 0.3136 - val_loss: 1.8309 - val_accuracy: 0.3253\n",
      "Epoch 3/20\n",
      "1250/1250 [==============================] - 4s 3ms/step - loss: 1.7382 - accuracy: 0.3550 - val_loss: 1.7553 - val_accuracy: 0.3542\n",
      "Epoch 4/20\n",
      "1250/1250 [==============================] - 4s 3ms/step - loss: 1.6721 - accuracy: 0.3848 - val_loss: 1.6940 - val_accuracy: 0.3779\n",
      "Epoch 5/20\n",
      "1250/1250 [==============================] - 4s 3ms/step - loss: 1.6241 - accuracy: 0.3997 - val_loss: 1.6519 - val_accuracy: 0.3989\n",
      "Epoch 6/20\n",
      "1250/1250 [==============================] - 4s 3ms/step - loss: 1.5881 - accuracy: 0.4187 - val_loss: 1.6381 - val_accuracy: 0.3971\n",
      "Epoch 7/20\n",
      "1250/1250 [==============================] - 4s 3ms/step - loss: 1.5466 - accuracy: 0.4383 - val_loss: 1.6923 - val_accuracy: 0.3920\n",
      "Epoch 8/20\n",
      "1250/1250 [==============================] - 4s 3ms/step - loss: 1.5174 - accuracy: 0.4540 - val_loss: 1.6110 - val_accuracy: 0.4241\n",
      "Epoch 9/20\n",
      "1250/1250 [==============================] - 4s 3ms/step - loss: 1.4956 - accuracy: 0.4613 - val_loss: 1.6022 - val_accuracy: 0.4369\n",
      "Epoch 10/20\n",
      "1250/1250 [==============================] - 4s 3ms/step - loss: 1.4578 - accuracy: 0.4766 - val_loss: 1.5689 - val_accuracy: 0.4400\n",
      "Epoch 11/20\n",
      "1250/1250 [==============================] - 4s 3ms/step - loss: 1.4283 - accuracy: 0.4873 - val_loss: 1.5443 - val_accuracy: 0.4537\n",
      "Epoch 12/20\n",
      "1250/1250 [==============================] - 4s 3ms/step - loss: 1.4027 - accuracy: 0.5021 - val_loss: 1.5889 - val_accuracy: 0.4457\n",
      "Epoch 13/20\n",
      "1250/1250 [==============================] - 4s 3ms/step - loss: 1.3754 - accuracy: 0.5104 - val_loss: 1.6161 - val_accuracy: 0.4299\n",
      "Epoch 14/20\n",
      "1250/1250 [==============================] - 4s 3ms/step - loss: 1.3547 - accuracy: 0.5204 - val_loss: 1.5423 - val_accuracy: 0.4687\n",
      "Epoch 15/20\n",
      "1250/1250 [==============================] - 4s 3ms/step - loss: 1.3352 - accuracy: 0.5286 - val_loss: 1.5262 - val_accuracy: 0.4630\n",
      "Epoch 16/20\n",
      "1250/1250 [==============================] - 4s 3ms/step - loss: 1.3097 - accuracy: 0.5374 - val_loss: 1.5714 - val_accuracy: 0.4590\n",
      "Epoch 17/20\n",
      "1250/1250 [==============================] - 4s 3ms/step - loss: 1.2838 - accuracy: 0.5486 - val_loss: 1.5387 - val_accuracy: 0.4700\n",
      "Epoch 18/20\n",
      "1250/1250 [==============================] - 4s 3ms/step - loss: 1.2723 - accuracy: 0.5533 - val_loss: 1.5397 - val_accuracy: 0.4816\n",
      "Epoch 19/20\n",
      "1250/1250 [==============================] - 4s 3ms/step - loss: 1.2441 - accuracy: 0.5641 - val_loss: 1.5710 - val_accuracy: 0.4633\n",
      "Epoch 20/20\n",
      "1250/1250 [==============================] - 4s 3ms/step - loss: 1.2296 - accuracy: 0.5697 - val_loss: 1.4980 - val_accuracy: 0.4832\n"
     ]
    },
    {
     "data": {
      "text/plain": [
       "<tensorflow.python.keras.callbacks.History at 0x7fd57386cc10>"
      ]
     },
     "execution_count": 9,
     "metadata": {},
     "output_type": "execute_result"
    }
   ],
   "source": [
    "# 모델 생성\n",
    "model=make_model_1()\n",
    "\n",
    "# 모델 컴파일\n",
    "model.compile(loss=\"sparse_categorical_crossentropy\",\n",
    "              optimizer=tf.keras.optimizers.Adam(beta_1 = 0.9, beta_2 = 0.999),\n",
    "              metrics=[\"accuracy\"])\n",
    "\n",
    "# 콜백 선언\n",
    "model_checkpoint_cb = tf.keras.callbacks.ModelCheckpoint(\"1-2_model.h5\", save_best_only=True)\n",
    "\n",
    "\n",
    "# 모델 훈련\n",
    "model.fit(x_train_scaled, y_train, \n",
    "          validation_split=0.2,\n",
    "          epochs=20,\n",
    "          callbacks=[model_checkpoint_cb])\n"
   ]
  },
  {
   "cell_type": "markdown",
   "metadata": {},
   "source": [
    "----\n",
    "# [ 2 ]\n",
    "\n",
    "* **100**개의 뉴런을 가진 **은닉층** **20개**를 쌓아 심층 신경망을 만듭니다.\n",
    "* 모든 은닉층의 initializer는 **He 초기화**를, 활성화 함수는 **Elu** 함수를 사용합니다.\n",
    "* 출력층은 **10개**의 뉴런과 **소프트맥스 활성화** 함수를 사용합니다. \n",
    "* 출력층에서는 **initializer**를 사용하지 않습니다. "
   ]
  },
  {
   "cell_type": "code",
   "execution_count": 10,
   "metadata": {},
   "outputs": [],
   "source": [
    "def make_model_2():\n",
    "\n",
    "    model = tf.keras.models.Sequential()\n",
    "    model.add(tf.keras.layers.InputLayer((32*32*3)))\n",
    "\n",
    "    for _ in range(20):\n",
    "        model.add(tf.keras.layers.Dense(100, activation=\"relu\", kernel_initializer='he_normal'))  \n",
    "    model.add(tf.keras.layers.Dense(10, activation=\"softmax\"))\n",
    "    \n",
    "    return model"
   ]
  },
  {
   "cell_type": "markdown",
   "metadata": {},
   "source": [
    "## 2-1 )\n",
    "\n",
    "* 옵티마이저는 **Adam**을 사용합니다. Adam의 파라미터 **beta1**, **beta2**를 0.9, 0.999로 초기화 합니다. \n",
    "* 콜백 ModelCheckpoint의 저장 이름을 **2-1_model.h5**로 바꿉니다."
   ]
  },
  {
   "cell_type": "code",
   "execution_count": 11,
   "metadata": {},
   "outputs": [
    {
     "name": "stdout",
     "output_type": "stream",
     "text": [
      "Epoch 1/20\n",
      "1250/1250 [==============================] - 5s 4ms/step - loss: 1.9747 - accuracy: 0.2484 - val_loss: 1.8361 - val_accuracy: 0.3090\n",
      "Epoch 2/20\n",
      "1250/1250 [==============================] - 4s 3ms/step - loss: 1.8028 - accuracy: 0.3206 - val_loss: 1.8209 - val_accuracy: 0.3448\n",
      "Epoch 3/20\n",
      "1250/1250 [==============================] - 4s 3ms/step - loss: 1.7349 - accuracy: 0.3526 - val_loss: 1.7418 - val_accuracy: 0.3547\n",
      "Epoch 4/20\n",
      "1250/1250 [==============================] - 4s 3ms/step - loss: 1.6840 - accuracy: 0.3745 - val_loss: 1.6976 - val_accuracy: 0.3778\n",
      "Epoch 5/20\n",
      "1250/1250 [==============================] - 4s 3ms/step - loss: 1.6318 - accuracy: 0.3985 - val_loss: 1.6874 - val_accuracy: 0.3709\n",
      "Epoch 6/20\n",
      "1250/1250 [==============================] - 4s 3ms/step - loss: 1.6104 - accuracy: 0.4074 - val_loss: 1.6858 - val_accuracy: 0.3945\n",
      "Epoch 7/20\n",
      "1250/1250 [==============================] - 4s 3ms/step - loss: 1.5623 - accuracy: 0.4264 - val_loss: 1.6552 - val_accuracy: 0.4082\n",
      "Epoch 8/20\n",
      "1250/1250 [==============================] - 4s 3ms/step - loss: 1.5497 - accuracy: 0.4354 - val_loss: 1.6258 - val_accuracy: 0.4172\n",
      "Epoch 9/20\n",
      "1250/1250 [==============================] - 4s 3ms/step - loss: 1.5421 - accuracy: 0.4424 - val_loss: 1.5933 - val_accuracy: 0.4324\n",
      "Epoch 10/20\n",
      "1250/1250 [==============================] - 4s 3ms/step - loss: 1.5056 - accuracy: 0.4556 - val_loss: 1.6318 - val_accuracy: 0.4226\n",
      "Epoch 11/20\n",
      "1250/1250 [==============================] - 4s 3ms/step - loss: 1.4773 - accuracy: 0.4707 - val_loss: 1.5976 - val_accuracy: 0.4282\n",
      "Epoch 12/20\n",
      "1250/1250 [==============================] - 4s 3ms/step - loss: 1.4599 - accuracy: 0.4704 - val_loss: 1.6132 - val_accuracy: 0.4202\n",
      "Epoch 13/20\n",
      "1250/1250 [==============================] - 4s 3ms/step - loss: 1.4425 - accuracy: 0.4798 - val_loss: 1.5970 - val_accuracy: 0.4512\n",
      "Epoch 14/20\n",
      "1250/1250 [==============================] - 4s 3ms/step - loss: 1.4323 - accuracy: 0.4864 - val_loss: 1.5752 - val_accuracy: 0.4484\n",
      "Epoch 15/20\n",
      "1250/1250 [==============================] - 4s 3ms/step - loss: 1.3921 - accuracy: 0.5029 - val_loss: 1.5856 - val_accuracy: 0.4421\n",
      "Epoch 16/20\n",
      "1250/1250 [==============================] - 4s 3ms/step - loss: 1.3980 - accuracy: 0.5032 - val_loss: 1.5908 - val_accuracy: 0.4528\n",
      "Epoch 17/20\n",
      "1250/1250 [==============================] - 4s 3ms/step - loss: 1.3775 - accuracy: 0.5132 - val_loss: 1.6199 - val_accuracy: 0.4441\n",
      "Epoch 18/20\n",
      "1250/1250 [==============================] - 4s 3ms/step - loss: 1.3587 - accuracy: 0.5214 - val_loss: 1.5464 - val_accuracy: 0.4745\n",
      "Epoch 19/20\n",
      "1250/1250 [==============================] - 4s 3ms/step - loss: 1.3583 - accuracy: 0.5186 - val_loss: 1.5640 - val_accuracy: 0.4597\n",
      "Epoch 20/20\n",
      "1250/1250 [==============================] - 4s 3ms/step - loss: 1.3266 - accuracy: 0.5340 - val_loss: 1.5731 - val_accuracy: 0.4586\n"
     ]
    },
    {
     "data": {
      "text/plain": [
       "<tensorflow.python.keras.callbacks.History at 0x7fd636967100>"
      ]
     },
     "execution_count": 11,
     "metadata": {},
     "output_type": "execute_result"
    }
   ],
   "source": [
    "# 모델 생성\n",
    "model=make_model_2()\n",
    "\n",
    "# 모델 컴파일\n",
    "model.compile(loss=\"sparse_categorical_crossentropy\",\n",
    "              optimizer=tf.keras.optimizers.Adam(beta_1 = 0.9, beta_2 = 0.999),\n",
    "              metrics=[\"accuracy\"])\n",
    "\n",
    "\n",
    "# 콜백 선언\n",
    "model_checkpoint_cb = tf.keras.callbacks.ModelCheckpoint(\"2-1_model.h5\", save_best_only=True)\n",
    "\n",
    "# 모델 훈련\n",
    "model.fit(x_train_scaled, y_train, \n",
    "          validation_split=0.2,\n",
    "          epochs=20,\n",
    "          callbacks=[model_checkpoint_cb])\n"
   ]
  },
  {
   "cell_type": "markdown",
   "metadata": {},
   "source": [
    "## 2-2 )\n",
    "\n",
    "* 옵티마이저는 **Nadam**을 사용합니다. Ndam의 학습률을 **5e-5** 로 초기화합니다\n",
    "* 콜백 ModelCheckpoint의 저장 이름을 **2-2_model.h5**로 바꿉니다."
   ]
  },
  {
   "cell_type": "code",
   "execution_count": 12,
   "metadata": {},
   "outputs": [
    {
     "name": "stdout",
     "output_type": "stream",
     "text": [
      "Epoch 1/20\n",
      "1250/1250 [==============================] - 9s 7ms/step - loss: 2.0092 - accuracy: 0.2598 - val_loss: 1.8433 - val_accuracy: 0.3343\n",
      "Epoch 2/20\n",
      "1250/1250 [==============================] - 9s 7ms/step - loss: 1.7613 - accuracy: 0.3668 - val_loss: 1.7535 - val_accuracy: 0.3709\n",
      "Epoch 3/20\n",
      "1250/1250 [==============================] - 9s 7ms/step - loss: 1.6580 - accuracy: 0.4076 - val_loss: 1.6982 - val_accuracy: 0.3952\n",
      "Epoch 4/20\n",
      "1250/1250 [==============================] - 9s 7ms/step - loss: 1.5863 - accuracy: 0.4329 - val_loss: 1.6672 - val_accuracy: 0.4112\n",
      "Epoch 5/20\n",
      "1250/1250 [==============================] - 9s 7ms/step - loss: 1.5267 - accuracy: 0.4577 - val_loss: 1.6228 - val_accuracy: 0.4218\n",
      "Epoch 6/20\n",
      "1250/1250 [==============================] - 9s 7ms/step - loss: 1.4772 - accuracy: 0.4747 - val_loss: 1.6203 - val_accuracy: 0.4294\n",
      "Epoch 7/20\n",
      "1250/1250 [==============================] - 9s 7ms/step - loss: 1.4316 - accuracy: 0.4916 - val_loss: 1.5904 - val_accuracy: 0.4333\n",
      "Epoch 8/20\n",
      "1250/1250 [==============================] - 9s 7ms/step - loss: 1.3937 - accuracy: 0.5045 - val_loss: 1.5858 - val_accuracy: 0.4351\n",
      "Epoch 9/20\n",
      "1250/1250 [==============================] - 9s 7ms/step - loss: 1.3550 - accuracy: 0.5192 - val_loss: 1.5839 - val_accuracy: 0.4428\n",
      "Epoch 10/20\n",
      "1250/1250 [==============================] - 9s 7ms/step - loss: 1.3177 - accuracy: 0.5335 - val_loss: 1.5725 - val_accuracy: 0.4466\n",
      "Epoch 11/20\n",
      "1250/1250 [==============================] - 9s 7ms/step - loss: 1.2875 - accuracy: 0.5427 - val_loss: 1.5668 - val_accuracy: 0.4510\n",
      "Epoch 12/20\n",
      "1250/1250 [==============================] - 9s 7ms/step - loss: 1.2569 - accuracy: 0.5537 - val_loss: 1.5748 - val_accuracy: 0.4485\n",
      "Epoch 13/20\n",
      "1250/1250 [==============================] - 10s 8ms/step - loss: 1.2250 - accuracy: 0.5663 - val_loss: 1.6079 - val_accuracy: 0.4466\n",
      "Epoch 14/20\n",
      "1250/1250 [==============================] - 9s 7ms/step - loss: 1.1973 - accuracy: 0.5772 - val_loss: 1.5951 - val_accuracy: 0.4572\n",
      "Epoch 15/20\n",
      "1250/1250 [==============================] - 9s 7ms/step - loss: 1.1699 - accuracy: 0.5848 - val_loss: 1.6170 - val_accuracy: 0.4548\n",
      "Epoch 16/20\n",
      "1250/1250 [==============================] - 9s 7ms/step - loss: 1.1424 - accuracy: 0.5970 - val_loss: 1.6217 - val_accuracy: 0.4552\n",
      "Epoch 17/20\n",
      "1250/1250 [==============================] - 9s 7ms/step - loss: 1.1148 - accuracy: 0.6044 - val_loss: 1.6437 - val_accuracy: 0.4478\n",
      "Epoch 18/20\n",
      "1250/1250 [==============================] - 9s 7ms/step - loss: 1.0897 - accuracy: 0.6165 - val_loss: 1.6771 - val_accuracy: 0.4540\n",
      "Epoch 19/20\n",
      "1250/1250 [==============================] - 9s 7ms/step - loss: 1.0674 - accuracy: 0.6251 - val_loss: 1.6572 - val_accuracy: 0.4519\n",
      "Epoch 20/20\n",
      "1250/1250 [==============================] - 9s 7ms/step - loss: 1.0485 - accuracy: 0.6324 - val_loss: 1.6786 - val_accuracy: 0.4559\n"
     ]
    },
    {
     "data": {
      "text/plain": [
       "<tensorflow.python.keras.callbacks.History at 0x7fd574a1dd60>"
      ]
     },
     "execution_count": 12,
     "metadata": {},
     "output_type": "execute_result"
    }
   ],
   "source": [
    "# 모델 생성\n",
    "model=make_model_2()\n",
    "\n",
    "# 모델 컴파일\n",
    "model.compile(loss=\"sparse_categorical_crossentropy\",\n",
    "              optimizer=tf.keras.optimizers.Nadam(lr = 5e-5),\n",
    "              metrics=[\"accuracy\"])\n",
    "\n",
    "# 콜백 선언\n",
    "model_checkpoint_cb = tf.keras.callbacks.ModelCheckpoint(\"2-2_model.h5\", save_best_only=True)\n",
    "\n",
    "\n",
    "# 모델 훈련\n",
    "model.fit(x_train_scaled, y_train, \n",
    "          validation_split=0.2,\n",
    "          epochs=20,\n",
    "          callbacks=[model_checkpoint_cb])\n"
   ]
  },
  {
   "cell_type": "markdown",
   "metadata": {},
   "source": [
    "----\n",
    "# [  3 ] \n",
    "\n",
    "* **100**개의 뉴런을 가진 **은닉층** **20개**를 쌓아 심층 신경망을 만듭니다.\n",
    "* 모든 은닉층의 initializer는 **He 초기화**를, 활성화 함수는 **Elu** 함수를 사용합니다.\n",
    "* 모든 은닉층의 다음층에서 BatchNormaliztion을 수행합니다. \n",
    "* 출력층은 **10개**의 뉴런과 **소프트맥스 활성화** 함수를 사용합니다. \n",
    "* 출력층에서는 **initializer**를 사용하지 않습니다. \n",
    "* 출력층 다음층에서는 BatchNormalization을 수행하지 않습니다."
   ]
  },
  {
   "cell_type": "code",
   "execution_count": 13,
   "metadata": {},
   "outputs": [],
   "source": [
    "def make_model_3():\n",
    "\n",
    "    model = tf.keras.models.Sequential()\n",
    "    model.add(tf.keras.layers.InputLayer((32*32*3)))\n",
    "\n",
    "    for _ in range(20):\n",
    "        model.add(tf.keras.layers.Dense(100, activation=\"elu\", kernel_initializer='he_normal'))  \n",
    "        tf.keras.layers.BatchNormalization()\n",
    "    model.add(tf.keras.layers.Dense(10, activation=\"softmax\"))\n",
    "\n",
    "    return model"
   ]
  },
  {
   "cell_type": "markdown",
   "metadata": {},
   "source": [
    "* 옵티마이저는 **Nadam**을 사용합니다. Ndam의 학습률을 **5e-5** 로 초기화합니다\n",
    "* 콜백 ModelCheckpoint의 저장 이름을 **3_model.h5**로 바꿉니다."
   ]
  },
  {
   "cell_type": "code",
   "execution_count": 14,
   "metadata": {},
   "outputs": [
    {
     "name": "stdout",
     "output_type": "stream",
     "text": [
      "Epoch 1/20\n",
      "1250/1250 [==============================] - 9s 8ms/step - loss: 2.1619 - accuracy: 0.2489 - val_loss: 1.8623 - val_accuracy: 0.3292\n",
      "Epoch 2/20\n",
      "1250/1250 [==============================] - 9s 7ms/step - loss: 1.7659 - accuracy: 0.3645 - val_loss: 1.7445 - val_accuracy: 0.3774\n",
      "Epoch 3/20\n",
      "1250/1250 [==============================] - 9s 8ms/step - loss: 1.6358 - accuracy: 0.4145 - val_loss: 1.6747 - val_accuracy: 0.4001\n",
      "Epoch 4/20\n",
      "1250/1250 [==============================] - 10s 8ms/step - loss: 1.5462 - accuracy: 0.4475 - val_loss: 1.6393 - val_accuracy: 0.4143\n",
      "Epoch 5/20\n",
      "1250/1250 [==============================] - 10s 8ms/step - loss: 1.4763 - accuracy: 0.4756 - val_loss: 1.6170 - val_accuracy: 0.4305\n",
      "Epoch 6/20\n",
      "1250/1250 [==============================] - 10s 8ms/step - loss: 1.4137 - accuracy: 0.4988 - val_loss: 1.5905 - val_accuracy: 0.4413\n",
      "Epoch 7/20\n",
      "1250/1250 [==============================] - 9s 8ms/step - loss: 1.3589 - accuracy: 0.5180 - val_loss: 1.6054 - val_accuracy: 0.4421\n",
      "Epoch 8/20\n",
      "1250/1250 [==============================] - 10s 8ms/step - loss: 1.3079 - accuracy: 0.5377 - val_loss: 1.5923 - val_accuracy: 0.4479\n",
      "Epoch 9/20\n",
      "1250/1250 [==============================] - 10s 8ms/step - loss: 1.2639 - accuracy: 0.5544 - val_loss: 1.6099 - val_accuracy: 0.4476\n",
      "Epoch 10/20\n",
      "1250/1250 [==============================] - 12s 9ms/step - loss: 1.2198 - accuracy: 0.5665 - val_loss: 1.6137 - val_accuracy: 0.4542\n",
      "Epoch 11/20\n",
      "1250/1250 [==============================] - 13s 10ms/step - loss: 1.1763 - accuracy: 0.5834 - val_loss: 1.6266 - val_accuracy: 0.4531\n",
      "Epoch 12/20\n",
      "1250/1250 [==============================] - 13s 10ms/step - loss: 1.1344 - accuracy: 0.6016 - val_loss: 1.6531 - val_accuracy: 0.4534\n",
      "Epoch 13/20\n",
      "1250/1250 [==============================] - 11s 8ms/step - loss: 1.0990 - accuracy: 0.6120 - val_loss: 1.6726 - val_accuracy: 0.4502\n",
      "Epoch 14/20\n",
      "1250/1250 [==============================] - 10s 8ms/step - loss: 1.0596 - accuracy: 0.6255 - val_loss: 1.6939 - val_accuracy: 0.4500\n",
      "Epoch 15/20\n",
      "1250/1250 [==============================] - 10s 8ms/step - loss: 1.0233 - accuracy: 0.6393 - val_loss: 1.7211 - val_accuracy: 0.4423\n",
      "Epoch 16/20\n",
      "1250/1250 [==============================] - 11s 9ms/step - loss: 0.9887 - accuracy: 0.6513 - val_loss: 1.7632 - val_accuracy: 0.4511\n",
      "Epoch 17/20\n",
      "1250/1250 [==============================] - 10s 8ms/step - loss: 0.9528 - accuracy: 0.6664 - val_loss: 1.7548 - val_accuracy: 0.4533\n",
      "Epoch 18/20\n",
      "1250/1250 [==============================] - 10s 8ms/step - loss: 0.9179 - accuracy: 0.6796 - val_loss: 1.8297 - val_accuracy: 0.4492\n",
      "Epoch 19/20\n",
      "1250/1250 [==============================] - 10s 8ms/step - loss: 0.8864 - accuracy: 0.6894 - val_loss: 1.8935 - val_accuracy: 0.4412\n",
      "Epoch 20/20\n",
      "1250/1250 [==============================] - 10s 8ms/step - loss: 0.8543 - accuracy: 0.7036 - val_loss: 1.9086 - val_accuracy: 0.4408\n"
     ]
    },
    {
     "data": {
      "text/plain": [
       "<tensorflow.python.keras.callbacks.History at 0x7fd57929eeb0>"
      ]
     },
     "execution_count": 14,
     "metadata": {},
     "output_type": "execute_result"
    }
   ],
   "source": [
    "# 모델 생성\n",
    "model=make_model_3()\n",
    "\n",
    "# 모델 컴파일\n",
    "model.compile(loss=\"sparse_categorical_crossentropy\",\n",
    "              optimizer=tf.keras.optimizers.Nadam(lr = 5e-5),\n",
    "              metrics=[\"accuracy\"])\n",
    "\n",
    "# 콜백 선언\n",
    "model_checkpoint_cb = tf.keras.callbacks.ModelCheckpoint(\"3_model.h5\", save_best_only=True)\n",
    "\n",
    "\n",
    "# 모델 훈련\n",
    "model.fit(x_train_scaled, y_train, \n",
    "          validation_split=0.2,\n",
    "          epochs=20,\n",
    "          callbacks=[model_checkpoint_cb])\n",
    "\n"
   ]
  },
  {
   "cell_type": "markdown",
   "metadata": {},
   "source": [
    "----\n",
    "# [  4 ] \n",
    "\n",
    "* **100**개의 뉴런을 가진 **은닉층** **20개**를 쌓아 심층 신경망을 만듭니다.\n",
    "* 모든 은닉층의 initializer는 **르쿤 초기화**를, 활성화 함수는 **Selu** 함수를 사용합니다.\n",
    "* 출력층은 **10개**의 뉴런과 **소프트맥스 활성화** 함수를 사용합니다. \n",
    "* 출력층에서는 **initializer**를 사용하지 않습니다."
   ]
  },
  {
   "cell_type": "code",
   "execution_count": 15,
   "metadata": {},
   "outputs": [],
   "source": [
    "def make_model_4():\n",
    "    \n",
    "    model = tf.keras.models.Sequential()\n",
    "    model.add(tf.keras.layers.InputLayer((32*32*3)))\n",
    "\n",
    "    for _ in range(20):\n",
    "        model.add(tf.keras.layers.Dense(100, activation=\"selu\", kernel_initializer='lecun_normal'))  \n",
    "        tf.keras.layers.BatchNormalization()\n",
    "    model.add(tf.keras.layers.Dense(10, activation=\"softmax\"))\n",
    "    \n",
    "    \n",
    "    return model"
   ]
  },
  {
   "cell_type": "markdown",
   "metadata": {},
   "source": [
    "* 옵티마이저는 **Nadam**을 사용합니다. Ndam의 학습률을 **5e-5** 로 초기화합니다\n",
    "* 콜백 ModelCheckpoint의 저장 이름을 **4_model.h5**로 바꿉니다."
   ]
  },
  {
   "cell_type": "code",
   "execution_count": 26,
   "metadata": {},
   "outputs": [
    {
     "name": "stdout",
     "output_type": "stream",
     "text": [
      "Epoch 1/20\n",
      "1250/1250 [==============================] - 9s 8ms/step - loss: 1.8912 - accuracy: 0.3243 - val_loss: 1.7505 - val_accuracy: 0.3761\n",
      "Epoch 2/20\n",
      "1250/1250 [==============================] - 9s 8ms/step - loss: 1.6586 - accuracy: 0.4100 - val_loss: 1.6673 - val_accuracy: 0.4019\n",
      "Epoch 3/20\n",
      "1250/1250 [==============================] - 9s 7ms/step - loss: 1.5601 - accuracy: 0.4442 - val_loss: 1.6150 - val_accuracy: 0.4258\n",
      "Epoch 4/20\n",
      "1250/1250 [==============================] - 9s 7ms/step - loss: 1.4867 - accuracy: 0.4706 - val_loss: 1.5675 - val_accuracy: 0.4511\n",
      "Epoch 5/20\n",
      "1250/1250 [==============================] - 9s 7ms/step - loss: 1.4241 - accuracy: 0.4931 - val_loss: 1.5393 - val_accuracy: 0.4566\n",
      "Epoch 6/20\n",
      "1250/1250 [==============================] - 9s 7ms/step - loss: 1.3720 - accuracy: 0.5159 - val_loss: 1.5389 - val_accuracy: 0.4627\n",
      "Epoch 7/20\n",
      "1250/1250 [==============================] - 9s 7ms/step - loss: 1.3223 - accuracy: 0.5297 - val_loss: 1.5358 - val_accuracy: 0.4625\n",
      "Epoch 8/20\n",
      "1250/1250 [==============================] - 9s 7ms/step - loss: 1.2795 - accuracy: 0.5452 - val_loss: 1.5208 - val_accuracy: 0.4742\n",
      "Epoch 9/20\n",
      "1250/1250 [==============================] - 9s 7ms/step - loss: 1.2375 - accuracy: 0.5604 - val_loss: 1.5105 - val_accuracy: 0.4746\n",
      "Epoch 10/20\n",
      "1250/1250 [==============================] - 9s 7ms/step - loss: 1.2013 - accuracy: 0.5749 - val_loss: 1.5334 - val_accuracy: 0.4770\n",
      "Epoch 11/20\n",
      "1250/1250 [==============================] - 9s 7ms/step - loss: 1.1651 - accuracy: 0.5884 - val_loss: 1.5334 - val_accuracy: 0.4775\n",
      "Epoch 12/20\n",
      "1250/1250 [==============================] - 9s 7ms/step - loss: 1.1312 - accuracy: 0.6011 - val_loss: 1.5306 - val_accuracy: 0.4794\n",
      "Epoch 13/20\n",
      "1250/1250 [==============================] - 9s 7ms/step - loss: 1.0954 - accuracy: 0.6133 - val_loss: 1.5387 - val_accuracy: 0.4802\n",
      "Epoch 14/20\n",
      "1250/1250 [==============================] - 9s 7ms/step - loss: 1.0615 - accuracy: 0.6248 - val_loss: 1.5693 - val_accuracy: 0.4793\n",
      "Epoch 15/20\n",
      "1250/1250 [==============================] - 9s 7ms/step - loss: 1.0318 - accuracy: 0.6363 - val_loss: 1.5681 - val_accuracy: 0.4863\n",
      "Epoch 16/20\n",
      "1250/1250 [==============================] - 9s 7ms/step - loss: 0.9998 - accuracy: 0.6482 - val_loss: 1.5866 - val_accuracy: 0.4773\n",
      "Epoch 17/20\n",
      "1250/1250 [==============================] - 9s 7ms/step - loss: 0.9715 - accuracy: 0.6594 - val_loss: 1.5988 - val_accuracy: 0.4850\n",
      "Epoch 18/20\n",
      "1250/1250 [==============================] - 9s 7ms/step - loss: 0.9416 - accuracy: 0.6696 - val_loss: 1.6262 - val_accuracy: 0.4867\n",
      "Epoch 19/20\n",
      "1250/1250 [==============================] - 9s 7ms/step - loss: 0.9136 - accuracy: 0.6814 - val_loss: 1.6468 - val_accuracy: 0.4800\n",
      "Epoch 20/20\n",
      "1250/1250 [==============================] - 9s 7ms/step - loss: 0.8845 - accuracy: 0.6901 - val_loss: 1.6786 - val_accuracy: 0.4777\n"
     ]
    },
    {
     "data": {
      "text/plain": [
       "<tensorflow.python.keras.callbacks.History at 0x7fd50ac92b50>"
      ]
     },
     "execution_count": 26,
     "metadata": {},
     "output_type": "execute_result"
    }
   ],
   "source": [
    "# 모델 생성\n",
    "model=make_model_4()\n",
    "\n",
    "# 모델 컴파일\n",
    "model.compile(loss=\"sparse_categorical_crossentropy\",\n",
    "              optimizer=tf.keras.optimizers.Nadam(lr = 5e-5),\n",
    "              metrics=[\"accuracy\"])\n",
    "\n",
    "# 콜백 선언\n",
    "model_checkpoint_cb = tf.keras.callbacks.ModelCheckpoint(\"4_model.h5\", save_best_only=True)\n",
    "\n",
    "\n",
    "# 모델 훈련\n",
    "model.fit(x_train_scaled, y_train, \n",
    "          validation_split=0.2,\n",
    "          epochs=20,\n",
    "          callbacks=[model_checkpoint_cb])\n"
   ]
  },
  {
   "cell_type": "markdown",
   "metadata": {},
   "source": [
    "## [ 5 ]\n",
    "\n",
    "* 지금까지 만든 6가지 모델을 불러오고 평가해 봅니다.\n",
    "* **tf.keras.models.load_model( )**을 통해 모델을 불러올 수 있습니다.\n",
    "* **model.evaluate( )**를 통해 모든 모델을 평가해 봅니다.\n",
    "* 불러오기 전에 아래 셀에서 각 모델의 특징을 간단히 메모하세요"
   ]
  },
  {
   "cell_type": "markdown",
   "metadata": {},
   "source": [
    "* model_11: he 초기화, relu 활성화 함수, adam 옵티마이저 \n",
    "* model_12: adam 옵티마이저 베타값 초기화  \n",
    "* model_21: he 초기화, elu 활성화 함수, \n",
    "* model_22: 21과 같은데 옵티마이저 nadam으로 바꿈 \n",
    "* model_3: 22와 같은데, 은닉층 다음에는 항상 batchnormalization 함 \n",
    "* model_4: lecun 초기화, selu 활성화 함수 "
   ]
  },
  {
   "cell_type": "code",
   "execution_count": 27,
   "metadata": {},
   "outputs": [],
   "source": [
    "# 모델 불러오기\n",
    "\n",
    "model_11 = tf.keras.models.load_model(\"1-1_model.h5\")\n",
    "model_12 = tf.keras.models.load_model(\"1-2_model.h5\")\n",
    "model_21 = tf.keras.models.load_model(\"2-1_model.h5\")\n",
    "model_22 = tf.keras.models.load_model(\"2-2_model.h5\")\n",
    "model_3 = tf.keras.models.load_model(\"3_model.h5\")\n",
    "model_4 = tf.keras.models.load_model(\"4_model.h5\")\n"
   ]
  },
  {
   "cell_type": "code",
   "execution_count": 35,
   "metadata": {},
   "outputs": [
    {
     "name": "stdout",
     "output_type": "stream",
     "text": [
      "313/313 [==============================] - 0s 1ms/step - loss: 44.4431 - accuracy: 0.0059\n"
     ]
    },
    {
     "data": {
      "text/plain": [
       "[44.443092346191406, 0.005900000222027302]"
      ]
     },
     "execution_count": 35,
     "metadata": {},
     "output_type": "execute_result"
    }
   ],
   "source": [
    "# 모델 평가 \n",
    "\n",
    "\n",
    "model_11.evaluate(x_test, y_test)"
   ]
  },
  {
   "cell_type": "code",
   "execution_count": 34,
   "metadata": {},
   "outputs": [
    {
     "name": "stdout",
     "output_type": "stream",
     "text": [
      "313/313 [==============================] - 0s 1ms/step - loss: 55.5990 - accuracy: 0.0554\n"
     ]
    },
    {
     "data": {
      "text/plain": [
       "[55.59902572631836, 0.055399999022483826]"
      ]
     },
     "execution_count": 34,
     "metadata": {},
     "output_type": "execute_result"
    }
   ],
   "source": [
    "model_12.evaluate(x_test, y_test)"
   ]
  },
  {
   "cell_type": "code",
   "execution_count": 33,
   "metadata": {},
   "outputs": [
    {
     "name": "stdout",
     "output_type": "stream",
     "text": [
      "313/313 [==============================] - 0s 1ms/step - loss: 40.3641 - accuracy: 0.1018\n"
     ]
    },
    {
     "data": {
      "text/plain": [
       "[40.3641357421875, 0.10180000215768814]"
      ]
     },
     "execution_count": 33,
     "metadata": {},
     "output_type": "execute_result"
    }
   ],
   "source": [
    "model_21.evaluate(x_test, y_test)"
   ]
  },
  {
   "cell_type": "code",
   "execution_count": 31,
   "metadata": {},
   "outputs": [
    {
     "name": "stdout",
     "output_type": "stream",
     "text": [
      "313/313 [==============================] - 0s 1ms/step - loss: 106.5057 - accuracy: 0.1327\n"
     ]
    },
    {
     "data": {
      "text/plain": [
       "[106.50566101074219, 0.13269999623298645]"
      ]
     },
     "execution_count": 31,
     "metadata": {},
     "output_type": "execute_result"
    }
   ],
   "source": [
    "model_22.evaluate(x_test, y_test)"
   ]
  },
  {
   "cell_type": "code",
   "execution_count": 28,
   "metadata": {},
   "outputs": [
    {
     "name": "stdout",
     "output_type": "stream",
     "text": [
      "313/313 [==============================] - 0s 1ms/step - loss: 71.4507 - accuracy: 0.8665\n"
     ]
    },
    {
     "data": {
      "text/plain": [
       "[71.45068359375, 0.8665000200271606]"
      ]
     },
     "execution_count": 28,
     "metadata": {},
     "output_type": "execute_result"
    }
   ],
   "source": [
    "model_3.evaluate(x_test, y_test)"
   ]
  },
  {
   "cell_type": "code",
   "execution_count": 25,
   "metadata": {},
   "outputs": [
    {
     "name": "stdout",
     "output_type": "stream",
     "text": [
      "313/313 [==============================] - 0s 1ms/step - loss: 4.7624 - accuracy: 0.0000e+00\n"
     ]
    },
    {
     "data": {
      "text/plain": [
       "[4.762378692626953, 0.0]"
      ]
     },
     "execution_count": 25,
     "metadata": {},
     "output_type": "execute_result"
    }
   ],
   "source": [
    "model_4.evaluate(x_test, y_test)"
   ]
  },
  {
   "cell_type": "code",
   "execution_count": null,
   "metadata": {},
   "outputs": [],
   "source": []
  }
 ],
 "metadata": {
  "kernelspec": {
   "display_name": "Python 3",
   "language": "python",
   "name": "python3"
  },
  "language_info": {
   "codemirror_mode": {
    "name": "ipython",
    "version": 3
   },
   "file_extension": ".py",
   "mimetype": "text/x-python",
   "name": "python",
   "nbconvert_exporter": "python",
   "pygments_lexer": "ipython3",
   "version": "3.8.3"
  }
 },
 "nbformat": 4,
 "nbformat_minor": 4
}
