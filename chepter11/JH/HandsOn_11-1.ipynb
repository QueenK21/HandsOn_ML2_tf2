{
 "cells": [
  {
   "cell_type": "markdown",
   "metadata": {},
   "source": [
    "# 11장\n",
    "### 11-1, 11-3\n",
    "----\n",
    "\n",
    "### Optimizer, Activation, Initializer를 조합하여 모델을 만들고 평가해 봅니다.\n",
    "\n",
    "* 수렴이 언제부터 시작되나요? \n",
    "\n",
    "* 모델의 성능은 어떤가요?\n",
    "\n",
    "* 전체 훈련 속도는 몇인가요? \n",
    "\n",
    "----"
   ]
  },
  {
   "cell_type": "markdown",
   "metadata": {},
   "source": [
    "# [ 0 ] \n",
    "\n",
    "* CIFAR10 데이터셋을 불러오세요. keras.datasets.cifar10.load_ data()를 사용하여 데이터를 적재할 수 있습니다.\n",
    "* 데이터셋의 차원을 확인해봅시다.\n",
    "* Dense layer을 사용하기 때문에 데이터의 shape을 1차원으로 바꿔야 합니다. ( np.reshape(데이터, (바꿀shape) ) 사용)"
   ]
  },
  {
   "cell_type": "code",
   "execution_count": 3,
   "metadata": {},
   "outputs": [],
   "source": [
    "import tensorflow as tf\n",
    "import numpy as np"
   ]
  },
  {
   "cell_type": "code",
   "execution_count": 4,
   "metadata": {},
   "outputs": [
    {
     "data": {
      "text/plain": [
       "((50000, 32, 32, 3), (50000, 1), (10000, 32, 32, 3), (10000, 1))"
      ]
     },
     "execution_count": 4,
     "metadata": {},
     "output_type": "execute_result"
    }
   ],
   "source": [
    "# load\n",
    "(x_train, y_train), (x_test, y_test) =  tf.keras.datasets.cifar10.load_data()\n",
    "x_train.shape, y_train.shape, x_test.shape, y_test.shape"
   ]
  },
  {
   "cell_type": "code",
   "execution_count": 5,
   "metadata": {},
   "outputs": [
    {
     "data": {
      "text/plain": [
       "((50000, 3072), (10000, 3072))"
      ]
     },
     "execution_count": 5,
     "metadata": {},
     "output_type": "execute_result"
    }
   ],
   "source": [
    "# reshape\n",
    "x_train = np.reshape(x_train,(50000, 32*32*3))\n",
    "x_test = np.reshape(x_test, (10000, 32*32*3))\n",
    "x_train.shape, x_test.shape"
   ]
  },
  {
   "cell_type": "code",
   "execution_count": 6,
   "metadata": {},
   "outputs": [],
   "source": [
    "# normalization\n",
    "\n",
    "pixel_means = x_train.mean(axis=0, keepdims=True)\n",
    "pixel_stds = x_train.std(axis=0, keepdims=True)\n",
    "x_train_scaled = (x_train - pixel_means) / pixel_stds\n",
    "x_test_scaled = (x_test - pixel_means) / pixel_stds\n"
   ]
  },
  {
   "cell_type": "markdown",
   "metadata": {},
   "source": [
    "----\n",
    "# [ 1 ]\n",
    "\n",
    "* **100**개의 뉴런을 가진 **은닉층** **20개**를 쌓아 심층 신경망을 만듭니다.\n",
    "* 모든 은닉층의 initializer는 **He 초기화**를, 활성화 함수는 **Relu** 함수를 사용합니다.\n",
    "* 출력층은 **10개**의 뉴런과 **소프트맥스 활성화** 함수를 사용합니다. \n",
    "* 출력층에서는 Initializer를 사용하지 않습니다. "
   ]
  },
  {
   "cell_type": "code",
   "execution_count": 5,
   "metadata": {},
   "outputs": [],
   "source": [
    "def make_model_1():\n",
    "    model = tf.keras.models.Sequential()\n",
    "    model.add(tf.keras.layers.InputLayer((32*32*3)))\n",
    "\n",
    "    for _ in range(20):\n",
    "        model.add(tf.keras.layers.Dense(100, activation=\"relu\", kernel_initializer='he_normal'))  \n",
    "    model.add(tf.keras.layers.Dense(10, activation=\"softmax\"))\n",
    "    return model"
   ]
  },
  {
   "cell_type": "markdown",
   "metadata": {},
   "source": [
    "## 1-1 )\n",
    "\n",
    "* 옵티마이저는 **Adam**를 사용합니다. \n",
    "* 모델 저장 이름은 **1-1_model.h5** 로 합니다."
   ]
  },
  {
   "cell_type": "code",
   "execution_count": 6,
   "metadata": {
    "scrolled": true
   },
   "outputs": [
    {
     "data": {
      "text/plain": [
       "('2.3.0', '2.4.0')"
      ]
     },
     "execution_count": 6,
     "metadata": {},
     "output_type": "execute_result"
    }
   ],
   "source": [
    "tf.__version__, tf.keras.__version__"
   ]
  },
  {
   "cell_type": "code",
   "execution_count": 7,
   "metadata": {
    "scrolled": true
   },
   "outputs": [
    {
     "name": "stdout",
     "output_type": "stream",
     "text": [
      "Epoch 1/20\n",
      "1250/1250 [==============================] - 8s 6ms/step - loss: 1.9866 - accuracy: 0.2374 - val_loss: 1.8667 - val_accuracy: 0.2972\n",
      "Epoch 2/20\n",
      "1250/1250 [==============================] - 7s 5ms/step - loss: 1.8109 - accuracy: 0.3135 - val_loss: 1.7636 - val_accuracy: 0.3422\n",
      "Epoch 3/20\n",
      "1250/1250 [==============================] - 8s 6ms/step - loss: 1.7340 - accuracy: 0.3534 - val_loss: 1.7744 - val_accuracy: 0.3570\n",
      "Epoch 4/20\n",
      "1250/1250 [==============================] - 7s 5ms/step - loss: 1.6853 - accuracy: 0.3772 - val_loss: 1.7041 - val_accuracy: 0.3763\n",
      "Epoch 5/20\n",
      "1250/1250 [==============================] - 8s 6ms/step - loss: 1.6299 - accuracy: 0.4016 - val_loss: 1.7062 - val_accuracy: 0.3828\n",
      "Epoch 6/20\n",
      "1250/1250 [==============================] - 8s 6ms/step - loss: 1.5918 - accuracy: 0.4194 - val_loss: 1.6326 - val_accuracy: 0.4155\n",
      "Epoch 7/20\n",
      "1250/1250 [==============================] - 8s 6ms/step - loss: 1.5813 - accuracy: 0.4287 - val_loss: 1.6427 - val_accuracy: 0.4283\n",
      "Epoch 8/20\n",
      "1250/1250 [==============================] - 7s 5ms/step - loss: 1.5283 - accuracy: 0.4491 - val_loss: 1.5903 - val_accuracy: 0.4269\n",
      "Epoch 9/20\n",
      "1250/1250 [==============================] - 7s 5ms/step - loss: 1.4961 - accuracy: 0.4622 - val_loss: 1.5917 - val_accuracy: 0.4382\n",
      "Epoch 10/20\n",
      "1250/1250 [==============================] - 8s 6ms/step - loss: 1.4849 - accuracy: 0.4702 - val_loss: 1.5859 - val_accuracy: 0.4402\n",
      "Epoch 11/20\n",
      "1250/1250 [==============================] - 7s 5ms/step - loss: 1.4871 - accuracy: 0.4697 - val_loss: 1.5823 - val_accuracy: 0.4384\n",
      "Epoch 12/20\n",
      "1250/1250 [==============================] - 8s 6ms/step - loss: 1.4367 - accuracy: 0.4845 - val_loss: 1.5698 - val_accuracy: 0.4423\n",
      "Epoch 13/20\n",
      "1250/1250 [==============================] - 9s 7ms/step - loss: 1.4244 - accuracy: 0.4913 - val_loss: 1.6194 - val_accuracy: 0.4413\n",
      "Epoch 14/20\n",
      "1250/1250 [==============================] - 7s 6ms/step - loss: 1.3913 - accuracy: 0.5072 - val_loss: 1.5861 - val_accuracy: 0.4532\n",
      "Epoch 15/20\n",
      "1250/1250 [==============================] - 7s 5ms/step - loss: 1.3660 - accuracy: 0.5173 - val_loss: 1.5405 - val_accuracy: 0.4683\n",
      "Epoch 16/20\n",
      "1250/1250 [==============================] - 6s 5ms/step - loss: 1.3347 - accuracy: 0.5288 - val_loss: 1.5685 - val_accuracy: 0.4625\n",
      "Epoch 17/20\n",
      "1250/1250 [==============================] - 6s 5ms/step - loss: 1.3413 - accuracy: 0.5270 - val_loss: 1.5606 - val_accuracy: 0.4631\n",
      "Epoch 18/20\n",
      "1250/1250 [==============================] - 7s 6ms/step - loss: 1.2987 - accuracy: 0.5420 - val_loss: 1.5231 - val_accuracy: 0.4772\n",
      "Epoch 19/20\n",
      "1250/1250 [==============================] - 8s 6ms/step - loss: 1.2777 - accuracy: 0.5513 - val_loss: 1.5458 - val_accuracy: 0.4760\n",
      "Epoch 20/20\n",
      "1250/1250 [==============================] - 8s 6ms/step - loss: 1.2758 - accuracy: 0.5534 - val_loss: 1.5605 - val_accuracy: 0.4768\n"
     ]
    },
    {
     "data": {
      "text/plain": [
       "<tensorflow.python.keras.callbacks.History at 0x7f99cf532430>"
      ]
     },
     "execution_count": 7,
     "metadata": {},
     "output_type": "execute_result"
    }
   ],
   "source": [
    "#모델 생성\n",
    "model=make_model_1()\n",
    "\n",
    "# 모델 컴파일\n",
    "model.compile(loss=\"sparse_categorical_crossentropy\",\n",
    "              optimizer=tf.keras.optimizers.Adam(),\n",
    "              metrics=[\"accuracy\"])\n",
    "\n",
    "# 콜백 선언\n",
    "model_checkpoint_cb = tf.keras.callbacks.ModelCheckpoint(\"1-1_model.h5\", save_best_only=True)\n",
    "\n",
    "# 모델 훈련\n",
    "model.fit(x_train_scaled, y_train, \n",
    "          validation_split=0.2,\n",
    "          epochs=20,\n",
    "          callbacks=[model_checkpoint_cb])"
   ]
  },
  {
   "cell_type": "markdown",
   "metadata": {},
   "source": [
    "## 1-2 )\n",
    "\n",
    "* 옵티마이저는 **Adam**을 사용합니다. Adam의 파라미터 **beta1**, **beta2**를 0.9, 0.999로 초기화 합니다. \n",
    "* 콜백 ModelCheckpoint의 저장 이름을 **1-2_model.h5**로 바꿉니다."
   ]
  },
  {
   "cell_type": "code",
   "execution_count": 9,
   "metadata": {
    "scrolled": true
   },
   "outputs": [
    {
     "name": "stdout",
     "output_type": "stream",
     "text": [
      "Epoch 1/20\n",
      "1250/1250 [==============================] - 9s 7ms/step - loss: 1.9763 - accuracy: 0.2525 - val_loss: 1.9293 - val_accuracy: 0.2562\n",
      "Epoch 2/20\n",
      "1250/1250 [==============================] - 8s 6ms/step - loss: 1.8297 - accuracy: 0.3112 - val_loss: 1.8419 - val_accuracy: 0.3055\n",
      "Epoch 3/20\n",
      "1250/1250 [==============================] - 8s 7ms/step - loss: 1.7468 - accuracy: 0.3487 - val_loss: 1.7532 - val_accuracy: 0.3613\n",
      "Epoch 4/20\n",
      "1250/1250 [==============================] - 8s 7ms/step - loss: 1.6909 - accuracy: 0.3737 - val_loss: 1.7724 - val_accuracy: 0.3715\n",
      "Epoch 5/20\n",
      "1250/1250 [==============================] - 7s 6ms/step - loss: 1.6447 - accuracy: 0.3956 - val_loss: 1.6885 - val_accuracy: 0.3758\n",
      "Epoch 6/20\n",
      "1250/1250 [==============================] - 7s 6ms/step - loss: 1.6039 - accuracy: 0.4157 - val_loss: 1.6773 - val_accuracy: 0.3900\n",
      "Epoch 7/20\n",
      "1250/1250 [==============================] - 10s 8ms/step - loss: 1.5675 - accuracy: 0.4324 - val_loss: 1.6593 - val_accuracy: 0.4093\n",
      "Epoch 8/20\n",
      "1250/1250 [==============================] - 7s 6ms/step - loss: 1.5377 - accuracy: 0.4468 - val_loss: 1.6217 - val_accuracy: 0.4154\n",
      "Epoch 9/20\n",
      "1250/1250 [==============================] - 7s 5ms/step - loss: 1.4994 - accuracy: 0.4629 - val_loss: 1.5966 - val_accuracy: 0.4283\n",
      "Epoch 10/20\n",
      "1250/1250 [==============================] - 7s 6ms/step - loss: 1.4854 - accuracy: 0.4670 - val_loss: 1.5833 - val_accuracy: 0.4444\n",
      "Epoch 11/20\n",
      "1250/1250 [==============================] - 7s 6ms/step - loss: 1.4563 - accuracy: 0.4773 - val_loss: 1.5727 - val_accuracy: 0.4469\n",
      "Epoch 12/20\n",
      "1250/1250 [==============================] - 8s 6ms/step - loss: 1.4360 - accuracy: 0.4879 - val_loss: 1.5593 - val_accuracy: 0.4506\n",
      "Epoch 13/20\n",
      "1250/1250 [==============================] - 7s 6ms/step - loss: 1.4080 - accuracy: 0.4967 - val_loss: 1.5649 - val_accuracy: 0.4509\n",
      "Epoch 14/20\n",
      "1250/1250 [==============================] - 7s 6ms/step - loss: 1.3779 - accuracy: 0.5101 - val_loss: 1.5825 - val_accuracy: 0.4506\n",
      "Epoch 15/20\n",
      "1250/1250 [==============================] - 6s 5ms/step - loss: 1.3729 - accuracy: 0.5132 - val_loss: 1.5875 - val_accuracy: 0.4597\n",
      "Epoch 16/20\n",
      "1250/1250 [==============================] - 6s 5ms/step - loss: 1.3409 - accuracy: 0.5257 - val_loss: 1.5587 - val_accuracy: 0.4610\n",
      "Epoch 17/20\n",
      "1250/1250 [==============================] - 6s 5ms/step - loss: 1.3227 - accuracy: 0.5304 - val_loss: 1.6002 - val_accuracy: 0.4589\n",
      "Epoch 18/20\n",
      "1250/1250 [==============================] - 7s 5ms/step - loss: 1.3047 - accuracy: 0.5388 - val_loss: 1.5583 - val_accuracy: 0.4500\n",
      "Epoch 19/20\n",
      "1250/1250 [==============================] - 7s 6ms/step - loss: 1.2900 - accuracy: 0.5434 - val_loss: 1.5180 - val_accuracy: 0.4724\n",
      "Epoch 20/20\n",
      "1250/1250 [==============================] - 8s 6ms/step - loss: 1.2732 - accuracy: 0.5518 - val_loss: 1.5529 - val_accuracy: 0.4767\n"
     ]
    },
    {
     "data": {
      "text/plain": [
       "<tensorflow.python.keras.callbacks.History at 0x7f9a4035a7f0>"
      ]
     },
     "execution_count": 9,
     "metadata": {},
     "output_type": "execute_result"
    }
   ],
   "source": [
    "# 모델 생성\n",
    "model=make_model_1()\n",
    "\n",
    "# 모델 컴파일\n",
    "model.compile(loss=\"sparse_categorical_crossentropy\",\n",
    "              optimizer=tf.keras.optimizers.Adam(beta_1=0.9, beta_2=0.999),\n",
    "              metrics=[\"accuracy\"])\n",
    "\n",
    "# 콜백 선언\n",
    "model_checkpoint_cb = tf.keras.callbacks.ModelCheckpoint(\"1-2_model.h5\", save_best_only=True)\n",
    "\n",
    "# 모델 훈련\n",
    "model.fit(x_train_scaled, y_train, \n",
    "          validation_split=0.2,\n",
    "          epochs=20,\n",
    "          callbacks=[model_checkpoint_cb])\n"
   ]
  },
  {
   "cell_type": "markdown",
   "metadata": {},
   "source": [
    "----\n",
    "# [ 2 ]\n",
    "\n",
    "* **100**개의 뉴런을 가진 **은닉층** **20개**를 쌓아 심층 신경망을 만듭니다.\n",
    "* 모든 은닉층의 initializer는 **He 초기화**를, 활성화 함수는 **Elu** 함수를 사용합니다.\n",
    "* 출력층은 **10개**의 뉴런과 **소프트맥스 활성화** 함수를 사용합니다. \n",
    "* 출력층에서는 **initializer**를 사용하지 않습니다. "
   ]
  },
  {
   "cell_type": "code",
   "execution_count": 10,
   "metadata": {},
   "outputs": [],
   "source": [
    "def make_model_2():\n",
    "    model = tf.keras.models.Sequential()\n",
    "    model.add(tf.keras.layers.InputLayer((32*32*3)))\n",
    "    \n",
    "    for _ in range(20):\n",
    "        model.add(tf.keras.layers.Dense(100, activation=\"elu\", kernel_initializer='he_normal'))  \n",
    "    \n",
    "    model.add(tf.keras.layers.Dense(10, activation=\"softmax\"))\n",
    "    \n",
    "    return model"
   ]
  },
  {
   "cell_type": "markdown",
   "metadata": {},
   "source": [
    "## 2-1 )\n",
    "\n",
    "* 옵티마이저는 **Adam**을 사용합니다. Adam의 파라미터 **beta1**, **beta2**를 0.9, 0.999로 초기화 합니다. \n",
    "* 콜백 ModelCheckpoint의 저장 이름을 **2-1_model.h5**로 바꿉니다."
   ]
  },
  {
   "cell_type": "code",
   "execution_count": 11,
   "metadata": {},
   "outputs": [
    {
     "name": "stdout",
     "output_type": "stream",
     "text": [
      "Epoch 1/20\n",
      "1250/1250 [==============================] - 10s 8ms/step - loss: 1.9572 - accuracy: 0.2857 - val_loss: 1.8065 - val_accuracy: 0.3349\n",
      "Epoch 2/20\n",
      "1250/1250 [==============================] - 7s 5ms/step - loss: 1.7374 - accuracy: 0.3729 - val_loss: 1.7342 - val_accuracy: 0.3922\n",
      "Epoch 3/20\n",
      "1250/1250 [==============================] - 7s 5ms/step - loss: 1.6617 - accuracy: 0.4065 - val_loss: 1.6820 - val_accuracy: 0.4058\n",
      "Epoch 4/20\n",
      "1250/1250 [==============================] - 7s 6ms/step - loss: 1.5963 - accuracy: 0.4301 - val_loss: 1.6439 - val_accuracy: 0.4285\n",
      "Epoch 5/20\n",
      "1250/1250 [==============================] - 8s 6ms/step - loss: 1.5483 - accuracy: 0.4463 - val_loss: 1.6082 - val_accuracy: 0.4267\n",
      "Epoch 6/20\n",
      "1250/1250 [==============================] - 8s 7ms/step - loss: 1.5252 - accuracy: 0.4585 - val_loss: 1.5938 - val_accuracy: 0.4322\n",
      "Epoch 7/20\n",
      "1250/1250 [==============================] - 8s 6ms/step - loss: 1.4750 - accuracy: 0.4791 - val_loss: 1.5536 - val_accuracy: 0.4628\n",
      "Epoch 8/20\n",
      "1250/1250 [==============================] - 8s 7ms/step - loss: 1.4472 - accuracy: 0.4903 - val_loss: 1.5847 - val_accuracy: 0.4576\n",
      "Epoch 9/20\n",
      "1250/1250 [==============================] - 7s 6ms/step - loss: 1.4021 - accuracy: 0.5086 - val_loss: 1.5624 - val_accuracy: 0.4619\n",
      "Epoch 10/20\n",
      "1250/1250 [==============================] - 6s 5ms/step - loss: 1.3893 - accuracy: 0.5098 - val_loss: 1.5921 - val_accuracy: 0.4612\n",
      "Epoch 11/20\n",
      "1250/1250 [==============================] - 6s 5ms/step - loss: 1.3285 - accuracy: 0.5311 - val_loss: 1.5744 - val_accuracy: 0.4581\n",
      "Epoch 12/20\n",
      "1250/1250 [==============================] - 7s 6ms/step - loss: 1.3022 - accuracy: 0.5429 - val_loss: 1.5616 - val_accuracy: 0.4654\n",
      "Epoch 13/20\n",
      "1250/1250 [==============================] - 8s 7ms/step - loss: 1.2848 - accuracy: 0.5484 - val_loss: 1.5495 - val_accuracy: 0.4752\n",
      "Epoch 14/20\n",
      "1250/1250 [==============================] - 7s 6ms/step - loss: 1.2645 - accuracy: 0.5569 - val_loss: 1.5342 - val_accuracy: 0.4702\n",
      "Epoch 15/20\n",
      "1250/1250 [==============================] - 7s 5ms/step - loss: 1.2360 - accuracy: 0.5695 - val_loss: 1.5919 - val_accuracy: 0.4620\n",
      "Epoch 16/20\n",
      "1250/1250 [==============================] - 11s 9ms/step - loss: 14.2785 - accuracy: 0.5457 - val_loss: 1.5261 - val_accuracy: 0.4701\n",
      "Epoch 17/20\n",
      "1250/1250 [==============================] - 9s 7ms/step - loss: 1.2054 - accuracy: 0.5737 - val_loss: 1.5143 - val_accuracy: 0.4846\n",
      "Epoch 18/20\n",
      "1250/1250 [==============================] - 8s 6ms/step - loss: 1.1677 - accuracy: 0.5882 - val_loss: 1.5023 - val_accuracy: 0.4894\n",
      "Epoch 19/20\n",
      "1250/1250 [==============================] - 8s 6ms/step - loss: 1.1521 - accuracy: 0.5946 - val_loss: 1.6453 - val_accuracy: 0.4316\n",
      "Epoch 20/20\n",
      "1250/1250 [==============================] - 8s 6ms/step - loss: 1.2324 - accuracy: 0.5669 - val_loss: 1.5154 - val_accuracy: 0.4857\n"
     ]
    },
    {
     "data": {
      "text/plain": [
       "<tensorflow.python.keras.callbacks.History at 0x7f9a404b38b0>"
      ]
     },
     "execution_count": 11,
     "metadata": {},
     "output_type": "execute_result"
    }
   ],
   "source": [
    "# 모델 생성\n",
    "model = make_model_2()\n",
    "\n",
    "# 모델 컴파일\n",
    "model.compile(loss=\"sparse_categorical_crossentropy\",\n",
    "              optimizer=tf.keras.optimizers.Adam(beta_1=0.9, beta_2=0.999),\n",
    "              metrics=[\"accuracy\"])\n",
    "\n",
    "# 콜백 선언\n",
    "model_checkpoint_cb = tf.keras.callbacks.ModelCheckpoint(\"2-1_model.h5\", save_best_only=True)\n",
    "\n",
    "# 모델 훈련\n",
    "model.fit(x_train_scaled, y_train, \n",
    "          validation_split=0.2,\n",
    "          epochs=20,\n",
    "          callbacks=[model_checkpoint_cb])"
   ]
  },
  {
   "cell_type": "markdown",
   "metadata": {},
   "source": [
    "## 2-2 )\n",
    "\n",
    "* 옵티마이저는 **Nadam**을 사용합니다. Ndam의 학습률을 **5e-5** 로 초기화합니다\n",
    "* 콜백 ModelCheckpoint의 저장 이름을 **2-2_model.h5**로 바꿉니다."
   ]
  },
  {
   "cell_type": "code",
   "execution_count": 12,
   "metadata": {
    "scrolled": true
   },
   "outputs": [
    {
     "name": "stdout",
     "output_type": "stream",
     "text": [
      "Epoch 1/20\n",
      "1250/1250 [==============================] - 15s 12ms/step - loss: 2.1591 - accuracy: 0.2565 - val_loss: 1.8889 - val_accuracy: 0.3201\n",
      "Epoch 2/20\n",
      "1250/1250 [==============================] - 13s 10ms/step - loss: 1.7736 - accuracy: 0.3578 - val_loss: 1.7703 - val_accuracy: 0.3595\n",
      "Epoch 3/20\n",
      "1250/1250 [==============================] - 13s 10ms/step - loss: 1.6561 - accuracy: 0.4030 - val_loss: 1.6892 - val_accuracy: 0.3976\n",
      "Epoch 4/20\n",
      "1250/1250 [==============================] - 17s 13ms/step - loss: 1.5615 - accuracy: 0.4378 - val_loss: 1.6520 - val_accuracy: 0.4170\n",
      "Epoch 5/20\n",
      "1250/1250 [==============================] - 17s 13ms/step - loss: 1.4870 - accuracy: 0.4672 - val_loss: 1.6135 - val_accuracy: 0.4293\n",
      "Epoch 6/20\n",
      "1250/1250 [==============================] - 15s 12ms/step - loss: 1.4237 - accuracy: 0.4913 - val_loss: 1.5926 - val_accuracy: 0.4400\n",
      "Epoch 7/20\n",
      "1250/1250 [==============================] - 15s 12ms/step - loss: 1.3690 - accuracy: 0.5104 - val_loss: 1.5760 - val_accuracy: 0.4440\n",
      "Epoch 8/20\n",
      "1250/1250 [==============================] - 15s 12ms/step - loss: 1.3190 - accuracy: 0.5293 - val_loss: 1.5803 - val_accuracy: 0.4505\n",
      "Epoch 9/20\n",
      "1250/1250 [==============================] - 15s 12ms/step - loss: 1.2716 - accuracy: 0.5450 - val_loss: 1.5828 - val_accuracy: 0.4459\n",
      "Epoch 10/20\n",
      "1250/1250 [==============================] - 15s 12ms/step - loss: 1.2306 - accuracy: 0.5617 - val_loss: 1.6064 - val_accuracy: 0.4481\n",
      "Epoch 11/20\n",
      "1250/1250 [==============================] - 15s 12ms/step - loss: 1.1870 - accuracy: 0.5773 - val_loss: 1.6030 - val_accuracy: 0.4528\n",
      "Epoch 12/20\n",
      "1250/1250 [==============================] - 16s 13ms/step - loss: 1.1480 - accuracy: 0.5925 - val_loss: 1.6189 - val_accuracy: 0.4523\n",
      "Epoch 13/20\n",
      "1250/1250 [==============================] - 15s 12ms/step - loss: 1.1098 - accuracy: 0.6074 - val_loss: 1.6415 - val_accuracy: 0.4484\n",
      "Epoch 14/20\n",
      "1250/1250 [==============================] - 15s 12ms/step - loss: 1.0721 - accuracy: 0.6189 - val_loss: 1.6791 - val_accuracy: 0.4522\n",
      "Epoch 15/20\n",
      "1250/1250 [==============================] - 15s 12ms/step - loss: 1.0392 - accuracy: 0.6314 - val_loss: 1.6763 - val_accuracy: 0.4528\n",
      "Epoch 16/20\n",
      "1250/1250 [==============================] - 15s 12ms/step - loss: 1.0023 - accuracy: 0.6442 - val_loss: 1.7403 - val_accuracy: 0.4439\n",
      "Epoch 17/20\n",
      "1250/1250 [==============================] - 15s 12ms/step - loss: 0.9679 - accuracy: 0.6566 - val_loss: 1.7462 - val_accuracy: 0.4524\n",
      "Epoch 18/20\n",
      "1250/1250 [==============================] - 15s 12ms/step - loss: 0.9329 - accuracy: 0.6712 - val_loss: 1.7591 - val_accuracy: 0.4520\n",
      "Epoch 19/20\n",
      "1250/1250 [==============================] - 14s 12ms/step - loss: 0.9024 - accuracy: 0.6820 - val_loss: 1.7848 - val_accuracy: 0.4502\n",
      "Epoch 20/20\n",
      "1250/1250 [==============================] - 17s 14ms/step - loss: 0.8687 - accuracy: 0.6953 - val_loss: 1.8373 - val_accuracy: 0.4540\n"
     ]
    },
    {
     "data": {
      "text/plain": [
       "<tensorflow.python.keras.callbacks.History at 0x7f9a20030670>"
      ]
     },
     "execution_count": 12,
     "metadata": {},
     "output_type": "execute_result"
    }
   ],
   "source": [
    "# 모델 생성\n",
    "model = make_model_2()\n",
    "\n",
    "# 모델 컴파일\n",
    "model.compile(loss=\"sparse_categorical_crossentropy\",\n",
    "              optimizer=tf.keras.optimizers.Nadam(learning_rate=5e-5),\n",
    "              metrics=[\"accuracy\"])\n",
    "\n",
    "# 콜백 선언\n",
    "model_checkpoint_cb = tf.keras.callbacks.ModelCheckpoint(\"2-2_model.h5\", save_best_only=True)\n",
    "\n",
    "# 모델 훈련\n",
    "model.fit(x_train_scaled, y_train, \n",
    "          validation_split=0.2,\n",
    "          epochs=20,\n",
    "          callbacks=[model_checkpoint_cb])"
   ]
  },
  {
   "cell_type": "markdown",
   "metadata": {},
   "source": [
    "----\n",
    "# [  3 ] \n",
    "\n",
    "* **100**개의 뉴런을 가진 **은닉층** **20개**를 쌓아 심층 신경망을 만듭니다.\n",
    "* 모든 은닉층의 initializer는 **He 초기화**를, 활성화 함수는 **Elu** 함수를 사용합니다.\n",
    "* 모든 은닉층의 다음층에서 BatchNormaliztion을 수행합니다. \n",
    "* 출력층은 **10개**의 뉴런과 **소프트맥스 활성화** 함수를 사용합니다. \n",
    "* 출력층에서는 **initializer**를 사용하지 않습니다. \n",
    "* 출력층 다음층에서는 BatchNormalization을 수행하지 않습니다."
   ]
  },
  {
   "cell_type": "code",
   "execution_count": 7,
   "metadata": {},
   "outputs": [],
   "source": [
    "def make_model_3():\n",
    "    model = tf.keras.models.Sequential()\n",
    "    model.add(tf.keras.layers.InputLayer((32*32*3)))\n",
    "    model.add(tf.keras.layers.BatchNormalization())\n",
    "    \n",
    "    for _ in range(20):\n",
    "        model.add(tf.keras.layers.Dense(100, activation=\"elu\", kernel_initializer='he_normal'))  \n",
    "        model.add(tf.keras.layers.BatchNormalization())\n",
    "    \n",
    "    model.add(tf.keras.layers.Dense(10, activation=\"softmax\"))\n",
    "    \n",
    "    return model"
   ]
  },
  {
   "cell_type": "markdown",
   "metadata": {},
   "source": [
    "* 옵티마이저는 **Nadam**을 사용합니다. Ndam의 학습률을 **5e-5** 로 초기화합니다\n",
    "* 콜백 ModelCheckpoint의 저장 이름을 **3_model.h5**로 바꿉니다."
   ]
  },
  {
   "cell_type": "code",
   "execution_count": 8,
   "metadata": {
    "scrolled": true
   },
   "outputs": [
    {
     "name": "stdout",
     "output_type": "stream",
     "text": [
      "Epoch 1/20\n",
      "1250/1250 [==============================] - 23s 18ms/step - loss: 2.2749 - accuracy: 0.2089 - val_loss: 1.9998 - val_accuracy: 0.2830\n",
      "Epoch 2/20\n",
      "1250/1250 [==============================] - 21s 17ms/step - loss: 1.9524 - accuracy: 0.2995 - val_loss: 1.8422 - val_accuracy: 0.3406\n",
      "Epoch 3/20\n",
      "1250/1250 [==============================] - 21s 17ms/step - loss: 1.8510 - accuracy: 0.3364 - val_loss: 1.7676 - val_accuracy: 0.3630\n",
      "Epoch 4/20\n",
      "1250/1250 [==============================] - 24s 20ms/step - loss: 1.7824 - accuracy: 0.3611 - val_loss: 1.7005 - val_accuracy: 0.3914\n",
      "Epoch 5/20\n",
      "1250/1250 [==============================] - 24s 19ms/step - loss: 1.7289 - accuracy: 0.3823 - val_loss: 1.6484 - val_accuracy: 0.4143\n",
      "Epoch 6/20\n",
      "1250/1250 [==============================] - 22s 18ms/step - loss: 1.6791 - accuracy: 0.4017 - val_loss: 1.6168 - val_accuracy: 0.4199\n",
      "Epoch 7/20\n",
      "1250/1250 [==============================] - 21s 17ms/step - loss: 1.6418 - accuracy: 0.4177 - val_loss: 1.5871 - val_accuracy: 0.4310\n",
      "Epoch 8/20\n",
      "1250/1250 [==============================] - 22s 17ms/step - loss: 1.6111 - accuracy: 0.4287 - val_loss: 1.5589 - val_accuracy: 0.4451\n",
      "Epoch 9/20\n",
      "1250/1250 [==============================] - 22s 18ms/step - loss: 1.5827 - accuracy: 0.4360 - val_loss: 1.5350 - val_accuracy: 0.4540\n",
      "Epoch 10/20\n",
      "1250/1250 [==============================] - 25s 20ms/step - loss: 1.5577 - accuracy: 0.4455 - val_loss: 1.5263 - val_accuracy: 0.4596\n",
      "Epoch 11/20\n",
      "1250/1250 [==============================] - 30s 24ms/step - loss: 1.5316 - accuracy: 0.4578 - val_loss: 1.5058 - val_accuracy: 0.4618\n",
      "Epoch 12/20\n",
      "1250/1250 [==============================] - 24s 19ms/step - loss: 1.5152 - accuracy: 0.4643 - val_loss: 1.4889 - val_accuracy: 0.4672\n",
      "Epoch 13/20\n",
      "1250/1250 [==============================] - 29s 23ms/step - loss: 1.4950 - accuracy: 0.4703 - val_loss: 1.4821 - val_accuracy: 0.4718\n",
      "Epoch 14/20\n",
      "1250/1250 [==============================] - 22s 17ms/step - loss: 1.4761 - accuracy: 0.4742 - val_loss: 1.4702 - val_accuracy: 0.4808\n",
      "Epoch 15/20\n",
      "1250/1250 [==============================] - 21s 17ms/step - loss: 1.4606 - accuracy: 0.4814 - val_loss: 1.4611 - val_accuracy: 0.4794\n",
      "Epoch 16/20\n",
      "1250/1250 [==============================] - 20s 16ms/step - loss: 1.4367 - accuracy: 0.4915 - val_loss: 1.4727 - val_accuracy: 0.4759\n",
      "Epoch 17/20\n",
      "1250/1250 [==============================] - 20s 16ms/step - loss: 1.4261 - accuracy: 0.4946 - val_loss: 1.4493 - val_accuracy: 0.4892\n",
      "Epoch 18/20\n",
      "1250/1250 [==============================] - 21s 17ms/step - loss: 1.4108 - accuracy: 0.5019 - val_loss: 1.4535 - val_accuracy: 0.4788\n",
      "Epoch 19/20\n",
      "1250/1250 [==============================] - 19s 16ms/step - loss: 1.3986 - accuracy: 0.5034 - val_loss: 1.4512 - val_accuracy: 0.4837\n",
      "Epoch 20/20\n",
      "1250/1250 [==============================] - 23s 18ms/step - loss: 1.3839 - accuracy: 0.5106 - val_loss: 1.4360 - val_accuracy: 0.4900\n"
     ]
    },
    {
     "data": {
      "text/plain": [
       "<tensorflow.python.keras.callbacks.History at 0x7fc0a6473400>"
      ]
     },
     "execution_count": 8,
     "metadata": {},
     "output_type": "execute_result"
    }
   ],
   "source": [
    "# 모델 생성\n",
    "model = make_model_3()\n",
    "\n",
    "# 모델 컴파일\n",
    "model.compile(loss=\"sparse_categorical_crossentropy\",\n",
    "              optimizer=tf.keras.optimizers.Nadam(learning_rate=5e-5),\n",
    "              metrics=[\"accuracy\"])\n",
    "\n",
    "# 콜백 선언\n",
    "model_checkpoint_cb = tf.keras.callbacks.ModelCheckpoint(\"3_model.h5\", save_best_only=True)\n",
    "\n",
    "# 모델 훈련\n",
    "model.fit(x_train_scaled, y_train, \n",
    "          validation_split=0.2,\n",
    "          epochs=20,\n",
    "          callbacks=[model_checkpoint_cb])"
   ]
  },
  {
   "cell_type": "markdown",
   "metadata": {},
   "source": [
    "----\n",
    "# [  4 ] \n",
    "\n",
    "* **100**개의 뉴런을 가진 **은닉층** **20개**를 쌓아 심층 신경망을 만듭니다.\n",
    "* 모든 은닉층의 initializer는 **르쿤 초기화**를, 활성화 함수는 **Selu** 함수를 사용합니다.\n",
    "* 출력층은 **10개**의 뉴런과 **소프트맥스 활성화** 함수를 사용합니다. \n",
    "* 출력층에서는 **initializer**를 사용하지 않습니다."
   ]
  },
  {
   "cell_type": "code",
   "execution_count": 17,
   "metadata": {},
   "outputs": [],
   "source": [
    "def make_model_4():\n",
    "    model = tf.keras.models.Sequential()\n",
    "    model.add(tf.keras.layers.InputLayer((32*32*3)))\n",
    "    \n",
    "    for _ in range(20):\n",
    "        model.add(tf.keras.layers.Dense(100, activation=\"selu\", kernel_initializer='lecun_normal'))  \n",
    "    \n",
    "    model.add(tf.keras.layers.Dense(10, activation=\"softmax\"))\n",
    "    \n",
    "    return model"
   ]
  },
  {
   "cell_type": "markdown",
   "metadata": {},
   "source": [
    "* 옵티마이저는 **Nadam**을 사용합니다. Ndam의 학습률을 **5e-5** 로 초기화합니다\n",
    "* 콜백 ModelCheckpoint의 저장 이름을 **4_model.h5**로 바꿉니다."
   ]
  },
  {
   "cell_type": "code",
   "execution_count": 18,
   "metadata": {
    "scrolled": true
   },
   "outputs": [
    {
     "name": "stdout",
     "output_type": "stream",
     "text": [
      "Epoch 1/20\n",
      "1250/1250 [==============================] - 16s 13ms/step - loss: 1.8883 - accuracy: 0.3287 - val_loss: 1.7367 - val_accuracy: 0.3819\n",
      "Epoch 2/20\n",
      "1250/1250 [==============================] - 16s 13ms/step - loss: 1.6446 - accuracy: 0.4128 - val_loss: 1.6454 - val_accuracy: 0.4178\n",
      "Epoch 3/20\n",
      "1250/1250 [==============================] - 16s 13ms/step - loss: 1.5448 - accuracy: 0.4498 - val_loss: 1.6013 - val_accuracy: 0.4319\n",
      "Epoch 4/20\n",
      "1250/1250 [==============================] - 15s 12ms/step - loss: 1.4699 - accuracy: 0.4738 - val_loss: 1.5675 - val_accuracy: 0.4463\n",
      "Epoch 5/20\n",
      "1250/1250 [==============================] - 15s 12ms/step - loss: 1.4159 - accuracy: 0.4966 - val_loss: 1.5419 - val_accuracy: 0.4566\n",
      "Epoch 6/20\n",
      "1250/1250 [==============================] - 15s 12ms/step - loss: 1.3663 - accuracy: 0.5147 - val_loss: 1.5284 - val_accuracy: 0.4626\n",
      "Epoch 7/20\n",
      "1250/1250 [==============================] - 15s 12ms/step - loss: 1.3183 - accuracy: 0.5316 - val_loss: 1.5262 - val_accuracy: 0.4681\n",
      "Epoch 8/20\n",
      "1250/1250 [==============================] - 15s 12ms/step - loss: 1.2729 - accuracy: 0.5495 - val_loss: 1.5192 - val_accuracy: 0.4718\n",
      "Epoch 9/20\n",
      "1250/1250 [==============================] - 16s 12ms/step - loss: 1.2346 - accuracy: 0.5615 - val_loss: 1.5198 - val_accuracy: 0.4742\n",
      "Epoch 10/20\n",
      "1250/1250 [==============================] - 16s 13ms/step - loss: 1.1969 - accuracy: 0.5750 - val_loss: 1.5260 - val_accuracy: 0.4806\n",
      "Epoch 11/20\n",
      "1250/1250 [==============================] - 18s 14ms/step - loss: 1.1610 - accuracy: 0.5881 - val_loss: 1.5267 - val_accuracy: 0.4822\n",
      "Epoch 12/20\n",
      "1250/1250 [==============================] - 17s 14ms/step - loss: 1.1237 - accuracy: 0.6018 - val_loss: 1.5468 - val_accuracy: 0.4745\n",
      "Epoch 13/20\n",
      "1250/1250 [==============================] - 16s 13ms/step - loss: 1.0907 - accuracy: 0.6122 - val_loss: 1.5484 - val_accuracy: 0.4768\n",
      "Epoch 14/20\n",
      "1250/1250 [==============================] - 16s 13ms/step - loss: 1.0584 - accuracy: 0.6256 - val_loss: 1.5728 - val_accuracy: 0.4788\n",
      "Epoch 15/20\n",
      "1250/1250 [==============================] - 16s 13ms/step - loss: 1.0265 - accuracy: 0.6360 - val_loss: 1.5868 - val_accuracy: 0.4823\n",
      "Epoch 16/20\n",
      "1250/1250 [==============================] - 16s 13ms/step - loss: 0.9940 - accuracy: 0.6479 - val_loss: 1.5938 - val_accuracy: 0.4806\n",
      "Epoch 17/20\n",
      "1250/1250 [==============================] - 16s 13ms/step - loss: 0.9633 - accuracy: 0.6576 - val_loss: 1.6128 - val_accuracy: 0.4843\n",
      "Epoch 18/20\n",
      "1250/1250 [==============================] - 16s 13ms/step - loss: 0.9342 - accuracy: 0.6681 - val_loss: 1.6316 - val_accuracy: 0.4795\n",
      "Epoch 19/20\n",
      "1250/1250 [==============================] - 16s 13ms/step - loss: 0.9077 - accuracy: 0.6801 - val_loss: 1.6607 - val_accuracy: 0.4793\n",
      "Epoch 20/20\n",
      "1250/1250 [==============================] - 16s 13ms/step - loss: 0.8783 - accuracy: 0.6903 - val_loss: 1.6719 - val_accuracy: 0.4799\n"
     ]
    },
    {
     "data": {
      "text/plain": [
       "<tensorflow.python.keras.callbacks.History at 0x7f98930cb550>"
      ]
     },
     "execution_count": 18,
     "metadata": {},
     "output_type": "execute_result"
    }
   ],
   "source": [
    "# 모델 생성\n",
    "model = make_model_4()\n",
    "\n",
    "# 모델 컴파일\n",
    "model.compile(loss=\"sparse_categorical_crossentropy\",\n",
    "              optimizer=tf.keras.optimizers.Nadam(learning_rate=5e-5),\n",
    "              metrics=[\"accuracy\"])\n",
    "\n",
    "# 콜백 선언\n",
    "model_checkpoint_cb = tf.keras.callbacks.ModelCheckpoint(\"4_model.h5\", save_best_only=True)\n",
    "\n",
    "# 모델 훈련\n",
    "model.fit(x_train_scaled, y_train, \n",
    "          validation_split=0.2,\n",
    "          epochs=20,\n",
    "          callbacks=[model_checkpoint_cb])"
   ]
  },
  {
   "cell_type": "markdown",
   "metadata": {},
   "source": [
    "## [ 5 ]\n",
    "\n",
    "* 지금까지 만든 6가지 모델을 불러오고 평가해 봅니다.\n",
    "* **tf.keras.models.load_model( )**을 통해 모델을 불러올 수 있습니다.\n",
    "* **model.evaluate( )**를 통해 모든 모델을 평가해 봅니다.\n",
    "* 불러오기 전에 아래 셀에서 각 모델의 특징을 간단히 메모하세요"
   ]
  },
  {
   "cell_type": "markdown",
   "metadata": {},
   "source": [
    "* model_11:\n",
    "* model_12:\n",
    "* model_21:\n",
    "* model_22:\n",
    "* model_3:\n",
    "* model_4:"
   ]
  },
  {
   "cell_type": "code",
   "execution_count": 10,
   "metadata": {},
   "outputs": [
    {
     "name": "stdout",
     "output_type": "stream",
     "text": [
      "model_11\n",
      "\n",
      "313/313 [==============================] - 1s 3ms/step - loss: 1.4986 - accuracy: 0.1211\n",
      "\n",
      "model_12\n",
      "\n",
      "313/313 [==============================] - 1s 2ms/step - loss: 1.5068 - accuracy: 0.1063\n",
      "\n",
      "model_21\n",
      "\n",
      "313/313 [==============================] - 1s 2ms/step - loss: 1.5052 - accuracy: 0.1135\n",
      "\n",
      "model_22\n",
      "\n",
      "313/313 [==============================] - 1s 3ms/step - loss: 1.5469 - accuracy: 0.0952\n",
      "\n",
      "model_3\n",
      "\n",
      "313/313 [==============================] - 1s 3ms/step - loss: 1.4333 - accuracy: 0.0952\n",
      "\n",
      "model_4\n",
      "\n",
      "313/313 [==============================] - 1s 2ms/step - loss: 1.4865 - accuracy: 0.1059\n"
     ]
    },
    {
     "data": {
      "text/plain": [
       "[1.4865167140960693, 0.10589999705553055]"
      ]
     },
     "execution_count": 10,
     "metadata": {},
     "output_type": "execute_result"
    }
   ],
   "source": [
    "model_11 = tf.keras.models.load_model(\"1-1_model.h5\")\n",
    "model_12 = tf.keras.models.load_model(\"1-2_model.h5\")\n",
    "model_21 = tf.keras.models.load_model(\"2-1_model.h5\")\n",
    "model_22 = tf.keras.models.load_model(\"2-2_model.h5\")\n",
    "model_3 = tf.keras.models.load_model(\"3_model.h5\")\n",
    "model_4 = tf.keras.models.load_model(\"4_model.h5\")\n",
    "\n",
    "print(\"model_11\\n\")\n",
    "model_11.evaluate(x_test_scaled, y_test)\n",
    "print(\"\\nmodel_12\\n\")\n",
    "model_12.evaluate(x_test_scaled, y_test)\n",
    "print(\"\\nmodel_21\\n\")\n",
    "model_21.evaluate(x_test_scaled, y_test)\n",
    "print(\"\\nmodel_22\\n\")\n",
    "model_22.evaluate(x_test_scaled, y_test)\n",
    "print(\"\\nmodel_3\\n\")\n",
    "model_3.evaluate(x_test_scaled, y_test)\n",
    "print(\"\\nmodel_4\\n\")\n",
    "model_4.evaluate(x_test_scaled, y_test)"
   ]
  },
  {
   "cell_type": "code",
   "execution_count": null,
   "metadata": {},
   "outputs": [],
   "source": []
  }
 ],
 "metadata": {
  "kernelspec": {
   "display_name": "Python 3",
   "language": "python",
   "name": "python3"
  },
  "language_info": {
   "codemirror_mode": {
    "name": "ipython",
    "version": 3
   },
   "file_extension": ".py",
   "mimetype": "text/x-python",
   "name": "python",
   "nbconvert_exporter": "python",
   "pygments_lexer": "ipython3",
   "version": "3.8.3"
  }
 },
 "nbformat": 4,
 "nbformat_minor": 4
}
