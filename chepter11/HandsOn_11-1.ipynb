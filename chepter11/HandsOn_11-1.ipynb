{
 "cells": [
  {
   "cell_type": "markdown",
   "metadata": {},
   "source": [
    "# 11장\n",
    "### 11-1, 11-3\n",
    "----\n",
    "\n",
    "### Optimizer, Activation, Initializer를 조합하여 모델을 만들고 평가해 봅니다.\n",
    "\n",
    "* 수렴이 언제부터 시작되나요? \n",
    "\n",
    "* 모델의 성능은 어떤가요?\n",
    "\n",
    "* 전체 훈련 속도는 몇인가요? \n",
    "\n",
    "----"
   ]
  },
  {
   "cell_type": "markdown",
   "metadata": {},
   "source": [
    "# [ 0 ] \n",
    "\n",
    "* CIFAR10 데이터셋을 불러오세요. tf.keras.datasets.cifar10.load_ data()를 사용하여 데이터를 적재할 수 있습니다.\n",
    "* 데이터셋의 차원을 확인해봅시다.\n",
    "* Dense layer을 사용하기 때문에 데이터의 shape을 1차원으로 바꿔야 합니다. ( np.reshape(데이터, (바꿀shape) ) 사용)"
   ]
  },
  {
   "cell_type": "code",
   "execution_count": 6,
   "metadata": {},
   "outputs": [],
   "source": [
    "import tensorflow as tf\n",
    "import numpy as np"
   ]
  },
  {
   "cell_type": "code",
   "execution_count": 7,
   "metadata": {},
   "outputs": [
    {
     "data": {
      "text/plain": [
       "((50000, 32, 32, 3), (10000, 32, 32, 3))"
      ]
     },
     "execution_count": 7,
     "metadata": {},
     "output_type": "execute_result"
    }
   ],
   "source": [
    "# load\n",
    "(x_train, y_train), (x_test, y_test) = tf.keras.datasets.cifar10.load_data()\n",
    "x_train.shape, x_test.shape"
   ]
  },
  {
   "cell_type": "code",
   "execution_count": 9,
   "metadata": {},
   "outputs": [],
   "source": [
    "# reshape\n",
    "\n",
    "x_train = np.reshape(x_train, (50000, 32*32*3))\n",
    "x_test = np.reshape(x_test, (10000, 32*32*3))"
   ]
  },
  {
   "cell_type": "code",
   "execution_count": 10,
   "metadata": {},
   "outputs": [],
   "source": [
    "# Standardization\n",
    "\n",
    "pixel_means = x_train.mean(axis=0, keepdims=True)\n",
    "pixel_stds = x_train.std(axis=0, keepdims=True)\n",
    "x_train_scaled = (x_train - pixel_means) / pixel_stds\n",
    "x_test_scaled = (x_train - pixel_means) / pixel_stds"
   ]
  },
  {
   "cell_type": "markdown",
   "metadata": {},
   "source": [
    "----\n",
    "# [ 1 ]\n",
    "\n",
    "* **100**개의 뉴런을 가진 **은닉층** **20개**를 쌓아 심층 신경망을 만듭니다.\n",
    "* 모든 은닉층의 initializer는 **He 초기화**를, 활성화 함수는 **Relu** 함수를 사용합니다.\n",
    "* 출력층은 **10개**의 뉴런과 **소프트맥스 활성화** 함수를 사용합니다. \n",
    "* 출력층에서는 Initializer를 사용하지 않습니다. "
   ]
  },
  {
   "cell_type": "code",
   "execution_count": 11,
   "metadata": {},
   "outputs": [],
   "source": [
    "def make_model_1():\n",
    "    model = tf.keras.models.Sequential()\n",
    "    model.add(tf.keras.layers.InputLayer((32*32*3)))\n",
    "\n",
    "    for _ in range(20):\n",
    "        model.add(tf.keras.layers.Dense(100, activation=\"relu\", kernel_initializer='he_normal'))  \n",
    "    model.add(tf.keras.layers.Dense(10, activation=\"softmax\"))\n",
    "    return model"
   ]
  },
  {
   "cell_type": "markdown",
   "metadata": {},
   "source": [
    "## 1-1 )\n",
    "\n",
    "* 옵티마이저는 **Adam**를 사용합니다. \n",
    "* 모델 저장 이름은 **1-1_model.h5** 로 합니다."
   ]
  },
  {
   "cell_type": "code",
   "execution_count": 12,
   "metadata": {},
   "outputs": [
    {
     "name": "stdout",
     "output_type": "stream",
     "text": [
      "Train on 40000 samples, validate on 10000 samples\n",
      "Epoch 1/20\n",
      "40000/40000 [==============================] - 7s 185us/sample - loss: 3.6964 - accuracy: 0.1809 - val_loss: 2.0317 - val_accuracy: 0.2328\n",
      "Epoch 2/20\n",
      "40000/40000 [==============================] - 7s 171us/sample - loss: 2.0454 - accuracy: 0.2263 - val_loss: 2.0082 - val_accuracy: 0.2445\n",
      "Epoch 3/20\n",
      "40000/40000 [==============================] - 7s 171us/sample - loss: 1.9873 - accuracy: 0.2470 - val_loss: 2.0085 - val_accuracy: 0.2473\n",
      "Epoch 4/20\n",
      "40000/40000 [==============================] - 7s 177us/sample - loss: 1.9539 - accuracy: 0.2652 - val_loss: 1.9575 - val_accuracy: 0.2623\n",
      "Epoch 5/20\n",
      "40000/40000 [==============================] - 7s 171us/sample - loss: 1.9118 - accuracy: 0.2849 - val_loss: 1.9209 - val_accuracy: 0.2868\n",
      "Epoch 6/20\n",
      "40000/40000 [==============================] - 7s 178us/sample - loss: 1.9003 - accuracy: 0.2974 - val_loss: 1.8989 - val_accuracy: 0.3035\n",
      "Epoch 7/20\n",
      "40000/40000 [==============================] - 7s 173us/sample - loss: 1.8745 - accuracy: 0.3103 - val_loss: 1.9052 - val_accuracy: 0.2730\n",
      "Epoch 8/20\n",
      "40000/40000 [==============================] - 7s 180us/sample - loss: 1.8676 - accuracy: 0.3137 - val_loss: 1.8500 - val_accuracy: 0.3027\n",
      "Epoch 9/20\n",
      "40000/40000 [==============================] - 7s 171us/sample - loss: 1.8451 - accuracy: 0.3191 - val_loss: 1.9321 - val_accuracy: 0.2613\n",
      "Epoch 10/20\n",
      "40000/40000 [==============================] - 7s 172us/sample - loss: 1.8374 - accuracy: 0.3225 - val_loss: 1.8238 - val_accuracy: 0.3322\n",
      "Epoch 11/20\n",
      "40000/40000 [==============================] - 7s 182us/sample - loss: 1.8030 - accuracy: 0.3373 - val_loss: 1.8059 - val_accuracy: 0.3368\n",
      "Epoch 12/20\n",
      "40000/40000 [==============================] - 7s 177us/sample - loss: 1.7772 - accuracy: 0.3513 - val_loss: 1.7578 - val_accuracy: 0.3605\n",
      "Epoch 13/20\n",
      "40000/40000 [==============================] - 7s 176us/sample - loss: 1.7551 - accuracy: 0.3649 - val_loss: 1.7540 - val_accuracy: 0.3689\n",
      "Epoch 14/20\n",
      "40000/40000 [==============================] - 7s 183us/sample - loss: 1.7450 - accuracy: 0.3645 - val_loss: 1.7334 - val_accuracy: 0.3763\n",
      "Epoch 15/20\n",
      "40000/40000 [==============================] - 7s 177us/sample - loss: 1.7284 - accuracy: 0.3747 - val_loss: 1.7478 - val_accuracy: 0.3665\n",
      "Epoch 16/20\n",
      "40000/40000 [==============================] - 7s 169us/sample - loss: 1.6984 - accuracy: 0.3871 - val_loss: 1.7307 - val_accuracy: 0.3683\n",
      "Epoch 17/20\n",
      "40000/40000 [==============================] - 7s 168us/sample - loss: 1.7041 - accuracy: 0.3817 - val_loss: 1.7311 - val_accuracy: 0.3790\n",
      "Epoch 18/20\n",
      "40000/40000 [==============================] - 7s 179us/sample - loss: 1.6989 - accuracy: 0.3896 - val_loss: 1.7015 - val_accuracy: 0.3838\n",
      "Epoch 19/20\n",
      "40000/40000 [==============================] - 7s 181us/sample - loss: 1.6692 - accuracy: 0.3999 - val_loss: 1.7003 - val_accuracy: 0.3896\n",
      "Epoch 20/20\n",
      "40000/40000 [==============================] - 7s 180us/sample - loss: 1.6738 - accuracy: 0.3970 - val_loss: 1.7193 - val_accuracy: 0.3856\n"
     ]
    },
    {
     "data": {
      "text/plain": [
       "<tensorflow.python.keras.callbacks.History at 0x14b538210>"
      ]
     },
     "execution_count": 12,
     "metadata": {},
     "output_type": "execute_result"
    }
   ],
   "source": [
    "#모델 생성\n",
    "model=make_model_1()\n",
    "\n",
    "# 모델 컴파일\n",
    "model.compile(loss=\"sparse_categorical_crossentropy\",\n",
    "              optimizer=tf.keras.optimizers.Adam(),\n",
    "              metrics=[\"accuracy\"])\n",
    "\n",
    "# 콜백 선언\n",
    "model_checkpoint_cb = tf.keras.callbacks.ModelCheckpoint(\"1-1_model.h5\", save_best_only=True)\n",
    "\n",
    "# 모델 훈련\n",
    "model.fit(x_train, y_train, \n",
    "          validation_split=0.2,\n",
    "          epochs=20,\n",
    "          callbacks=[model_checkpoint_cb])"
   ]
  },
  {
   "cell_type": "markdown",
   "metadata": {},
   "source": [
    "## 1-2 )\n",
    "\n",
    "* 옵티마이저는 **Adam**을 사용합니다. Adam의 파라미터 **beta1**, **beta2**를 0.9, 0.999로 초기화 합니다. \n",
    "* 콜백 ModelCheckpoint의 저장 이름을 **1-2_model.h5**로 바꿉니다."
   ]
  },
  {
   "cell_type": "code",
   "execution_count": 17,
   "metadata": {},
   "outputs": [],
   "source": [
    "optimizer=tf.keras.optimizers.Adam(beta_1=0.9, beta_2=0.99)"
   ]
  },
  {
   "cell_type": "code",
   "execution_count": 18,
   "metadata": {},
   "outputs": [
    {
     "data": {
      "text/plain": [
       "<tensorflow.python.keras.optimizer_v2.adam.Adam at 0x15158cb90>"
      ]
     },
     "execution_count": 18,
     "metadata": {},
     "output_type": "execute_result"
    }
   ],
   "source": [
    "optimizer."
   ]
  },
  {
   "cell_type": "code",
   "execution_count": 13,
   "metadata": {},
   "outputs": [
    {
     "name": "stdout",
     "output_type": "stream",
     "text": [
      "Train on 40000 samples, validate on 10000 samples\n",
      "Epoch 1/20\n",
      "40000/40000 [==============================] - 8s 201us/sample - loss: 3.2199 - accuracy: 0.1470 - val_loss: 2.1154 - val_accuracy: 0.1841\n",
      "Epoch 2/20\n",
      "40000/40000 [==============================] - 7s 179us/sample - loss: 2.0847 - accuracy: 0.1827 - val_loss: 2.0736 - val_accuracy: 0.1892\n",
      "Epoch 3/20\n",
      "40000/40000 [==============================] - 7s 181us/sample - loss: 2.0680 - accuracy: 0.1895 - val_loss: 2.0533 - val_accuracy: 0.1937\n",
      "Epoch 4/20\n",
      "40000/40000 [==============================] - 7s 183us/sample - loss: 2.0532 - accuracy: 0.1939 - val_loss: 2.0451 - val_accuracy: 0.1898\n",
      "Epoch 5/20\n",
      "40000/40000 [==============================] - 7s 178us/sample - loss: 2.0636 - accuracy: 0.1919 - val_loss: 2.0455 - val_accuracy: 0.1979\n",
      "Epoch 6/20\n",
      "40000/40000 [==============================] - 7s 176us/sample - loss: 2.0424 - accuracy: 0.1998 - val_loss: 2.0467 - val_accuracy: 0.2009\n",
      "Epoch 7/20\n",
      "40000/40000 [==============================] - 7s 184us/sample - loss: 2.0496 - accuracy: 0.1978 - val_loss: 2.0429 - val_accuracy: 0.2032\n",
      "Epoch 8/20\n",
      "40000/40000 [==============================] - 7s 183us/sample - loss: 2.0362 - accuracy: 0.2038 - val_loss: 2.0464 - val_accuracy: 0.2002\n",
      "Epoch 9/20\n",
      "40000/40000 [==============================] - 7s 187us/sample - loss: 2.0440 - accuracy: 0.2020 - val_loss: 2.0507 - val_accuracy: 0.2055\n",
      "Epoch 10/20\n",
      "40000/40000 [==============================] - 7s 186us/sample - loss: 2.0461 - accuracy: 0.1990 - val_loss: 2.0847 - val_accuracy: 0.1987\n",
      "Epoch 11/20\n",
      "40000/40000 [==============================] - 7s 177us/sample - loss: 2.0471 - accuracy: 0.2007 - val_loss: 2.0442 - val_accuracy: 0.1918\n",
      "Epoch 12/20\n",
      "40000/40000 [==============================] - 7s 176us/sample - loss: 2.0303 - accuracy: 0.2025 - val_loss: 2.0476 - val_accuracy: 0.2032\n",
      "Epoch 13/20\n",
      "40000/40000 [==============================] - 7s 185us/sample - loss: 2.0399 - accuracy: 0.2006 - val_loss: 2.0398 - val_accuracy: 0.2043\n",
      "Epoch 14/20\n",
      "40000/40000 [==============================] - 7s 185us/sample - loss: 2.0363 - accuracy: 0.2012 - val_loss: 2.0451 - val_accuracy: 0.2030\n",
      "Epoch 15/20\n",
      "40000/40000 [==============================] - 8s 189us/sample - loss: 2.2005 - accuracy: 0.1393 - val_loss: 2.2913 - val_accuracy: 0.1095\n",
      "Epoch 16/20\n",
      "40000/40000 [==============================] - 7s 185us/sample - loss: 2.1603 - accuracy: 0.1616 - val_loss: 2.2104 - val_accuracy: 0.1488\n",
      "Epoch 17/20\n",
      "40000/40000 [==============================] - 7s 185us/sample - loss: 2.1047 - accuracy: 0.1821 - val_loss: 2.0479 - val_accuracy: 0.1998\n",
      "Epoch 18/20\n",
      "40000/40000 [==============================] - 8s 188us/sample - loss: 2.0471 - accuracy: 0.2045 - val_loss: 2.0437 - val_accuracy: 0.2022\n",
      "Epoch 19/20\n",
      "40000/40000 [==============================] - 7s 181us/sample - loss: 2.0337 - accuracy: 0.2051 - val_loss: 2.0447 - val_accuracy: 0.2005\n",
      "Epoch 20/20\n",
      "40000/40000 [==============================] - 7s 181us/sample - loss: 2.0321 - accuracy: 0.2051 - val_loss: 2.0451 - val_accuracy: 0.1984\n"
     ]
    },
    {
     "data": {
      "text/plain": [
       "<tensorflow.python.keras.callbacks.History at 0x14c23b9d0>"
      ]
     },
     "execution_count": 13,
     "metadata": {},
     "output_type": "execute_result"
    }
   ],
   "source": [
    "#모델 생성\n",
    "model=make_model_1()\n",
    "\n",
    "# 모델 컴파일\n",
    "model.compile(loss=\"sparse_categorical_crossentropy\",\n",
    "              optimizer=tf.keras.optimizers.Adam(beta_1=0.9, beta_2=0.99),\n",
    "              metrics=[\"accuracy\"])\n",
    "\n",
    "# 콜백 선언\n",
    "model_checkpoint_cb = tf.keras.callbacks.ModelCheckpoint(\"1-2_model.h5\", save_best_only=True)\n",
    "\n",
    "# 모델 훈련\n",
    "model.fit(x_train, y_train, \n",
    "          validation_split=0.2,\n",
    "          epochs=20,\n",
    "          callbacks=[model_checkpoint_cb])"
   ]
  },
  {
   "cell_type": "markdown",
   "metadata": {},
   "source": [
    "----\n",
    "# [ 2 ]\n",
    "\n",
    "* **100**개의 뉴런을 가진 **은닉층** **20개**를 쌓아 심층 신경망을 만듭니다.\n",
    "* 모든 은닉층의 initializer는 **He 초기화**를, 활성화 함수는 **Elu** 함수를 사용합니다.\n",
    "* 출력층은 **10개**의 뉴런과 **소프트맥스 활성화** 함수를 사용합니다. \n",
    "* 출력층에서는 **initializer**를 사용하지 않습니다. "
   ]
  },
  {
   "cell_type": "code",
   "execution_count": null,
   "metadata": {},
   "outputs": [],
   "source": [
    "def make_model_2():\n",
    "\n",
    "    \n",
    "    \n",
    "    \n",
    "    \n",
    "    \n",
    "    return model"
   ]
  },
  {
   "cell_type": "markdown",
   "metadata": {},
   "source": [
    "## 2-1 )\n",
    "\n",
    "* 옵티마이저는 **Adam**을 사용합니다. Adam의 파라미터 **beta1**, **beta2**를 0.9, 0.999로 초기화 합니다. \n",
    "* 콜백 ModelCheckpoint의 저장 이름을 **2-1_model.h5**로 바꿉니다."
   ]
  },
  {
   "cell_type": "code",
   "execution_count": 59,
   "metadata": {},
   "outputs": [],
   "source": [
    "# 모델 생성\n",
    "\n",
    "\n",
    "# 모델 컴파일\n",
    "\n",
    "\n",
    "# 콜백 선언\n",
    "\n",
    "\n",
    "# 모델 훈련\n",
    "\n"
   ]
  },
  {
   "cell_type": "markdown",
   "metadata": {},
   "source": [
    "## 2-2 )\n",
    "\n",
    "* 옵티마이저는 **Nadam**을 사용합니다. Ndam의 학습률을 **5e-5** 로 초기화합니다\n",
    "* 콜백 ModelCheckpoint의 저장 이름을 **2-2_model.h5**로 바꿉니다."
   ]
  },
  {
   "cell_type": "code",
   "execution_count": 60,
   "metadata": {},
   "outputs": [],
   "source": [
    "# 모델 생성\n",
    "\n",
    "\n",
    "# 모델 컴파일\n",
    "\n",
    "\n",
    "# 콜백 선언\n",
    "\n",
    "\n",
    "# 모델 훈련\n",
    "\n"
   ]
  },
  {
   "cell_type": "markdown",
   "metadata": {},
   "source": [
    "----\n",
    "# [  3 ] \n",
    "\n",
    "* **100**개의 뉴런을 가진 **은닉층** **20개**를 쌓아 심층 신경망을 만듭니다.\n",
    "* 모든 은닉층의 initializer는 **He 초기화**를, 활성화 함수는 **Elu** 함수를 사용합니다.\n",
    "* 모든 은닉층의 다음층에서 BatchNormaliztion을 수행합니다. \n",
    "* 출력층은 **10개**의 뉴런과 **소프트맥스 활성화** 함수를 사용합니다. \n",
    "* 출력층에서는 **initializer**를 사용하지 않습니다. \n",
    "* 출력층 다음층에서는 BatchNormalization을 수행하지 않습니다."
   ]
  },
  {
   "cell_type": "code",
   "execution_count": 62,
   "metadata": {},
   "outputs": [],
   "source": [
    "def make_model_3():\n",
    "\n",
    "    \n",
    "    \n",
    "    \n",
    "    \n",
    "    \n",
    "    return model"
   ]
  },
  {
   "cell_type": "markdown",
   "metadata": {},
   "source": [
    "* 옵티마이저는 **Nadam**을 사용합니다. Nadam의 학습률을 **5e-5** 로 초기화합니다\n",
    "* 콜백 ModelCheckpoint의 저장 이름을 **3_model.h5**로 바꿉니다."
   ]
  },
  {
   "cell_type": "code",
   "execution_count": null,
   "metadata": {},
   "outputs": [],
   "source": [
    "# 모델 생성\n",
    "\n",
    "\n",
    "# 모델 컴파일\n",
    "\n",
    "\n",
    "# 콜백 선언\n",
    "\n",
    "\n",
    "# 모델 훈련\n"
   ]
  },
  {
   "cell_type": "markdown",
   "metadata": {},
   "source": [
    "----\n",
    "# [  4 ] \n",
    "\n",
    "* **100**개의 뉴런을 가진 **은닉층** **20개**를 쌓아 심층 신경망을 만듭니다.\n",
    "* 모든 은닉층의 initializer는 **르쿤 초기화**를, 활성화 함수는 **Selu** 함수를 사용합니다.\n",
    "* 출력층은 **10개**의 뉴런과 **소프트맥스 활성화** 함수를 사용합니다. \n",
    "* 출력층에서는 **initializer**를 사용하지 않습니다."
   ]
  },
  {
   "cell_type": "code",
   "execution_count": null,
   "metadata": {},
   "outputs": [],
   "source": [
    "def make_model_4():\n",
    "\n",
    "    \n",
    "    \n",
    "    \n",
    "    \n",
    "    \n",
    "    \n",
    "    return model"
   ]
  },
  {
   "cell_type": "markdown",
   "metadata": {},
   "source": [
    "* 옵티마이저는 **Nadam**을 사용합니다. Nadam의 학습률을 **5e-5** 로 초기화합니다\n",
    "* 콜백 ModelCheckpoint의 저장 이름을 **4_model.h5**로 바꿉니다."
   ]
  },
  {
   "cell_type": "code",
   "execution_count": 66,
   "metadata": {},
   "outputs": [],
   "source": [
    "# 모델 생성\n",
    "\n",
    "\n",
    "# 모델 컴파일\n",
    "\n",
    "\n",
    "# 콜백 선언\n",
    "\n",
    "\n",
    "# 모델 훈련\n",
    "\n"
   ]
  },
  {
   "cell_type": "markdown",
   "metadata": {},
   "source": [
    "# [ 5 ]\n",
    "\n",
    "* 지금까지 만든 6가지 모델을 불러오고 평가해 봅니다.\n",
    "* **tf.keras.models.load_model( )**을 통해 모델을 불러올 수 있습니다.\n",
    "* **model.evaluate( )**를 통해 모든 모델을 평가해 봅니다.\n",
    "* 불러오기 전에 아래 셀에서 각 모델의 특징을 간단히 메모하세요"
   ]
  },
  {
   "cell_type": "markdown",
   "metadata": {},
   "source": [
    "* model_11:\n",
    "* model_12:\n",
    "* model_21:\n",
    "* model_22:\n",
    "* model_3:\n",
    "* model_4:"
   ]
  },
  {
   "cell_type": "code",
   "execution_count": 19,
   "metadata": {},
   "outputs": [],
   "source": [
    "# 모델 불러오기\n",
    "\n",
    "\n",
    "model_11 = tf.keras.models.load_model('1-1_model.h5')\n",
    "model_11 = tf.keras.models.load_model('1-')"
   ]
  },
  {
   "cell_type": "code",
   "execution_count": 20,
   "metadata": {},
   "outputs": [
    {
     "name": "stdout",
     "output_type": "stream",
     "text": [
      "10000/10000 [==============================] - 1s 52us/sample - loss: 1.8688 - accuracy: 0.2908\n"
     ]
    },
    {
     "data": {
      "text/plain": [
       "[1.8688424198150635, 0.2908]"
      ]
     },
     "execution_count": 20,
     "metadata": {},
     "output_type": "execute_result"
    }
   ],
   "source": [
    "# 모델 평가\n",
    "\n",
    "model_11.evaluate(x_test, y_test)\n",
    "\n"
   ]
  },
  {
   "cell_type": "code",
   "execution_count": null,
   "metadata": {},
   "outputs": [],
   "source": []
  }
 ],
 "metadata": {
  "kernelspec": {
   "display_name": "Python 3",
   "language": "python",
   "name": "python3"
  },
  "language_info": {
   "codemirror_mode": {
    "name": "ipython",
    "version": 3
   },
   "file_extension": ".py",
   "mimetype": "text/x-python",
   "name": "python",
   "nbconvert_exporter": "python",
   "pygments_lexer": "ipython3",
   "version": "3.7.4"
  }
 },
 "nbformat": 4,
 "nbformat_minor": 4
}
